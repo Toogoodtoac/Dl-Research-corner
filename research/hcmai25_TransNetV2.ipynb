{
 "cells": [
  {
   "cell_type": "code",
   "execution_count": 1,
   "metadata": {
    "colab": {
     "base_uri": "https://localhost:8080/"
    },
    "executionInfo": {
     "elapsed": 24900,
     "status": "ok",
     "timestamp": 1755311926556,
     "user": {
      "displayName": "Trọng Nhân Trần",
      "userId": "03229783797276256440"
     },
     "user_tz": -420
    },
    "id": "nqAf3nL3oXR0",
    "outputId": "d4399756-ce53-481b-d997-7d81b715e83b"
   },
   "outputs": [
    {
     "name": "stdout",
     "output_type": "stream",
     "text": [
      "Mounted at /content/drive\n"
     ]
    }
   ],
   "source": [
    "from google.colab import drive\n",
    "drive.mount('/content/drive')"
   ]
  },
  {
   "cell_type": "code",
   "execution_count": 2,
   "metadata": {
    "colab": {
     "base_uri": "https://localhost:8080/",
     "height": 576
    },
    "executionInfo": {
     "elapsed": 6298,
     "status": "ok",
     "timestamp": 1755311932849,
     "user": {
      "displayName": "Trọng Nhân Trần",
      "userId": "03229783797276256440"
     },
     "user_tz": -420
    },
    "id": "9GxinwCWobfi",
    "outputId": "bb4747eb-2394-4a5d-874d-14d89a97b780"
   },
   "outputs": [
    {
     "name": "stdout",
     "output_type": "stream",
     "text": [
      "Collecting ffmpeg-python\n",
      "  Downloading ffmpeg_python-0.2.0-py3-none-any.whl.metadata (1.7 kB)\n",
      "Requirement already satisfied: pillow in /usr/local/lib/python3.11/dist-packages (11.3.0)\n",
      "Requirement already satisfied: future in /usr/local/lib/python3.11/dist-packages (from ffmpeg-python) (1.0.0)\n",
      "Downloading ffmpeg_python-0.2.0-py3-none-any.whl (25 kB)\n",
      "Installing collected packages: ffmpeg-python\n",
      "Successfully installed ffmpeg-python-0.2.0\n",
      "Cloning into 'TransNetV2'...\n",
      "remote: Enumerating objects: 362, done.\u001b[K\n",
      "remote: Counting objects: 100% (88/88), done.\u001b[K\n",
      "remote: Compressing objects: 100% (17/17), done.\u001b[K\n",
      "remote: Total 362 (delta 71), reused 71 (delta 71), pack-reused 274 (from 1)\u001b[K\n",
      "Receiving objects: 100% (362/362), 95.25 KiB | 9.52 MiB/s, done.\n",
      "Resolving deltas: 100% (210/210), done.\n",
      "Downloading inference/transnetv2-weights/saved_model.pb (5.9 MB)\n",
      "Error downloading object: inference/transnetv2-weights/saved_model.pb (8ac2a52): Smudge error: Error downloading inference/transnetv2-weights/saved_model.pb (8ac2a52c5719690d512805b6eaf5ce12097c1d8860b3d9de245dcbbc3100f554): batch response: This repository exceeded its LFS budget. The account responsible for the budget should increase it to restore access.\n",
      "\n",
      "Errors logged to /content/TransNetV2/.git/lfs/logs/20250816T023852.632962913.log\n",
      "Use `git lfs logs last` to view the log.\n",
      "error: external filter 'git-lfs filter-process' failed\n",
      "fatal: inference/transnetv2-weights/saved_model.pb: smudge filter lfs failed\n",
      "warning: Clone succeeded, but checkout failed.\n",
      "You can inspect what was checked out with 'git status'\n",
      "and retry with 'git restore --source=HEAD :/'\n",
      "\n",
      "/content/TransNetV2/inference\n"
     ]
    },
    {
     "data": {
      "application/vnd.google.colaboratory.intrinsic+json": {
       "type": "string"
      },
      "text/plain": [
       "'\\nTải về máy và kéo thả để thêm các file trong folder \"workspace/notebook/variable cho TransNetV2\" vào thư mục TransNetV2 vừa clone (do Repo này bị lỗi)\\n- Thêm saved_model.pb vào TransNetV2/inference/transnetv2-weights\\n- Thêm 2 files còn lại (variables.index, variables.data-...) vào TransNetV2/inference/transnetv2-weights/variables\\n'"
      ]
     },
     "execution_count": 2,
     "metadata": {},
     "output_type": "execute_result"
    }
   ],
   "source": [
    "!pip install ffmpeg-python pillow\n",
    "!git clone https://github.com/soCzech/TransNetV2.git\n",
    "%cd TransNetV2/inference\n",
    "\n",
    "# LƯU Ý TRƯỚC KHI CHẠY\n",
    "\"\"\"\n",
    "Tải về máy và kéo thả để thêm các file trong folder \"workspace/notebook/variable cho TransNetV2\" vào thư mục TransNetV2 vừa clone (do Repo này bị lỗi)\n",
    "- Thêm saved_model.pb vào TransNetV2/inference/transnetv2-weights\n",
    "- Thêm 2 files còn lại (variables.index, variables.data-...) vào TransNetV2/inference/transnetv2-weights/variables\n",
    "\"\"\""
   ]
  },
  {
   "cell_type": "code",
   "execution_count": 3,
   "metadata": {
    "executionInfo": {
     "elapsed": 9095,
     "status": "ok",
     "timestamp": 1755311946594,
     "user": {
      "displayName": "Trọng Nhân Trần",
      "userId": "03229783797276256440"
     },
     "user_tz": -420
    },
    "id": "b6mSN-KxodA5"
   },
   "outputs": [],
   "source": [
    "import os\n",
    "import cv2\n",
    "import json\n",
    "import glob\n",
    "import ffmpeg\n",
    "import torch\n",
    "import numpy as np\n",
    "from tqdm import tqdm\n",
    "from transnetv2 import TransNetV2\n",
    "import shutil\n",
    "import json"
   ]
  },
  {
   "cell_type": "code",
   "execution_count": 4,
   "metadata": {
    "colab": {
     "base_uri": "https://localhost:8080/"
    },
    "executionInfo": {
     "elapsed": 11959,
     "status": "ok",
     "timestamp": 1755312084077,
     "user": {
      "displayName": "Trọng Nhân Trần",
      "userId": "03229783797276256440"
     },
     "user_tz": -420
    },
    "id": "8FGm02Pwofr8",
    "outputId": "7a1e64a1-f4ab-432b-ac35-7b87e55d50a7"
   },
   "outputs": [
    {
     "name": "stdout",
     "output_type": "stream",
     "text": [
      "{'Videos_L21_a': {}, 'Videos_L22_a': {}, 'Videos_L23_a': {}, 'Videos_L24_a': {}, 'Videos_L25_a1': {}, 'Videos_L25_b': {}, 'Videos_L26_a': {}, 'Videos_L26_b': {}, 'Videos_L26_c': {}, 'Videos_L26_d': {}, 'Videos_L26_e': {}, 'Videos_L27_a': {}, 'Videos_L28_a': {}, 'Videos_L29_a': {}, 'Videos_L30_a': {}}\n",
      "{\"Videos_L21_a\": {\"L21_V001\": \"/content/drive/Shareddrives/data_btc/video_btc/Videos_L21_a/video/L21_V001.mp4\", \"L21_V002\": \"/content/drive/Shareddrives/data_btc/video_btc/Videos_L21_a/video/L21_V002.mp4\", \"L21_V003\": \"/content/drive/Shareddrives/data_btc/video_btc/Videos_L21_a/video/L21_V003.mp4\", \"L21_V005\": \"/content/drive/Shareddrives/data_btc/video_btc/Videos_L21_a/video/L21_V005.mp4\", \"L21_V006\": \"/content/drive/Shareddrives/data_btc/video_btc/Videos_L21_a/video/L21_V006.mp4\", \"L21_V007\": \"/content/drive/Shareddrives/data_btc/video_btc/Videos_L21_a/video/L21_V007.mp4\", \"L21_V008\": \"/content/drive/Shareddrives/data_btc/video_btc/Videos_L21_a/video/L21_V008.mp4\", \"L21_V009\": \"/content/drive/Shareddrives/data_btc/video_btc/Videos_L21_a/video/L21_V009.mp4\", \"L21_V010\": \"/content/drive/Shareddrives/data_btc/video_btc/Videos_L21_a/video/L21_V010.mp4\", \"L21_V011\": \"/content/drive/Shareddrives/data_btc/video_btc/Videos_L21_a/video/L21_V011.mp4\", \"L21_V012\": \"/content/drive/Shareddrives/data_btc/video_btc/Videos_L21_a/video/L21_V012.mp4\", \"L21_V013\": \"/content/drive/Shareddrives/data_btc/video_btc/Videos_L21_a/video/L21_V013.mp4\", \"L21_V014\": \"/content/drive/Shareddrives/data_btc/video_btc/Videos_L21_a/video/L21_V014.mp4\", \"L21_V015\": \"/content/drive/Shareddrives/data_btc/video_btc/Videos_L21_a/video/L21_V015.mp4\", \"L21_V016\": \"/content/drive/Shareddrives/data_btc/video_btc/Videos_L21_a/video/L21_V016.mp4\", \"L21_V017\": \"/content/drive/Shareddrives/data_btc/video_btc/Videos_L21_a/video/L21_V017.mp4\", \"L21_V018\": \"/content/drive/Shareddrives/data_btc/video_btc/Videos_L21_a/video/L21_V018.mp4\", \"L21_V019\": \"/content/drive/Shareddrives/data_btc/video_btc/Videos_L21_a/video/L21_V019.mp4\", \"L21_V021\": \"/content/drive/Shareddrives/data_btc/video_btc/Videos_L21_a/video/L21_V021.mp4\", \"L21_V022\": \"/content/drive/Shareddrives/data_btc/video_btc/Videos_L21_a/video/L21_V022.mp4\", \"L21_V023\": \"/content/drive/Shareddrives/data_btc/video_btc/Videos_L21_a/video/L21_V023.mp4\", \"L21_V024\": \"/content/drive/Shareddrives/data_btc/video_btc/Videos_L21_a/video/L21_V024.mp4\", \"L21_V025\": \"/content/drive/Shareddrives/data_btc/video_btc/Videos_L21_a/video/L21_V025.mp4\", \"L21_V026\": \"/content/drive/Shareddrives/data_btc/video_btc/Videos_L21_a/video/L21_V026.mp4\", \"L21_V027\": \"/content/drive/Shareddrives/data_btc/video_btc/Videos_L21_a/video/L21_V027.mp4\", \"L21_V028\": \"/content/drive/Shareddrives/data_btc/video_btc/Videos_L21_a/video/L21_V028.mp4\", \"L21_V029\": \"/content/drive/Shareddrives/data_btc/video_btc/Videos_L21_a/video/L21_V029.mp4\", \"L21_V030\": \"/content/drive/Shareddrives/data_btc/video_btc/Videos_L21_a/video/L21_V030.mp4\", \"L21_V031\": \"/content/drive/Shareddrives/data_btc/video_btc/Videos_L21_a/video/L21_V031.mp4\"}, \"Videos_L22_a\": {\"L22_V001\": \"/content/drive/Shareddrives/data_btc/video_btc/Videos_L22_a/video/L22_V001.mp4\", \"L22_V002\": \"/content/drive/Shareddrives/data_btc/video_btc/Videos_L22_a/video/L22_V002.mp4\", \"L22_V003\": \"/content/drive/Shareddrives/data_btc/video_btc/Videos_L22_a/video/L22_V003.mp4\", \"L22_V004\": \"/content/drive/Shareddrives/data_btc/video_btc/Videos_L22_a/video/L22_V004.mp4\", \"L22_V005\": \"/content/drive/Shareddrives/data_btc/video_btc/Videos_L22_a/video/L22_V005.mp4\", \"L22_V006\": \"/content/drive/Shareddrives/data_btc/video_btc/Videos_L22_a/video/L22_V006.mp4\", \"L22_V007\": \"/content/drive/Shareddrives/data_btc/video_btc/Videos_L22_a/video/L22_V007.mp4\", \"L22_V008\": \"/content/drive/Shareddrives/data_btc/video_btc/Videos_L22_a/video/L22_V008.mp4\", \"L22_V009\": \"/content/drive/Shareddrives/data_btc/video_btc/Videos_L22_a/video/L22_V009.mp4\", \"L22_V010\": \"/content/drive/Shareddrives/data_btc/video_btc/Videos_L22_a/video/L22_V010.mp4\", \"L22_V011\": \"/content/drive/Shareddrives/data_btc/video_btc/Videos_L22_a/video/L22_V011.mp4\", \"L22_V012\": \"/content/drive/Shareddrives/data_btc/video_btc/Videos_L22_a/video/L22_V012.mp4\", \"L22_V013\": \"/content/drive/Shareddrives/data_btc/video_btc/Videos_L22_a/video/L22_V013.mp4\", \"L22_V014\": \"/content/drive/Shareddrives/data_btc/video_btc/Videos_L22_a/video/L22_V014.mp4\", \"L22_V015\": \"/content/drive/Shareddrives/data_btc/video_btc/Videos_L22_a/video/L22_V015.mp4\", \"L22_V016\": \"/content/drive/Shareddrives/data_btc/video_btc/Videos_L22_a/video/L22_V016.mp4\", \"L22_V017\": \"/content/drive/Shareddrives/data_btc/video_btc/Videos_L22_a/video/L22_V017.mp4\", \"L22_V018\": \"/content/drive/Shareddrives/data_btc/video_btc/Videos_L22_a/video/L22_V018.mp4\", \"L22_V019\": \"/content/drive/Shareddrives/data_btc/video_btc/Videos_L22_a/video/L22_V019.mp4\", \"L22_V020\": \"/content/drive/Shareddrives/data_btc/video_btc/Videos_L22_a/video/L22_V020.mp4\", \"L22_V021\": \"/content/drive/Shareddrives/data_btc/video_btc/Videos_L22_a/video/L22_V021.mp4\", \"L22_V022\": \"/content/drive/Shareddrives/data_btc/video_btc/Videos_L22_a/video/L22_V022.mp4\", \"L22_V023\": \"/content/drive/Shareddrives/data_btc/video_btc/Videos_L22_a/video/L22_V023.mp4\", \"L22_V024\": \"/content/drive/Shareddrives/data_btc/video_btc/Videos_L22_a/video/L22_V024.mp4\", \"L22_V025\": \"/content/drive/Shareddrives/data_btc/video_btc/Videos_L22_a/video/L22_V025.mp4\", \"L22_V026\": \"/content/drive/Shareddrives/data_btc/video_btc/Videos_L22_a/video/L22_V026.mp4\", \"L22_V027\": \"/content/drive/Shareddrives/data_btc/video_btc/Videos_L22_a/video/L22_V027.mp4\", \"L22_V028\": \"/content/drive/Shareddrives/data_btc/video_btc/Videos_L22_a/video/L22_V028.mp4\", \"L22_V029\": \"/content/drive/Shareddrives/data_btc/video_btc/Videos_L22_a/video/L22_V029.mp4\", \"L22_V030\": \"/content/drive/Shareddrives/data_btc/video_btc/Videos_L22_a/video/L22_V030.mp4\", \"L22_V031\": \"/content/drive/Shareddrives/data_btc/video_btc/Videos_L22_a/video/L22_V031.mp4\"}, \"Videos_L23_a\": {\"L23_V001\": \"/content/drive/Shareddrives/data_btc/video_btc/Videos_L23_a/video/L23_V001.mp4\", \"L23_V002\": \"/content/drive/Shareddrives/data_btc/video_btc/Videos_L23_a/video/L23_V002.mp4\", \"L23_V003\": \"/content/drive/Shareddrives/data_btc/video_btc/Videos_L23_a/video/L23_V003.mp4\", \"L23_V004\": \"/content/drive/Shareddrives/data_btc/video_btc/Videos_L23_a/video/L23_V004.mp4\", \"L23_V005\": \"/content/drive/Shareddrives/data_btc/video_btc/Videos_L23_a/video/L23_V005.mp4\", \"L23_V006\": \"/content/drive/Shareddrives/data_btc/video_btc/Videos_L23_a/video/L23_V006.mp4\", \"L23_V007\": \"/content/drive/Shareddrives/data_btc/video_btc/Videos_L23_a/video/L23_V007.mp4\", \"L23_V008\": \"/content/drive/Shareddrives/data_btc/video_btc/Videos_L23_a/video/L23_V008.mp4\", \"L23_V009\": \"/content/drive/Shareddrives/data_btc/video_btc/Videos_L23_a/video/L23_V009.mp4\", \"L23_V010\": \"/content/drive/Shareddrives/data_btc/video_btc/Videos_L23_a/video/L23_V010.mp4\", \"L23_V011\": \"/content/drive/Shareddrives/data_btc/video_btc/Videos_L23_a/video/L23_V011.mp4\", \"L23_V012\": \"/content/drive/Shareddrives/data_btc/video_btc/Videos_L23_a/video/L23_V012.mp4\", \"L23_V013\": \"/content/drive/Shareddrives/data_btc/video_btc/Videos_L23_a/video/L23_V013.mp4\", \"L23_V014\": \"/content/drive/Shareddrives/data_btc/video_btc/Videos_L23_a/video/L23_V014.mp4\", \"L23_V015\": \"/content/drive/Shareddrives/data_btc/video_btc/Videos_L23_a/video/L23_V015.mp4\", \"L23_V016\": \"/content/drive/Shareddrives/data_btc/video_btc/Videos_L23_a/video/L23_V016.mp4\", \"L23_V017\": \"/content/drive/Shareddrives/data_btc/video_btc/Videos_L23_a/video/L23_V017.mp4\", \"L23_V018\": \"/content/drive/Shareddrives/data_btc/video_btc/Videos_L23_a/video/L23_V018.mp4\", \"L23_V019\": \"/content/drive/Shareddrives/data_btc/video_btc/Videos_L23_a/video/L23_V019.mp4\", \"L23_V020\": \"/content/drive/Shareddrives/data_btc/video_btc/Videos_L23_a/video/L23_V020.mp4\", \"L23_V021\": \"/content/drive/Shareddrives/data_btc/video_btc/Videos_L23_a/video/L23_V021.mp4\", \"L23_V022\": \"/content/drive/Shareddrives/data_btc/video_btc/Videos_L23_a/video/L23_V022.mp4\", \"L23_V023\": \"/content/drive/Shareddrives/data_btc/video_btc/Videos_L23_a/video/L23_V023.mp4\", \"L23_V024\": \"/content/drive/Shareddrives/data_btc/video_btc/Videos_L23_a/video/L23_V024.mp4\", \"L23_V025\": \"/content/drive/Shareddrives/data_btc/video_btc/Videos_L23_a/video/L23_V025.mp4\"}, \"Videos_L24_a\": {\"L24_V002\": \"/content/drive/Shareddrives/data_btc/video_btc/Videos_L24_a/video/L24_V002.mp4\", \"L24_V003\": \"/content/drive/Shareddrives/data_btc/video_btc/Videos_L24_a/video/L24_V003.mp4\", \"L24_V004\": \"/content/drive/Shareddrives/data_btc/video_btc/Videos_L24_a/video/L24_V004.mp4\", \"L24_V005\": \"/content/drive/Shareddrives/data_btc/video_btc/Videos_L24_a/video/L24_V005.mp4\", \"L24_V006\": \"/content/drive/Shareddrives/data_btc/video_btc/Videos_L24_a/video/L24_V006.mp4\", \"L24_V007\": \"/content/drive/Shareddrives/data_btc/video_btc/Videos_L24_a/video/L24_V007.mp4\", \"L24_V008\": \"/content/drive/Shareddrives/data_btc/video_btc/Videos_L24_a/video/L24_V008.mp4\", \"L24_V009\": \"/content/drive/Shareddrives/data_btc/video_btc/Videos_L24_a/video/L24_V009.mp4\", \"L24_V010\": \"/content/drive/Shareddrives/data_btc/video_btc/Videos_L24_a/video/L24_V010.mp4\", \"L24_V011\": \"/content/drive/Shareddrives/data_btc/video_btc/Videos_L24_a/video/L24_V011.mp4\", \"L24_V012\": \"/content/drive/Shareddrives/data_btc/video_btc/Videos_L24_a/video/L24_V012.mp4\", \"L24_V013\": \"/content/drive/Shareddrives/data_btc/video_btc/Videos_L24_a/video/L24_V013.mp4\", \"L24_V014\": \"/content/drive/Shareddrives/data_btc/video_btc/Videos_L24_a/video/L24_V014.mp4\", \"L24_V015\": \"/content/drive/Shareddrives/data_btc/video_btc/Videos_L24_a/video/L24_V015.mp4\", \"L24_V016\": \"/content/drive/Shareddrives/data_btc/video_btc/Videos_L24_a/video/L24_V016.mp4\", \"L24_V017\": \"/content/drive/Shareddrives/data_btc/video_btc/Videos_L24_a/video/L24_V017.mp4\", \"L24_V018\": \"/content/drive/Shareddrives/data_btc/video_btc/Videos_L24_a/video/L24_V018.mp4\", \"L24_V019\": \"/content/drive/Shareddrives/data_btc/video_btc/Videos_L24_a/video/L24_V019.mp4\", \"L24_V020\": \"/content/drive/Shareddrives/data_btc/video_btc/Videos_L24_a/video/L24_V020.mp4\", \"L24_V021\": \"/content/drive/Shareddrives/data_btc/video_btc/Videos_L24_a/video/L24_V021.mp4\", \"L24_V022\": \"/content/drive/Shareddrives/data_btc/video_btc/Videos_L24_a/video/L24_V022.mp4\", \"L24_V023\": \"/content/drive/Shareddrives/data_btc/video_btc/Videos_L24_a/video/L24_V023.mp4\", \"L24_V024\": \"/content/drive/Shareddrives/data_btc/video_btc/Videos_L24_a/video/L24_V024.mp4\", \"L24_V025\": \"/content/drive/Shareddrives/data_btc/video_btc/Videos_L24_a/video/L24_V025.mp4\", \"L24_V026\": \"/content/drive/Shareddrives/data_btc/video_btc/Videos_L24_a/video/L24_V026.mp4\", \"L24_V027\": \"/content/drive/Shareddrives/data_btc/video_btc/Videos_L24_a/video/L24_V027.mp4\", \"L24_V028\": \"/content/drive/Shareddrives/data_btc/video_btc/Videos_L24_a/video/L24_V028.mp4\", \"L24_V029\": \"/content/drive/Shareddrives/data_btc/video_btc/Videos_L24_a/video/L24_V029.mp4\", \"L24_V030\": \"/content/drive/Shareddrives/data_btc/video_btc/Videos_L24_a/video/L24_V030.mp4\", \"L24_V031\": \"/content/drive/Shareddrives/data_btc/video_btc/Videos_L24_a/video/L24_V031.mp4\", \"L24_V032\": \"/content/drive/Shareddrives/data_btc/video_btc/Videos_L24_a/video/L24_V032.mp4\", \"L24_V033\": \"/content/drive/Shareddrives/data_btc/video_btc/Videos_L24_a/video/L24_V033.mp4\", \"L24_V035\": \"/content/drive/Shareddrives/data_btc/video_btc/Videos_L24_a/video/L24_V035.mp4\", \"L24_V036\": \"/content/drive/Shareddrives/data_btc/video_btc/Videos_L24_a/video/L24_V036.mp4\", \"L24_V037\": \"/content/drive/Shareddrives/data_btc/video_btc/Videos_L24_a/video/L24_V037.mp4\", \"L24_V038\": \"/content/drive/Shareddrives/data_btc/video_btc/Videos_L24_a/video/L24_V038.mp4\", \"L24_V039\": \"/content/drive/Shareddrives/data_btc/video_btc/Videos_L24_a/video/L24_V039.mp4\", \"L24_V040\": \"/content/drive/Shareddrives/data_btc/video_btc/Videos_L24_a/video/L24_V040.mp4\", \"L24_V041\": \"/content/drive/Shareddrives/data_btc/video_btc/Videos_L24_a/video/L24_V041.mp4\", \"L24_V042\": \"/content/drive/Shareddrives/data_btc/video_btc/Videos_L24_a/video/L24_V042.mp4\", \"L24_V043\": \"/content/drive/Shareddrives/data_btc/video_btc/Videos_L24_a/video/L24_V043.mp4\", \"L24_V044\": \"/content/drive/Shareddrives/data_btc/video_btc/Videos_L24_a/video/L24_V044.mp4\", \"L24_V045\": \"/content/drive/Shareddrives/data_btc/video_btc/Videos_L24_a/video/L24_V045.mp4\"}, \"Videos_L25_a1\": {\"L25_V001\": \"/content/drive/Shareddrives/data_btc/video_btc/Videos_L25_a1/video/L25_V001.mp4\", \"L25_V002\": \"/content/drive/Shareddrives/data_btc/video_btc/Videos_L25_a1/video/L25_V002.mp4\", \"L25_V003\": \"/content/drive/Shareddrives/data_btc/video_btc/Videos_L25_a1/video/L25_V003.mp4\", \"L25_V004\": \"/content/drive/Shareddrives/data_btc/video_btc/Videos_L25_a1/video/L25_V004.mp4\", \"L25_V005\": \"/content/drive/Shareddrives/data_btc/video_btc/Videos_L25_a1/video/L25_V005.mp4\", \"L25_V006\": \"/content/drive/Shareddrives/data_btc/video_btc/Videos_L25_a1/video/L25_V006.mp4\", \"L25_V007\": \"/content/drive/Shareddrives/data_btc/video_btc/Videos_L25_a1/video/L25_V007.mp4\", \"L25_V008\": \"/content/drive/Shareddrives/data_btc/video_btc/Videos_L25_a1/video/L25_V008.mp4\", \"L25_V009\": \"/content/drive/Shareddrives/data_btc/video_btc/Videos_L25_a1/video/L25_V009.mp4\", \"L25_V010\": \"/content/drive/Shareddrives/data_btc/video_btc/Videos_L25_a1/video/L25_V010.mp4\", \"L25_V011\": \"/content/drive/Shareddrives/data_btc/video_btc/Videos_L25_a1/video/L25_V011.mp4\", \"L25_V012\": \"/content/drive/Shareddrives/data_btc/video_btc/Videos_L25_a1/video/L25_V012.mp4\", \"L25_V013\": \"/content/drive/Shareddrives/data_btc/video_btc/Videos_L25_a1/video/L25_V013.mp4\", \"L25_V014\": \"/content/drive/Shareddrives/data_btc/video_btc/Videos_L25_a1/video/L25_V014.mp4\", \"L25_V015\": \"/content/drive/Shareddrives/data_btc/video_btc/Videos_L25_a1/video/L25_V015.mp4\", \"L25_V016\": \"/content/drive/Shareddrives/data_btc/video_btc/Videos_L25_a1/video/L25_V016.mp4\", \"L25_V017\": \"/content/drive/Shareddrives/data_btc/video_btc/Videos_L25_a1/video/L25_V017.mp4\", \"L25_V018\": \"/content/drive/Shareddrives/data_btc/video_btc/Videos_L25_a1/video/L25_V018.mp4\", \"L25_V019\": \"/content/drive/Shareddrives/data_btc/video_btc/Videos_L25_a1/video/L25_V019.mp4\", \"L25_V020\": \"/content/drive/Shareddrives/data_btc/video_btc/Videos_L25_a1/video/L25_V020.mp4\", \"L25_V021\": \"/content/drive/Shareddrives/data_btc/video_btc/Videos_L25_a1/video/L25_V021.mp4\", \"L25_V022\": \"/content/drive/Shareddrives/data_btc/video_btc/Videos_L25_a1/video/L25_V022.mp4\", \"L25_V023\": \"/content/drive/Shareddrives/data_btc/video_btc/Videos_L25_a1/video/L25_V023.mp4\", \"L25_V024\": \"/content/drive/Shareddrives/data_btc/video_btc/Videos_L25_a1/video/L25_V024.mp4\", \"L25_V025\": \"/content/drive/Shareddrives/data_btc/video_btc/Videos_L25_a1/video/L25_V025.mp4\", \"L25_V026\": \"/content/drive/Shareddrives/data_btc/video_btc/Videos_L25_a1/video/L25_V026.mp4\", \"L25_V027\": \"/content/drive/Shareddrives/data_btc/video_btc/Videos_L25_a1/video/L25_V027.mp4\", \"L25_V028\": \"/content/drive/Shareddrives/data_btc/video_btc/Videos_L25_a1/video/L25_V028.mp4\", \"L25_V029\": \"/content/drive/Shareddrives/data_btc/video_btc/Videos_L25_a1/video/L25_V029.mp4\", \"L25_V030\": \"/content/drive/Shareddrives/data_btc/video_btc/Videos_L25_a1/video/L25_V030.mp4\", \"L25_V031\": \"/content/drive/Shareddrives/data_btc/video_btc/Videos_L25_a1/video/L25_V031.mp4\", \"L25_V032\": \"/content/drive/Shareddrives/data_btc/video_btc/Videos_L25_a1/video/L25_V032.mp4\", \"L25_V033\": \"/content/drive/Shareddrives/data_btc/video_btc/Videos_L25_a1/video/L25_V033.mp4\", \"L25_V034\": \"/content/drive/Shareddrives/data_btc/video_btc/Videos_L25_a1/video/L25_V034.mp4\", \"L25_V035\": \"/content/drive/Shareddrives/data_btc/video_btc/Videos_L25_a1/video/L25_V035.mp4\", \"L25_V036\": \"/content/drive/Shareddrives/data_btc/video_btc/Videos_L25_a1/video/L25_V036.mp4\", \"L25_V037\": \"/content/drive/Shareddrives/data_btc/video_btc/Videos_L25_a1/video/L25_V037.mp4\", \"L25_V038\": \"/content/drive/Shareddrives/data_btc/video_btc/Videos_L25_a1/video/L25_V038.mp4\", \"L25_V039\": \"/content/drive/Shareddrives/data_btc/video_btc/Videos_L25_a1/video/L25_V039.mp4\", \"L25_V040\": \"/content/drive/Shareddrives/data_btc/video_btc/Videos_L25_a1/video/L25_V040.mp4\", \"L25_V041\": \"/content/drive/Shareddrives/data_btc/video_btc/Videos_L25_a1/video/L25_V041.mp4\", \"L25_V042\": \"/content/drive/Shareddrives/data_btc/video_btc/Videos_L25_a1/video/L25_V042.mp4\", \"L25_V043\": \"/content/drive/Shareddrives/data_btc/video_btc/Videos_L25_a1/video/L25_V043.mp4\", \"L25_V044\": \"/content/drive/Shareddrives/data_btc/video_btc/Videos_L25_a1/video/L25_V044.mp4\", \"L25_V045\": \"/content/drive/Shareddrives/data_btc/video_btc/Videos_L25_a1/video/L25_V045.mp4\", \"L25_V046\": \"/content/drive/Shareddrives/data_btc/video_btc/Videos_L25_a1/video/L25_V046.mp4\", \"L25_V047\": \"/content/drive/Shareddrives/data_btc/video_btc/Videos_L25_a1/video/L25_V047.mp4\", \"L25_V048\": \"/content/drive/Shareddrives/data_btc/video_btc/Videos_L25_a1/video/L25_V048.mp4\", \"L25_V049\": \"/content/drive/Shareddrives/data_btc/video_btc/Videos_L25_a1/video/L25_V049.mp4\"}, \"Videos_L25_b\": {\"L25_V050\": \"/content/drive/Shareddrives/data_btc/video_btc/Videos_L25_b/video/L25_V050.mp4\", \"L25_V051\": \"/content/drive/Shareddrives/data_btc/video_btc/Videos_L25_b/video/L25_V051.mp4\", \"L25_V052\": \"/content/drive/Shareddrives/data_btc/video_btc/Videos_L25_b/video/L25_V052.mp4\", \"L25_V053\": \"/content/drive/Shareddrives/data_btc/video_btc/Videos_L25_b/video/L25_V053.mp4\", \"L25_V054\": \"/content/drive/Shareddrives/data_btc/video_btc/Videos_L25_b/video/L25_V054.mp4\", \"L25_V055\": \"/content/drive/Shareddrives/data_btc/video_btc/Videos_L25_b/video/L25_V055.mp4\", \"L25_V056\": \"/content/drive/Shareddrives/data_btc/video_btc/Videos_L25_b/video/L25_V056.mp4\", \"L25_V057\": \"/content/drive/Shareddrives/data_btc/video_btc/Videos_L25_b/video/L25_V057.mp4\", \"L25_V058\": \"/content/drive/Shareddrives/data_btc/video_btc/Videos_L25_b/video/L25_V058.mp4\", \"L25_V059\": \"/content/drive/Shareddrives/data_btc/video_btc/Videos_L25_b/video/L25_V059.mp4\", \"L25_V060\": \"/content/drive/Shareddrives/data_btc/video_btc/Videos_L25_b/video/L25_V060.mp4\", \"L25_V061\": \"/content/drive/Shareddrives/data_btc/video_btc/Videos_L25_b/video/L25_V061.mp4\", \"L25_V062\": \"/content/drive/Shareddrives/data_btc/video_btc/Videos_L25_b/video/L25_V062.mp4\", \"L25_V063\": \"/content/drive/Shareddrives/data_btc/video_btc/Videos_L25_b/video/L25_V063.mp4\", \"L25_V064\": \"/content/drive/Shareddrives/data_btc/video_btc/Videos_L25_b/video/L25_V064.mp4\", \"L25_V065\": \"/content/drive/Shareddrives/data_btc/video_btc/Videos_L25_b/video/L25_V065.mp4\", \"L25_V066\": \"/content/drive/Shareddrives/data_btc/video_btc/Videos_L25_b/video/L25_V066.mp4\", \"L25_V067\": \"/content/drive/Shareddrives/data_btc/video_btc/Videos_L25_b/video/L25_V067.mp4\", \"L25_V068\": \"/content/drive/Shareddrives/data_btc/video_btc/Videos_L25_b/video/L25_V068.mp4\", \"L25_V069\": \"/content/drive/Shareddrives/data_btc/video_btc/Videos_L25_b/video/L25_V069.mp4\", \"L25_V070\": \"/content/drive/Shareddrives/data_btc/video_btc/Videos_L25_b/video/L25_V070.mp4\", \"L25_V071\": \"/content/drive/Shareddrives/data_btc/video_btc/Videos_L25_b/video/L25_V071.mp4\", \"L25_V072\": \"/content/drive/Shareddrives/data_btc/video_btc/Videos_L25_b/video/L25_V072.mp4\", \"L25_V073\": \"/content/drive/Shareddrives/data_btc/video_btc/Videos_L25_b/video/L25_V073.mp4\", \"L25_V074\": \"/content/drive/Shareddrives/data_btc/video_btc/Videos_L25_b/video/L25_V074.mp4\", \"L25_V075\": \"/content/drive/Shareddrives/data_btc/video_btc/Videos_L25_b/video/L25_V075.mp4\", \"L25_V076\": \"/content/drive/Shareddrives/data_btc/video_btc/Videos_L25_b/video/L25_V076.mp4\", \"L25_V077\": \"/content/drive/Shareddrives/data_btc/video_btc/Videos_L25_b/video/L25_V077.mp4\", \"L25_V078\": \"/content/drive/Shareddrives/data_btc/video_btc/Videos_L25_b/video/L25_V078.mp4\", \"L25_V079\": \"/content/drive/Shareddrives/data_btc/video_btc/Videos_L25_b/video/L25_V079.mp4\", \"L25_V080\": \"/content/drive/Shareddrives/data_btc/video_btc/Videos_L25_b/video/L25_V080.mp4\", \"L25_V081\": \"/content/drive/Shareddrives/data_btc/video_btc/Videos_L25_b/video/L25_V081.mp4\", \"L25_V082\": \"/content/drive/Shareddrives/data_btc/video_btc/Videos_L25_b/video/L25_V082.mp4\", \"L25_V083\": \"/content/drive/Shareddrives/data_btc/video_btc/Videos_L25_b/video/L25_V083.mp4\", \"L25_V084\": \"/content/drive/Shareddrives/data_btc/video_btc/Videos_L25_b/video/L25_V084.mp4\", \"L25_V085\": \"/content/drive/Shareddrives/data_btc/video_btc/Videos_L25_b/video/L25_V085.mp4\", \"L25_V086\": \"/content/drive/Shareddrives/data_btc/video_btc/Videos_L25_b/video/L25_V086.mp4\", \"L25_V087\": \"/content/drive/Shareddrives/data_btc/video_btc/Videos_L25_b/video/L25_V087.mp4\", \"L25_V088\": \"/content/drive/Shareddrives/data_btc/video_btc/Videos_L25_b/video/L25_V088.mp4\"}, \"Videos_L26_a\": {\"L26_V001\": \"/content/drive/Shareddrives/data_btc/video_btc/Videos_L26_a/video/L26_V001.mp4\", \"L26_V002\": \"/content/drive/Shareddrives/data_btc/video_btc/Videos_L26_a/video/L26_V002.mp4\", \"L26_V003\": \"/content/drive/Shareddrives/data_btc/video_btc/Videos_L26_a/video/L26_V003.mp4\", \"L26_V004\": \"/content/drive/Shareddrives/data_btc/video_btc/Videos_L26_a/video/L26_V004.mp4\", \"L26_V005\": \"/content/drive/Shareddrives/data_btc/video_btc/Videos_L26_a/video/L26_V005.mp4\", \"L26_V006\": \"/content/drive/Shareddrives/data_btc/video_btc/Videos_L26_a/video/L26_V006.mp4\", \"L26_V007\": \"/content/drive/Shareddrives/data_btc/video_btc/Videos_L26_a/video/L26_V007.mp4\", \"L26_V008\": \"/content/drive/Shareddrives/data_btc/video_btc/Videos_L26_a/video/L26_V008.mp4\", \"L26_V009\": \"/content/drive/Shareddrives/data_btc/video_btc/Videos_L26_a/video/L26_V009.mp4\", \"L26_V010\": \"/content/drive/Shareddrives/data_btc/video_btc/Videos_L26_a/video/L26_V010.mp4\", \"L26_V011\": \"/content/drive/Shareddrives/data_btc/video_btc/Videos_L26_a/video/L26_V011.mp4\", \"L26_V012\": \"/content/drive/Shareddrives/data_btc/video_btc/Videos_L26_a/video/L26_V012.mp4\", \"L26_V013\": \"/content/drive/Shareddrives/data_btc/video_btc/Videos_L26_a/video/L26_V013.mp4\", \"L26_V014\": \"/content/drive/Shareddrives/data_btc/video_btc/Videos_L26_a/video/L26_V014.mp4\", \"L26_V015\": \"/content/drive/Shareddrives/data_btc/video_btc/Videos_L26_a/video/L26_V015.mp4\", \"L26_V016\": \"/content/drive/Shareddrives/data_btc/video_btc/Videos_L26_a/video/L26_V016.mp4\", \"L26_V017\": \"/content/drive/Shareddrives/data_btc/video_btc/Videos_L26_a/video/L26_V017.mp4\", \"L26_V018\": \"/content/drive/Shareddrives/data_btc/video_btc/Videos_L26_a/video/L26_V018.mp4\", \"L26_V019\": \"/content/drive/Shareddrives/data_btc/video_btc/Videos_L26_a/video/L26_V019.mp4\", \"L26_V020\": \"/content/drive/Shareddrives/data_btc/video_btc/Videos_L26_a/video/L26_V020.mp4\", \"L26_V021\": \"/content/drive/Shareddrives/data_btc/video_btc/Videos_L26_a/video/L26_V021.mp4\", \"L26_V022\": \"/content/drive/Shareddrives/data_btc/video_btc/Videos_L26_a/video/L26_V022.mp4\", \"L26_V023\": \"/content/drive/Shareddrives/data_btc/video_btc/Videos_L26_a/video/L26_V023.mp4\", \"L26_V024\": \"/content/drive/Shareddrives/data_btc/video_btc/Videos_L26_a/video/L26_V024.mp4\", \"L26_V025\": \"/content/drive/Shareddrives/data_btc/video_btc/Videos_L26_a/video/L26_V025.mp4\", \"L26_V026\": \"/content/drive/Shareddrives/data_btc/video_btc/Videos_L26_a/video/L26_V026.mp4\", \"L26_V027\": \"/content/drive/Shareddrives/data_btc/video_btc/Videos_L26_a/video/L26_V027.mp4\", \"L26_V028\": \"/content/drive/Shareddrives/data_btc/video_btc/Videos_L26_a/video/L26_V028.mp4\", \"L26_V029\": \"/content/drive/Shareddrives/data_btc/video_btc/Videos_L26_a/video/L26_V029.mp4\", \"L26_V030\": \"/content/drive/Shareddrives/data_btc/video_btc/Videos_L26_a/video/L26_V030.mp4\", \"L26_V031\": \"/content/drive/Shareddrives/data_btc/video_btc/Videos_L26_a/video/L26_V031.mp4\", \"L26_V032\": \"/content/drive/Shareddrives/data_btc/video_btc/Videos_L26_a/video/L26_V032.mp4\", \"L26_V033\": \"/content/drive/Shareddrives/data_btc/video_btc/Videos_L26_a/video/L26_V033.mp4\", \"L26_V034\": \"/content/drive/Shareddrives/data_btc/video_btc/Videos_L26_a/video/L26_V034.mp4\", \"L26_V035\": \"/content/drive/Shareddrives/data_btc/video_btc/Videos_L26_a/video/L26_V035.mp4\", \"L26_V036\": \"/content/drive/Shareddrives/data_btc/video_btc/Videos_L26_a/video/L26_V036.mp4\", \"L26_V037\": \"/content/drive/Shareddrives/data_btc/video_btc/Videos_L26_a/video/L26_V037.mp4\", \"L26_V038\": \"/content/drive/Shareddrives/data_btc/video_btc/Videos_L26_a/video/L26_V038.mp4\", \"L26_V039\": \"/content/drive/Shareddrives/data_btc/video_btc/Videos_L26_a/video/L26_V039.mp4\", \"L26_V040\": \"/content/drive/Shareddrives/data_btc/video_btc/Videos_L26_a/video/L26_V040.mp4\", \"L26_V041\": \"/content/drive/Shareddrives/data_btc/video_btc/Videos_L26_a/video/L26_V041.mp4\", \"L26_V042\": \"/content/drive/Shareddrives/data_btc/video_btc/Videos_L26_a/video/L26_V042.mp4\", \"L26_V043\": \"/content/drive/Shareddrives/data_btc/video_btc/Videos_L26_a/video/L26_V043.mp4\", \"L26_V044\": \"/content/drive/Shareddrives/data_btc/video_btc/Videos_L26_a/video/L26_V044.mp4\", \"L26_V045\": \"/content/drive/Shareddrives/data_btc/video_btc/Videos_L26_a/video/L26_V045.mp4\", \"L26_V046\": \"/content/drive/Shareddrives/data_btc/video_btc/Videos_L26_a/video/L26_V046.mp4\", \"L26_V047\": \"/content/drive/Shareddrives/data_btc/video_btc/Videos_L26_a/video/L26_V047.mp4\", \"L26_V048\": \"/content/drive/Shareddrives/data_btc/video_btc/Videos_L26_a/video/L26_V048.mp4\", \"L26_V049\": \"/content/drive/Shareddrives/data_btc/video_btc/Videos_L26_a/video/L26_V049.mp4\", \"L26_V050\": \"/content/drive/Shareddrives/data_btc/video_btc/Videos_L26_a/video/L26_V050.mp4\", \"L26_V051\": \"/content/drive/Shareddrives/data_btc/video_btc/Videos_L26_a/video/L26_V051.mp4\", \"L26_V052\": \"/content/drive/Shareddrives/data_btc/video_btc/Videos_L26_a/video/L26_V052.mp4\", \"L26_V053\": \"/content/drive/Shareddrives/data_btc/video_btc/Videos_L26_a/video/L26_V053.mp4\", \"L26_V054\": \"/content/drive/Shareddrives/data_btc/video_btc/Videos_L26_a/video/L26_V054.mp4\", \"L26_V055\": \"/content/drive/Shareddrives/data_btc/video_btc/Videos_L26_a/video/L26_V055.mp4\", \"L26_V056\": \"/content/drive/Shareddrives/data_btc/video_btc/Videos_L26_a/video/L26_V056.mp4\", \"L26_V057\": \"/content/drive/Shareddrives/data_btc/video_btc/Videos_L26_a/video/L26_V057.mp4\", \"L26_V058\": \"/content/drive/Shareddrives/data_btc/video_btc/Videos_L26_a/video/L26_V058.mp4\", \"L26_V059\": \"/content/drive/Shareddrives/data_btc/video_btc/Videos_L26_a/video/L26_V059.mp4\", \"L26_V060\": \"/content/drive/Shareddrives/data_btc/video_btc/Videos_L26_a/video/L26_V060.mp4\", \"L26_V061\": \"/content/drive/Shareddrives/data_btc/video_btc/Videos_L26_a/video/L26_V061.mp4\", \"L26_V062\": \"/content/drive/Shareddrives/data_btc/video_btc/Videos_L26_a/video/L26_V062.mp4\", \"L26_V063\": \"/content/drive/Shareddrives/data_btc/video_btc/Videos_L26_a/video/L26_V063.mp4\", \"L26_V064\": \"/content/drive/Shareddrives/data_btc/video_btc/Videos_L26_a/video/L26_V064.mp4\", \"L26_V065\": \"/content/drive/Shareddrives/data_btc/video_btc/Videos_L26_a/video/L26_V065.mp4\", \"L26_V066\": \"/content/drive/Shareddrives/data_btc/video_btc/Videos_L26_a/video/L26_V066.mp4\", \"L26_V067\": \"/content/drive/Shareddrives/data_btc/video_btc/Videos_L26_a/video/L26_V067.mp4\", \"L26_V068\": \"/content/drive/Shareddrives/data_btc/video_btc/Videos_L26_a/video/L26_V068.mp4\", \"L26_V069\": \"/content/drive/Shareddrives/data_btc/video_btc/Videos_L26_a/video/L26_V069.mp4\", \"L26_V070\": \"/content/drive/Shareddrives/data_btc/video_btc/Videos_L26_a/video/L26_V070.mp4\", \"L26_V071\": \"/content/drive/Shareddrives/data_btc/video_btc/Videos_L26_a/video/L26_V071.mp4\", \"L26_V072\": \"/content/drive/Shareddrives/data_btc/video_btc/Videos_L26_a/video/L26_V072.mp4\", \"L26_V073\": \"/content/drive/Shareddrives/data_btc/video_btc/Videos_L26_a/video/L26_V073.mp4\", \"L26_V074\": \"/content/drive/Shareddrives/data_btc/video_btc/Videos_L26_a/video/L26_V074.mp4\", \"L26_V075\": \"/content/drive/Shareddrives/data_btc/video_btc/Videos_L26_a/video/L26_V075.mp4\", \"L26_V076\": \"/content/drive/Shareddrives/data_btc/video_btc/Videos_L26_a/video/L26_V076.mp4\", \"L26_V077\": \"/content/drive/Shareddrives/data_btc/video_btc/Videos_L26_a/video/L26_V077.mp4\", \"L26_V078\": \"/content/drive/Shareddrives/data_btc/video_btc/Videos_L26_a/video/L26_V078.mp4\", \"L26_V079\": \"/content/drive/Shareddrives/data_btc/video_btc/Videos_L26_a/video/L26_V079.mp4\", \"L26_V080\": \"/content/drive/Shareddrives/data_btc/video_btc/Videos_L26_a/video/L26_V080.mp4\", \"L26_V081\": \"/content/drive/Shareddrives/data_btc/video_btc/Videos_L26_a/video/L26_V081.mp4\", \"L26_V082\": \"/content/drive/Shareddrives/data_btc/video_btc/Videos_L26_a/video/L26_V082.mp4\", \"L26_V083\": \"/content/drive/Shareddrives/data_btc/video_btc/Videos_L26_a/video/L26_V083.mp4\", \"L26_V084\": \"/content/drive/Shareddrives/data_btc/video_btc/Videos_L26_a/video/L26_V084.mp4\", \"L26_V085\": \"/content/drive/Shareddrives/data_btc/video_btc/Videos_L26_a/video/L26_V085.mp4\", \"L26_V086\": \"/content/drive/Shareddrives/data_btc/video_btc/Videos_L26_a/video/L26_V086.mp4\", \"L26_V087\": \"/content/drive/Shareddrives/data_btc/video_btc/Videos_L26_a/video/L26_V087.mp4\", \"L26_V088\": \"/content/drive/Shareddrives/data_btc/video_btc/Videos_L26_a/video/L26_V088.mp4\", \"L26_V089\": \"/content/drive/Shareddrives/data_btc/video_btc/Videos_L26_a/video/L26_V089.mp4\", \"L26_V090\": \"/content/drive/Shareddrives/data_btc/video_btc/Videos_L26_a/video/L26_V090.mp4\", \"L26_V091\": \"/content/drive/Shareddrives/data_btc/video_btc/Videos_L26_a/video/L26_V091.mp4\", \"L26_V092\": \"/content/drive/Shareddrives/data_btc/video_btc/Videos_L26_a/video/L26_V092.mp4\", \"L26_V093\": \"/content/drive/Shareddrives/data_btc/video_btc/Videos_L26_a/video/L26_V093.mp4\", \"L26_V094\": \"/content/drive/Shareddrives/data_btc/video_btc/Videos_L26_a/video/L26_V094.mp4\", \"L26_V095\": \"/content/drive/Shareddrives/data_btc/video_btc/Videos_L26_a/video/L26_V095.mp4\", \"L26_V096\": \"/content/drive/Shareddrives/data_btc/video_btc/Videos_L26_a/video/L26_V096.mp4\", \"L26_V097\": \"/content/drive/Shareddrives/data_btc/video_btc/Videos_L26_a/video/L26_V097.mp4\", \"L26_V098\": \"/content/drive/Shareddrives/data_btc/video_btc/Videos_L26_a/video/L26_V098.mp4\", \"L26_V099\": \"/content/drive/Shareddrives/data_btc/video_btc/Videos_L26_a/video/L26_V099.mp4\"}, \"Videos_L26_b\": {\"L26_V100\": \"/content/drive/Shareddrives/data_btc/video_btc/Videos_L26_b/video/L26_V100.mp4\", \"L26_V101\": \"/content/drive/Shareddrives/data_btc/video_btc/Videos_L26_b/video/L26_V101.mp4\", \"L26_V102\": \"/content/drive/Shareddrives/data_btc/video_btc/Videos_L26_b/video/L26_V102.mp4\", \"L26_V103\": \"/content/drive/Shareddrives/data_btc/video_btc/Videos_L26_b/video/L26_V103.mp4\", \"L26_V104\": \"/content/drive/Shareddrives/data_btc/video_btc/Videos_L26_b/video/L26_V104.mp4\", \"L26_V105\": \"/content/drive/Shareddrives/data_btc/video_btc/Videos_L26_b/video/L26_V105.mp4\", \"L26_V106\": \"/content/drive/Shareddrives/data_btc/video_btc/Videos_L26_b/video/L26_V106.mp4\", \"L26_V107\": \"/content/drive/Shareddrives/data_btc/video_btc/Videos_L26_b/video/L26_V107.mp4\", \"L26_V108\": \"/content/drive/Shareddrives/data_btc/video_btc/Videos_L26_b/video/L26_V108.mp4\", \"L26_V109\": \"/content/drive/Shareddrives/data_btc/video_btc/Videos_L26_b/video/L26_V109.mp4\", \"L26_V110\": \"/content/drive/Shareddrives/data_btc/video_btc/Videos_L26_b/video/L26_V110.mp4\", \"L26_V111\": \"/content/drive/Shareddrives/data_btc/video_btc/Videos_L26_b/video/L26_V111.mp4\", \"L26_V112\": \"/content/drive/Shareddrives/data_btc/video_btc/Videos_L26_b/video/L26_V112.mp4\", \"L26_V113\": \"/content/drive/Shareddrives/data_btc/video_btc/Videos_L26_b/video/L26_V113.mp4\", \"L26_V114\": \"/content/drive/Shareddrives/data_btc/video_btc/Videos_L26_b/video/L26_V114.mp4\", \"L26_V115\": \"/content/drive/Shareddrives/data_btc/video_btc/Videos_L26_b/video/L26_V115.mp4\", \"L26_V116\": \"/content/drive/Shareddrives/data_btc/video_btc/Videos_L26_b/video/L26_V116.mp4\", \"L26_V117\": \"/content/drive/Shareddrives/data_btc/video_btc/Videos_L26_b/video/L26_V117.mp4\", \"L26_V118\": \"/content/drive/Shareddrives/data_btc/video_btc/Videos_L26_b/video/L26_V118.mp4\", \"L26_V119\": \"/content/drive/Shareddrives/data_btc/video_btc/Videos_L26_b/video/L26_V119.mp4\", \"L26_V120\": \"/content/drive/Shareddrives/data_btc/video_btc/Videos_L26_b/video/L26_V120.mp4\", \"L26_V121\": \"/content/drive/Shareddrives/data_btc/video_btc/Videos_L26_b/video/L26_V121.mp4\", \"L26_V122\": \"/content/drive/Shareddrives/data_btc/video_btc/Videos_L26_b/video/L26_V122.mp4\", \"L26_V123\": \"/content/drive/Shareddrives/data_btc/video_btc/Videos_L26_b/video/L26_V123.mp4\", \"L26_V124\": \"/content/drive/Shareddrives/data_btc/video_btc/Videos_L26_b/video/L26_V124.mp4\", \"L26_V125\": \"/content/drive/Shareddrives/data_btc/video_btc/Videos_L26_b/video/L26_V125.mp4\", \"L26_V126\": \"/content/drive/Shareddrives/data_btc/video_btc/Videos_L26_b/video/L26_V126.mp4\", \"L26_V127\": \"/content/drive/Shareddrives/data_btc/video_btc/Videos_L26_b/video/L26_V127.mp4\", \"L26_V128\": \"/content/drive/Shareddrives/data_btc/video_btc/Videos_L26_b/video/L26_V128.mp4\", \"L26_V129\": \"/content/drive/Shareddrives/data_btc/video_btc/Videos_L26_b/video/L26_V129.mp4\", \"L26_V130\": \"/content/drive/Shareddrives/data_btc/video_btc/Videos_L26_b/video/L26_V130.mp4\", \"L26_V131\": \"/content/drive/Shareddrives/data_btc/video_btc/Videos_L26_b/video/L26_V131.mp4\", \"L26_V132\": \"/content/drive/Shareddrives/data_btc/video_btc/Videos_L26_b/video/L26_V132.mp4\", \"L26_V133\": \"/content/drive/Shareddrives/data_btc/video_btc/Videos_L26_b/video/L26_V133.mp4\", \"L26_V134\": \"/content/drive/Shareddrives/data_btc/video_btc/Videos_L26_b/video/L26_V134.mp4\", \"L26_V135\": \"/content/drive/Shareddrives/data_btc/video_btc/Videos_L26_b/video/L26_V135.mp4\", \"L26_V136\": \"/content/drive/Shareddrives/data_btc/video_btc/Videos_L26_b/video/L26_V136.mp4\", \"L26_V137\": \"/content/drive/Shareddrives/data_btc/video_btc/Videos_L26_b/video/L26_V137.mp4\", \"L26_V138\": \"/content/drive/Shareddrives/data_btc/video_btc/Videos_L26_b/video/L26_V138.mp4\", \"L26_V139\": \"/content/drive/Shareddrives/data_btc/video_btc/Videos_L26_b/video/L26_V139.mp4\", \"L26_V140\": \"/content/drive/Shareddrives/data_btc/video_btc/Videos_L26_b/video/L26_V140.mp4\", \"L26_V141\": \"/content/drive/Shareddrives/data_btc/video_btc/Videos_L26_b/video/L26_V141.mp4\", \"L26_V142\": \"/content/drive/Shareddrives/data_btc/video_btc/Videos_L26_b/video/L26_V142.mp4\", \"L26_V143\": \"/content/drive/Shareddrives/data_btc/video_btc/Videos_L26_b/video/L26_V143.mp4\", \"L26_V144\": \"/content/drive/Shareddrives/data_btc/video_btc/Videos_L26_b/video/L26_V144.mp4\", \"L26_V145\": \"/content/drive/Shareddrives/data_btc/video_btc/Videos_L26_b/video/L26_V145.mp4\", \"L26_V146\": \"/content/drive/Shareddrives/data_btc/video_btc/Videos_L26_b/video/L26_V146.mp4\", \"L26_V147\": \"/content/drive/Shareddrives/data_btc/video_btc/Videos_L26_b/video/L26_V147.mp4\", \"L26_V148\": \"/content/drive/Shareddrives/data_btc/video_btc/Videos_L26_b/video/L26_V148.mp4\", \"L26_V149\": \"/content/drive/Shareddrives/data_btc/video_btc/Videos_L26_b/video/L26_V149.mp4\", \"L26_V150\": \"/content/drive/Shareddrives/data_btc/video_btc/Videos_L26_b/video/L26_V150.mp4\", \"L26_V151\": \"/content/drive/Shareddrives/data_btc/video_btc/Videos_L26_b/video/L26_V151.mp4\", \"L26_V152\": \"/content/drive/Shareddrives/data_btc/video_btc/Videos_L26_b/video/L26_V152.mp4\", \"L26_V153\": \"/content/drive/Shareddrives/data_btc/video_btc/Videos_L26_b/video/L26_V153.mp4\", \"L26_V154\": \"/content/drive/Shareddrives/data_btc/video_btc/Videos_L26_b/video/L26_V154.mp4\", \"L26_V155\": \"/content/drive/Shareddrives/data_btc/video_btc/Videos_L26_b/video/L26_V155.mp4\", \"L26_V156\": \"/content/drive/Shareddrives/data_btc/video_btc/Videos_L26_b/video/L26_V156.mp4\", \"L26_V157\": \"/content/drive/Shareddrives/data_btc/video_btc/Videos_L26_b/video/L26_V157.mp4\", \"L26_V158\": \"/content/drive/Shareddrives/data_btc/video_btc/Videos_L26_b/video/L26_V158.mp4\", \"L26_V159\": \"/content/drive/Shareddrives/data_btc/video_btc/Videos_L26_b/video/L26_V159.mp4\", \"L26_V160\": \"/content/drive/Shareddrives/data_btc/video_btc/Videos_L26_b/video/L26_V160.mp4\", \"L26_V161\": \"/content/drive/Shareddrives/data_btc/video_btc/Videos_L26_b/video/L26_V161.mp4\", \"L26_V162\": \"/content/drive/Shareddrives/data_btc/video_btc/Videos_L26_b/video/L26_V162.mp4\", \"L26_V163\": \"/content/drive/Shareddrives/data_btc/video_btc/Videos_L26_b/video/L26_V163.mp4\", \"L26_V164\": \"/content/drive/Shareddrives/data_btc/video_btc/Videos_L26_b/video/L26_V164.mp4\", \"L26_V165\": \"/content/drive/Shareddrives/data_btc/video_btc/Videos_L26_b/video/L26_V165.mp4\", \"L26_V166\": \"/content/drive/Shareddrives/data_btc/video_btc/Videos_L26_b/video/L26_V166.mp4\", \"L26_V167\": \"/content/drive/Shareddrives/data_btc/video_btc/Videos_L26_b/video/L26_V167.mp4\", \"L26_V168\": \"/content/drive/Shareddrives/data_btc/video_btc/Videos_L26_b/video/L26_V168.mp4\", \"L26_V169\": \"/content/drive/Shareddrives/data_btc/video_btc/Videos_L26_b/video/L26_V169.mp4\", \"L26_V170\": \"/content/drive/Shareddrives/data_btc/video_btc/Videos_L26_b/video/L26_V170.mp4\", \"L26_V171\": \"/content/drive/Shareddrives/data_btc/video_btc/Videos_L26_b/video/L26_V171.mp4\", \"L26_V172\": \"/content/drive/Shareddrives/data_btc/video_btc/Videos_L26_b/video/L26_V172.mp4\", \"L26_V173\": \"/content/drive/Shareddrives/data_btc/video_btc/Videos_L26_b/video/L26_V173.mp4\", \"L26_V174\": \"/content/drive/Shareddrives/data_btc/video_btc/Videos_L26_b/video/L26_V174.mp4\", \"L26_V175\": \"/content/drive/Shareddrives/data_btc/video_btc/Videos_L26_b/video/L26_V175.mp4\", \"L26_V176\": \"/content/drive/Shareddrives/data_btc/video_btc/Videos_L26_b/video/L26_V176.mp4\", \"L26_V177\": \"/content/drive/Shareddrives/data_btc/video_btc/Videos_L26_b/video/L26_V177.mp4\", \"L26_V178\": \"/content/drive/Shareddrives/data_btc/video_btc/Videos_L26_b/video/L26_V178.mp4\", \"L26_V179\": \"/content/drive/Shareddrives/data_btc/video_btc/Videos_L26_b/video/L26_V179.mp4\", \"L26_V180\": \"/content/drive/Shareddrives/data_btc/video_btc/Videos_L26_b/video/L26_V180.mp4\", \"L26_V181\": \"/content/drive/Shareddrives/data_btc/video_btc/Videos_L26_b/video/L26_V181.mp4\", \"L26_V182\": \"/content/drive/Shareddrives/data_btc/video_btc/Videos_L26_b/video/L26_V182.mp4\", \"L26_V183\": \"/content/drive/Shareddrives/data_btc/video_btc/Videos_L26_b/video/L26_V183.mp4\", \"L26_V184\": \"/content/drive/Shareddrives/data_btc/video_btc/Videos_L26_b/video/L26_V184.mp4\", \"L26_V185\": \"/content/drive/Shareddrives/data_btc/video_btc/Videos_L26_b/video/L26_V185.mp4\", \"L26_V186\": \"/content/drive/Shareddrives/data_btc/video_btc/Videos_L26_b/video/L26_V186.mp4\", \"L26_V187\": \"/content/drive/Shareddrives/data_btc/video_btc/Videos_L26_b/video/L26_V187.mp4\", \"L26_V188\": \"/content/drive/Shareddrives/data_btc/video_btc/Videos_L26_b/video/L26_V188.mp4\", \"L26_V189\": \"/content/drive/Shareddrives/data_btc/video_btc/Videos_L26_b/video/L26_V189.mp4\", \"L26_V190\": \"/content/drive/Shareddrives/data_btc/video_btc/Videos_L26_b/video/L26_V190.mp4\", \"L26_V191\": \"/content/drive/Shareddrives/data_btc/video_btc/Videos_L26_b/video/L26_V191.mp4\", \"L26_V192\": \"/content/drive/Shareddrives/data_btc/video_btc/Videos_L26_b/video/L26_V192.mp4\", \"L26_V193\": \"/content/drive/Shareddrives/data_btc/video_btc/Videos_L26_b/video/L26_V193.mp4\", \"L26_V194\": \"/content/drive/Shareddrives/data_btc/video_btc/Videos_L26_b/video/L26_V194.mp4\", \"L26_V195\": \"/content/drive/Shareddrives/data_btc/video_btc/Videos_L26_b/video/L26_V195.mp4\", \"L26_V196\": \"/content/drive/Shareddrives/data_btc/video_btc/Videos_L26_b/video/L26_V196.mp4\", \"L26_V197\": \"/content/drive/Shareddrives/data_btc/video_btc/Videos_L26_b/video/L26_V197.mp4\", \"L26_V198\": \"/content/drive/Shareddrives/data_btc/video_btc/Videos_L26_b/video/L26_V198.mp4\", \"L26_V199\": \"/content/drive/Shareddrives/data_btc/video_btc/Videos_L26_b/video/L26_V199.mp4\"}, \"Videos_L26_c\": {\"L26_V200\": \"/content/drive/Shareddrives/data_btc/video_btc/Videos_L26_c/video/L26_V200.mp4\", \"L26_V201\": \"/content/drive/Shareddrives/data_btc/video_btc/Videos_L26_c/video/L26_V201.mp4\", \"L26_V202\": \"/content/drive/Shareddrives/data_btc/video_btc/Videos_L26_c/video/L26_V202.mp4\", \"L26_V203\": \"/content/drive/Shareddrives/data_btc/video_btc/Videos_L26_c/video/L26_V203.mp4\", \"L26_V204\": \"/content/drive/Shareddrives/data_btc/video_btc/Videos_L26_c/video/L26_V204.mp4\", \"L26_V205\": \"/content/drive/Shareddrives/data_btc/video_btc/Videos_L26_c/video/L26_V205.mp4\", \"L26_V206\": \"/content/drive/Shareddrives/data_btc/video_btc/Videos_L26_c/video/L26_V206.mp4\", \"L26_V207\": \"/content/drive/Shareddrives/data_btc/video_btc/Videos_L26_c/video/L26_V207.mp4\", \"L26_V208\": \"/content/drive/Shareddrives/data_btc/video_btc/Videos_L26_c/video/L26_V208.mp4\", \"L26_V209\": \"/content/drive/Shareddrives/data_btc/video_btc/Videos_L26_c/video/L26_V209.mp4\", \"L26_V210\": \"/content/drive/Shareddrives/data_btc/video_btc/Videos_L26_c/video/L26_V210.mp4\", \"L26_V211\": \"/content/drive/Shareddrives/data_btc/video_btc/Videos_L26_c/video/L26_V211.mp4\", \"L26_V212\": \"/content/drive/Shareddrives/data_btc/video_btc/Videos_L26_c/video/L26_V212.mp4\", \"L26_V213\": \"/content/drive/Shareddrives/data_btc/video_btc/Videos_L26_c/video/L26_V213.mp4\", \"L26_V214\": \"/content/drive/Shareddrives/data_btc/video_btc/Videos_L26_c/video/L26_V214.mp4\", \"L26_V215\": \"/content/drive/Shareddrives/data_btc/video_btc/Videos_L26_c/video/L26_V215.mp4\", \"L26_V216\": \"/content/drive/Shareddrives/data_btc/video_btc/Videos_L26_c/video/L26_V216.mp4\", \"L26_V217\": \"/content/drive/Shareddrives/data_btc/video_btc/Videos_L26_c/video/L26_V217.mp4\", \"L26_V218\": \"/content/drive/Shareddrives/data_btc/video_btc/Videos_L26_c/video/L26_V218.mp4\", \"L26_V219\": \"/content/drive/Shareddrives/data_btc/video_btc/Videos_L26_c/video/L26_V219.mp4\", \"L26_V220\": \"/content/drive/Shareddrives/data_btc/video_btc/Videos_L26_c/video/L26_V220.mp4\", \"L26_V221\": \"/content/drive/Shareddrives/data_btc/video_btc/Videos_L26_c/video/L26_V221.mp4\", \"L26_V222\": \"/content/drive/Shareddrives/data_btc/video_btc/Videos_L26_c/video/L26_V222.mp4\", \"L26_V223\": \"/content/drive/Shareddrives/data_btc/video_btc/Videos_L26_c/video/L26_V223.mp4\", \"L26_V224\": \"/content/drive/Shareddrives/data_btc/video_btc/Videos_L26_c/video/L26_V224.mp4\", \"L26_V225\": \"/content/drive/Shareddrives/data_btc/video_btc/Videos_L26_c/video/L26_V225.mp4\", \"L26_V226\": \"/content/drive/Shareddrives/data_btc/video_btc/Videos_L26_c/video/L26_V226.mp4\", \"L26_V227\": \"/content/drive/Shareddrives/data_btc/video_btc/Videos_L26_c/video/L26_V227.mp4\", \"L26_V228\": \"/content/drive/Shareddrives/data_btc/video_btc/Videos_L26_c/video/L26_V228.mp4\", \"L26_V229\": \"/content/drive/Shareddrives/data_btc/video_btc/Videos_L26_c/video/L26_V229.mp4\", \"L26_V230\": \"/content/drive/Shareddrives/data_btc/video_btc/Videos_L26_c/video/L26_V230.mp4\", \"L26_V231\": \"/content/drive/Shareddrives/data_btc/video_btc/Videos_L26_c/video/L26_V231.mp4\", \"L26_V232\": \"/content/drive/Shareddrives/data_btc/video_btc/Videos_L26_c/video/L26_V232.mp4\", \"L26_V233\": \"/content/drive/Shareddrives/data_btc/video_btc/Videos_L26_c/video/L26_V233.mp4\", \"L26_V234\": \"/content/drive/Shareddrives/data_btc/video_btc/Videos_L26_c/video/L26_V234.mp4\", \"L26_V235\": \"/content/drive/Shareddrives/data_btc/video_btc/Videos_L26_c/video/L26_V235.mp4\", \"L26_V236\": \"/content/drive/Shareddrives/data_btc/video_btc/Videos_L26_c/video/L26_V236.mp4\", \"L26_V237\": \"/content/drive/Shareddrives/data_btc/video_btc/Videos_L26_c/video/L26_V237.mp4\", \"L26_V238\": \"/content/drive/Shareddrives/data_btc/video_btc/Videos_L26_c/video/L26_V238.mp4\", \"L26_V239\": \"/content/drive/Shareddrives/data_btc/video_btc/Videos_L26_c/video/L26_V239.mp4\", \"L26_V240\": \"/content/drive/Shareddrives/data_btc/video_btc/Videos_L26_c/video/L26_V240.mp4\", \"L26_V241\": \"/content/drive/Shareddrives/data_btc/video_btc/Videos_L26_c/video/L26_V241.mp4\", \"L26_V242\": \"/content/drive/Shareddrives/data_btc/video_btc/Videos_L26_c/video/L26_V242.mp4\", \"L26_V243\": \"/content/drive/Shareddrives/data_btc/video_btc/Videos_L26_c/video/L26_V243.mp4\", \"L26_V244\": \"/content/drive/Shareddrives/data_btc/video_btc/Videos_L26_c/video/L26_V244.mp4\", \"L26_V245\": \"/content/drive/Shareddrives/data_btc/video_btc/Videos_L26_c/video/L26_V245.mp4\", \"L26_V246\": \"/content/drive/Shareddrives/data_btc/video_btc/Videos_L26_c/video/L26_V246.mp4\", \"L26_V247\": \"/content/drive/Shareddrives/data_btc/video_btc/Videos_L26_c/video/L26_V247.mp4\", \"L26_V248\": \"/content/drive/Shareddrives/data_btc/video_btc/Videos_L26_c/video/L26_V248.mp4\", \"L26_V249\": \"/content/drive/Shareddrives/data_btc/video_btc/Videos_L26_c/video/L26_V249.mp4\", \"L26_V250\": \"/content/drive/Shareddrives/data_btc/video_btc/Videos_L26_c/video/L26_V250.mp4\", \"L26_V251\": \"/content/drive/Shareddrives/data_btc/video_btc/Videos_L26_c/video/L26_V251.mp4\", \"L26_V252\": \"/content/drive/Shareddrives/data_btc/video_btc/Videos_L26_c/video/L26_V252.mp4\", \"L26_V253\": \"/content/drive/Shareddrives/data_btc/video_btc/Videos_L26_c/video/L26_V253.mp4\", \"L26_V254\": \"/content/drive/Shareddrives/data_btc/video_btc/Videos_L26_c/video/L26_V254.mp4\", \"L26_V255\": \"/content/drive/Shareddrives/data_btc/video_btc/Videos_L26_c/video/L26_V255.mp4\", \"L26_V256\": \"/content/drive/Shareddrives/data_btc/video_btc/Videos_L26_c/video/L26_V256.mp4\", \"L26_V257\": \"/content/drive/Shareddrives/data_btc/video_btc/Videos_L26_c/video/L26_V257.mp4\", \"L26_V258\": \"/content/drive/Shareddrives/data_btc/video_btc/Videos_L26_c/video/L26_V258.mp4\", \"L26_V259\": \"/content/drive/Shareddrives/data_btc/video_btc/Videos_L26_c/video/L26_V259.mp4\", \"L26_V260\": \"/content/drive/Shareddrives/data_btc/video_btc/Videos_L26_c/video/L26_V260.mp4\", \"L26_V261\": \"/content/drive/Shareddrives/data_btc/video_btc/Videos_L26_c/video/L26_V261.mp4\", \"L26_V262\": \"/content/drive/Shareddrives/data_btc/video_btc/Videos_L26_c/video/L26_V262.mp4\", \"L26_V263\": \"/content/drive/Shareddrives/data_btc/video_btc/Videos_L26_c/video/L26_V263.mp4\", \"L26_V264\": \"/content/drive/Shareddrives/data_btc/video_btc/Videos_L26_c/video/L26_V264.mp4\", \"L26_V265\": \"/content/drive/Shareddrives/data_btc/video_btc/Videos_L26_c/video/L26_V265.mp4\", \"L26_V266\": \"/content/drive/Shareddrives/data_btc/video_btc/Videos_L26_c/video/L26_V266.mp4\", \"L26_V267\": \"/content/drive/Shareddrives/data_btc/video_btc/Videos_L26_c/video/L26_V267.mp4\", \"L26_V268\": \"/content/drive/Shareddrives/data_btc/video_btc/Videos_L26_c/video/L26_V268.mp4\", \"L26_V269\": \"/content/drive/Shareddrives/data_btc/video_btc/Videos_L26_c/video/L26_V269.mp4\", \"L26_V270\": \"/content/drive/Shareddrives/data_btc/video_btc/Videos_L26_c/video/L26_V270.mp4\", \"L26_V271\": \"/content/drive/Shareddrives/data_btc/video_btc/Videos_L26_c/video/L26_V271.mp4\", \"L26_V272\": \"/content/drive/Shareddrives/data_btc/video_btc/Videos_L26_c/video/L26_V272.mp4\", \"L26_V273\": \"/content/drive/Shareddrives/data_btc/video_btc/Videos_L26_c/video/L26_V273.mp4\", \"L26_V274\": \"/content/drive/Shareddrives/data_btc/video_btc/Videos_L26_c/video/L26_V274.mp4\", \"L26_V275\": \"/content/drive/Shareddrives/data_btc/video_btc/Videos_L26_c/video/L26_V275.mp4\", \"L26_V276\": \"/content/drive/Shareddrives/data_btc/video_btc/Videos_L26_c/video/L26_V276.mp4\", \"L26_V277\": \"/content/drive/Shareddrives/data_btc/video_btc/Videos_L26_c/video/L26_V277.mp4\", \"L26_V278\": \"/content/drive/Shareddrives/data_btc/video_btc/Videos_L26_c/video/L26_V278.mp4\", \"L26_V279\": \"/content/drive/Shareddrives/data_btc/video_btc/Videos_L26_c/video/L26_V279.mp4\", \"L26_V280\": \"/content/drive/Shareddrives/data_btc/video_btc/Videos_L26_c/video/L26_V280.mp4\", \"L26_V281\": \"/content/drive/Shareddrives/data_btc/video_btc/Videos_L26_c/video/L26_V281.mp4\", \"L26_V282\": \"/content/drive/Shareddrives/data_btc/video_btc/Videos_L26_c/video/L26_V282.mp4\", \"L26_V283\": \"/content/drive/Shareddrives/data_btc/video_btc/Videos_L26_c/video/L26_V283.mp4\", \"L26_V284\": \"/content/drive/Shareddrives/data_btc/video_btc/Videos_L26_c/video/L26_V284.mp4\", \"L26_V285\": \"/content/drive/Shareddrives/data_btc/video_btc/Videos_L26_c/video/L26_V285.mp4\", \"L26_V286\": \"/content/drive/Shareddrives/data_btc/video_btc/Videos_L26_c/video/L26_V286.mp4\", \"L26_V287\": \"/content/drive/Shareddrives/data_btc/video_btc/Videos_L26_c/video/L26_V287.mp4\", \"L26_V288\": \"/content/drive/Shareddrives/data_btc/video_btc/Videos_L26_c/video/L26_V288.mp4\", \"L26_V289\": \"/content/drive/Shareddrives/data_btc/video_btc/Videos_L26_c/video/L26_V289.mp4\", \"L26_V290\": \"/content/drive/Shareddrives/data_btc/video_btc/Videos_L26_c/video/L26_V290.mp4\", \"L26_V291\": \"/content/drive/Shareddrives/data_btc/video_btc/Videos_L26_c/video/L26_V291.mp4\", \"L26_V292\": \"/content/drive/Shareddrives/data_btc/video_btc/Videos_L26_c/video/L26_V292.mp4\", \"L26_V293\": \"/content/drive/Shareddrives/data_btc/video_btc/Videos_L26_c/video/L26_V293.mp4\", \"L26_V294\": \"/content/drive/Shareddrives/data_btc/video_btc/Videos_L26_c/video/L26_V294.mp4\", \"L26_V295\": \"/content/drive/Shareddrives/data_btc/video_btc/Videos_L26_c/video/L26_V295.mp4\", \"L26_V296\": \"/content/drive/Shareddrives/data_btc/video_btc/Videos_L26_c/video/L26_V296.mp4\", \"L26_V297\": \"/content/drive/Shareddrives/data_btc/video_btc/Videos_L26_c/video/L26_V297.mp4\", \"L26_V298\": \"/content/drive/Shareddrives/data_btc/video_btc/Videos_L26_c/video/L26_V298.mp4\", \"L26_V299\": \"/content/drive/Shareddrives/data_btc/video_btc/Videos_L26_c/video/L26_V299.mp4\"}, \"Videos_L26_d\": {\"L26_V300\": \"/content/drive/Shareddrives/data_btc/video_btc/Videos_L26_d/video/L26_V300.mp4\", \"L26_V301\": \"/content/drive/Shareddrives/data_btc/video_btc/Videos_L26_d/video/L26_V301.mp4\", \"L26_V302\": \"/content/drive/Shareddrives/data_btc/video_btc/Videos_L26_d/video/L26_V302.mp4\", \"L26_V303\": \"/content/drive/Shareddrives/data_btc/video_btc/Videos_L26_d/video/L26_V303.mp4\", \"L26_V304\": \"/content/drive/Shareddrives/data_btc/video_btc/Videos_L26_d/video/L26_V304.mp4\", \"L26_V305\": \"/content/drive/Shareddrives/data_btc/video_btc/Videos_L26_d/video/L26_V305.mp4\", \"L26_V306\": \"/content/drive/Shareddrives/data_btc/video_btc/Videos_L26_d/video/L26_V306.mp4\", \"L26_V307\": \"/content/drive/Shareddrives/data_btc/video_btc/Videos_L26_d/video/L26_V307.mp4\", \"L26_V308\": \"/content/drive/Shareddrives/data_btc/video_btc/Videos_L26_d/video/L26_V308.mp4\", \"L26_V309\": \"/content/drive/Shareddrives/data_btc/video_btc/Videos_L26_d/video/L26_V309.mp4\", \"L26_V310\": \"/content/drive/Shareddrives/data_btc/video_btc/Videos_L26_d/video/L26_V310.mp4\", \"L26_V311\": \"/content/drive/Shareddrives/data_btc/video_btc/Videos_L26_d/video/L26_V311.mp4\", \"L26_V312\": \"/content/drive/Shareddrives/data_btc/video_btc/Videos_L26_d/video/L26_V312.mp4\", \"L26_V313\": \"/content/drive/Shareddrives/data_btc/video_btc/Videos_L26_d/video/L26_V313.mp4\", \"L26_V314\": \"/content/drive/Shareddrives/data_btc/video_btc/Videos_L26_d/video/L26_V314.mp4\", \"L26_V315\": \"/content/drive/Shareddrives/data_btc/video_btc/Videos_L26_d/video/L26_V315.mp4\", \"L26_V316\": \"/content/drive/Shareddrives/data_btc/video_btc/Videos_L26_d/video/L26_V316.mp4\", \"L26_V317\": \"/content/drive/Shareddrives/data_btc/video_btc/Videos_L26_d/video/L26_V317.mp4\", \"L26_V318\": \"/content/drive/Shareddrives/data_btc/video_btc/Videos_L26_d/video/L26_V318.mp4\", \"L26_V319\": \"/content/drive/Shareddrives/data_btc/video_btc/Videos_L26_d/video/L26_V319.mp4\", \"L26_V320\": \"/content/drive/Shareddrives/data_btc/video_btc/Videos_L26_d/video/L26_V320.mp4\", \"L26_V321\": \"/content/drive/Shareddrives/data_btc/video_btc/Videos_L26_d/video/L26_V321.mp4\", \"L26_V322\": \"/content/drive/Shareddrives/data_btc/video_btc/Videos_L26_d/video/L26_V322.mp4\", \"L26_V323\": \"/content/drive/Shareddrives/data_btc/video_btc/Videos_L26_d/video/L26_V323.mp4\", \"L26_V324\": \"/content/drive/Shareddrives/data_btc/video_btc/Videos_L26_d/video/L26_V324.mp4\", \"L26_V325\": \"/content/drive/Shareddrives/data_btc/video_btc/Videos_L26_d/video/L26_V325.mp4\", \"L26_V326\": \"/content/drive/Shareddrives/data_btc/video_btc/Videos_L26_d/video/L26_V326.mp4\", \"L26_V327\": \"/content/drive/Shareddrives/data_btc/video_btc/Videos_L26_d/video/L26_V327.mp4\", \"L26_V328\": \"/content/drive/Shareddrives/data_btc/video_btc/Videos_L26_d/video/L26_V328.mp4\", \"L26_V329\": \"/content/drive/Shareddrives/data_btc/video_btc/Videos_L26_d/video/L26_V329.mp4\", \"L26_V330\": \"/content/drive/Shareddrives/data_btc/video_btc/Videos_L26_d/video/L26_V330.mp4\", \"L26_V331\": \"/content/drive/Shareddrives/data_btc/video_btc/Videos_L26_d/video/L26_V331.mp4\", \"L26_V332\": \"/content/drive/Shareddrives/data_btc/video_btc/Videos_L26_d/video/L26_V332.mp4\", \"L26_V333\": \"/content/drive/Shareddrives/data_btc/video_btc/Videos_L26_d/video/L26_V333.mp4\", \"L26_V334\": \"/content/drive/Shareddrives/data_btc/video_btc/Videos_L26_d/video/L26_V334.mp4\", \"L26_V335\": \"/content/drive/Shareddrives/data_btc/video_btc/Videos_L26_d/video/L26_V335.mp4\", \"L26_V336\": \"/content/drive/Shareddrives/data_btc/video_btc/Videos_L26_d/video/L26_V336.mp4\", \"L26_V337\": \"/content/drive/Shareddrives/data_btc/video_btc/Videos_L26_d/video/L26_V337.mp4\", \"L26_V338\": \"/content/drive/Shareddrives/data_btc/video_btc/Videos_L26_d/video/L26_V338.mp4\", \"L26_V339\": \"/content/drive/Shareddrives/data_btc/video_btc/Videos_L26_d/video/L26_V339.mp4\", \"L26_V340\": \"/content/drive/Shareddrives/data_btc/video_btc/Videos_L26_d/video/L26_V340.mp4\", \"L26_V341\": \"/content/drive/Shareddrives/data_btc/video_btc/Videos_L26_d/video/L26_V341.mp4\", \"L26_V342\": \"/content/drive/Shareddrives/data_btc/video_btc/Videos_L26_d/video/L26_V342.mp4\", \"L26_V343\": \"/content/drive/Shareddrives/data_btc/video_btc/Videos_L26_d/video/L26_V343.mp4\", \"L26_V344\": \"/content/drive/Shareddrives/data_btc/video_btc/Videos_L26_d/video/L26_V344.mp4\", \"L26_V345\": \"/content/drive/Shareddrives/data_btc/video_btc/Videos_L26_d/video/L26_V345.mp4\", \"L26_V346\": \"/content/drive/Shareddrives/data_btc/video_btc/Videos_L26_d/video/L26_V346.mp4\", \"L26_V347\": \"/content/drive/Shareddrives/data_btc/video_btc/Videos_L26_d/video/L26_V347.mp4\", \"L26_V348\": \"/content/drive/Shareddrives/data_btc/video_btc/Videos_L26_d/video/L26_V348.mp4\", \"L26_V349\": \"/content/drive/Shareddrives/data_btc/video_btc/Videos_L26_d/video/L26_V349.mp4\", \"L26_V350\": \"/content/drive/Shareddrives/data_btc/video_btc/Videos_L26_d/video/L26_V350.mp4\", \"L26_V351\": \"/content/drive/Shareddrives/data_btc/video_btc/Videos_L26_d/video/L26_V351.mp4\", \"L26_V352\": \"/content/drive/Shareddrives/data_btc/video_btc/Videos_L26_d/video/L26_V352.mp4\", \"L26_V353\": \"/content/drive/Shareddrives/data_btc/video_btc/Videos_L26_d/video/L26_V353.mp4\", \"L26_V354\": \"/content/drive/Shareddrives/data_btc/video_btc/Videos_L26_d/video/L26_V354.mp4\", \"L26_V355\": \"/content/drive/Shareddrives/data_btc/video_btc/Videos_L26_d/video/L26_V355.mp4\", \"L26_V356\": \"/content/drive/Shareddrives/data_btc/video_btc/Videos_L26_d/video/L26_V356.mp4\", \"L26_V357\": \"/content/drive/Shareddrives/data_btc/video_btc/Videos_L26_d/video/L26_V357.mp4\", \"L26_V358\": \"/content/drive/Shareddrives/data_btc/video_btc/Videos_L26_d/video/L26_V358.mp4\", \"L26_V359\": \"/content/drive/Shareddrives/data_btc/video_btc/Videos_L26_d/video/L26_V359.mp4\", \"L26_V360\": \"/content/drive/Shareddrives/data_btc/video_btc/Videos_L26_d/video/L26_V360.mp4\", \"L26_V361\": \"/content/drive/Shareddrives/data_btc/video_btc/Videos_L26_d/video/L26_V361.mp4\", \"L26_V362\": \"/content/drive/Shareddrives/data_btc/video_btc/Videos_L26_d/video/L26_V362.mp4\", \"L26_V363\": \"/content/drive/Shareddrives/data_btc/video_btc/Videos_L26_d/video/L26_V363.mp4\", \"L26_V364\": \"/content/drive/Shareddrives/data_btc/video_btc/Videos_L26_d/video/L26_V364.mp4\", \"L26_V365\": \"/content/drive/Shareddrives/data_btc/video_btc/Videos_L26_d/video/L26_V365.mp4\", \"L26_V366\": \"/content/drive/Shareddrives/data_btc/video_btc/Videos_L26_d/video/L26_V366.mp4\", \"L26_V367\": \"/content/drive/Shareddrives/data_btc/video_btc/Videos_L26_d/video/L26_V367.mp4\", \"L26_V368\": \"/content/drive/Shareddrives/data_btc/video_btc/Videos_L26_d/video/L26_V368.mp4\", \"L26_V369\": \"/content/drive/Shareddrives/data_btc/video_btc/Videos_L26_d/video/L26_V369.mp4\", \"L26_V370\": \"/content/drive/Shareddrives/data_btc/video_btc/Videos_L26_d/video/L26_V370.mp4\", \"L26_V371\": \"/content/drive/Shareddrives/data_btc/video_btc/Videos_L26_d/video/L26_V371.mp4\", \"L26_V372\": \"/content/drive/Shareddrives/data_btc/video_btc/Videos_L26_d/video/L26_V372.mp4\", \"L26_V373\": \"/content/drive/Shareddrives/data_btc/video_btc/Videos_L26_d/video/L26_V373.mp4\", \"L26_V374\": \"/content/drive/Shareddrives/data_btc/video_btc/Videos_L26_d/video/L26_V374.mp4\", \"L26_V375\": \"/content/drive/Shareddrives/data_btc/video_btc/Videos_L26_d/video/L26_V375.mp4\", \"L26_V376\": \"/content/drive/Shareddrives/data_btc/video_btc/Videos_L26_d/video/L26_V376.mp4\", \"L26_V377\": \"/content/drive/Shareddrives/data_btc/video_btc/Videos_L26_d/video/L26_V377.mp4\", \"L26_V378\": \"/content/drive/Shareddrives/data_btc/video_btc/Videos_L26_d/video/L26_V378.mp4\", \"L26_V379\": \"/content/drive/Shareddrives/data_btc/video_btc/Videos_L26_d/video/L26_V379.mp4\", \"L26_V380\": \"/content/drive/Shareddrives/data_btc/video_btc/Videos_L26_d/video/L26_V380.mp4\", \"L26_V381\": \"/content/drive/Shareddrives/data_btc/video_btc/Videos_L26_d/video/L26_V381.mp4\", \"L26_V382\": \"/content/drive/Shareddrives/data_btc/video_btc/Videos_L26_d/video/L26_V382.mp4\", \"L26_V383\": \"/content/drive/Shareddrives/data_btc/video_btc/Videos_L26_d/video/L26_V383.mp4\", \"L26_V384\": \"/content/drive/Shareddrives/data_btc/video_btc/Videos_L26_d/video/L26_V384.mp4\", \"L26_V385\": \"/content/drive/Shareddrives/data_btc/video_btc/Videos_L26_d/video/L26_V385.mp4\", \"L26_V386\": \"/content/drive/Shareddrives/data_btc/video_btc/Videos_L26_d/video/L26_V386.mp4\", \"L26_V387\": \"/content/drive/Shareddrives/data_btc/video_btc/Videos_L26_d/video/L26_V387.mp4\", \"L26_V388\": \"/content/drive/Shareddrives/data_btc/video_btc/Videos_L26_d/video/L26_V388.mp4\", \"L26_V389\": \"/content/drive/Shareddrives/data_btc/video_btc/Videos_L26_d/video/L26_V389.mp4\", \"L26_V390\": \"/content/drive/Shareddrives/data_btc/video_btc/Videos_L26_d/video/L26_V390.mp4\", \"L26_V391\": \"/content/drive/Shareddrives/data_btc/video_btc/Videos_L26_d/video/L26_V391.mp4\", \"L26_V392\": \"/content/drive/Shareddrives/data_btc/video_btc/Videos_L26_d/video/L26_V392.mp4\", \"L26_V393\": \"/content/drive/Shareddrives/data_btc/video_btc/Videos_L26_d/video/L26_V393.mp4\", \"L26_V394\": \"/content/drive/Shareddrives/data_btc/video_btc/Videos_L26_d/video/L26_V394.mp4\", \"L26_V395\": \"/content/drive/Shareddrives/data_btc/video_btc/Videos_L26_d/video/L26_V395.mp4\", \"L26_V396\": \"/content/drive/Shareddrives/data_btc/video_btc/Videos_L26_d/video/L26_V396.mp4\", \"L26_V397\": \"/content/drive/Shareddrives/data_btc/video_btc/Videos_L26_d/video/L26_V397.mp4\", \"L26_V398\": \"/content/drive/Shareddrives/data_btc/video_btc/Videos_L26_d/video/L26_V398.mp4\", \"L26_V399\": \"/content/drive/Shareddrives/data_btc/video_btc/Videos_L26_d/video/L26_V399.mp4\"}, \"Videos_L26_e\": {\"L26_V400\": \"/content/drive/Shareddrives/data_btc/video_btc/Videos_L26_e/video/L26_V400.mp4\", \"L26_V401\": \"/content/drive/Shareddrives/data_btc/video_btc/Videos_L26_e/video/L26_V401.mp4\", \"L26_V402\": \"/content/drive/Shareddrives/data_btc/video_btc/Videos_L26_e/video/L26_V402.mp4\", \"L26_V403\": \"/content/drive/Shareddrives/data_btc/video_btc/Videos_L26_e/video/L26_V403.mp4\", \"L26_V404\": \"/content/drive/Shareddrives/data_btc/video_btc/Videos_L26_e/video/L26_V404.mp4\", \"L26_V405\": \"/content/drive/Shareddrives/data_btc/video_btc/Videos_L26_e/video/L26_V405.mp4\", \"L26_V406\": \"/content/drive/Shareddrives/data_btc/video_btc/Videos_L26_e/video/L26_V406.mp4\", \"L26_V407\": \"/content/drive/Shareddrives/data_btc/video_btc/Videos_L26_e/video/L26_V407.mp4\", \"L26_V408\": \"/content/drive/Shareddrives/data_btc/video_btc/Videos_L26_e/video/L26_V408.mp4\", \"L26_V409\": \"/content/drive/Shareddrives/data_btc/video_btc/Videos_L26_e/video/L26_V409.mp4\", \"L26_V410\": \"/content/drive/Shareddrives/data_btc/video_btc/Videos_L26_e/video/L26_V410.mp4\", \"L26_V411\": \"/content/drive/Shareddrives/data_btc/video_btc/Videos_L26_e/video/L26_V411.mp4\", \"L26_V412\": \"/content/drive/Shareddrives/data_btc/video_btc/Videos_L26_e/video/L26_V412.mp4\", \"L26_V413\": \"/content/drive/Shareddrives/data_btc/video_btc/Videos_L26_e/video/L26_V413.mp4\", \"L26_V414\": \"/content/drive/Shareddrives/data_btc/video_btc/Videos_L26_e/video/L26_V414.mp4\", \"L26_V415\": \"/content/drive/Shareddrives/data_btc/video_btc/Videos_L26_e/video/L26_V415.mp4\", \"L26_V416\": \"/content/drive/Shareddrives/data_btc/video_btc/Videos_L26_e/video/L26_V416.mp4\", \"L26_V418\": \"/content/drive/Shareddrives/data_btc/video_btc/Videos_L26_e/video/L26_V418.mp4\", \"L26_V419\": \"/content/drive/Shareddrives/data_btc/video_btc/Videos_L26_e/video/L26_V419.mp4\", \"L26_V420\": \"/content/drive/Shareddrives/data_btc/video_btc/Videos_L26_e/video/L26_V420.mp4\", \"L26_V421\": \"/content/drive/Shareddrives/data_btc/video_btc/Videos_L26_e/video/L26_V421.mp4\", \"L26_V422\": \"/content/drive/Shareddrives/data_btc/video_btc/Videos_L26_e/video/L26_V422.mp4\", \"L26_V423\": \"/content/drive/Shareddrives/data_btc/video_btc/Videos_L26_e/video/L26_V423.mp4\", \"L26_V424\": \"/content/drive/Shareddrives/data_btc/video_btc/Videos_L26_e/video/L26_V424.mp4\", \"L26_V425\": \"/content/drive/Shareddrives/data_btc/video_btc/Videos_L26_e/video/L26_V425.mp4\", \"L26_V426\": \"/content/drive/Shareddrives/data_btc/video_btc/Videos_L26_e/video/L26_V426.mp4\", \"L26_V427\": \"/content/drive/Shareddrives/data_btc/video_btc/Videos_L26_e/video/L26_V427.mp4\", \"L26_V428\": \"/content/drive/Shareddrives/data_btc/video_btc/Videos_L26_e/video/L26_V428.mp4\", \"L26_V429\": \"/content/drive/Shareddrives/data_btc/video_btc/Videos_L26_e/video/L26_V429.mp4\", \"L26_V430\": \"/content/drive/Shareddrives/data_btc/video_btc/Videos_L26_e/video/L26_V430.mp4\", \"L26_V431\": \"/content/drive/Shareddrives/data_btc/video_btc/Videos_L26_e/video/L26_V431.mp4\", \"L26_V432\": \"/content/drive/Shareddrives/data_btc/video_btc/Videos_L26_e/video/L26_V432.mp4\", \"L26_V433\": \"/content/drive/Shareddrives/data_btc/video_btc/Videos_L26_e/video/L26_V433.mp4\", \"L26_V434\": \"/content/drive/Shareddrives/data_btc/video_btc/Videos_L26_e/video/L26_V434.mp4\", \"L26_V435\": \"/content/drive/Shareddrives/data_btc/video_btc/Videos_L26_e/video/L26_V435.mp4\", \"L26_V436\": \"/content/drive/Shareddrives/data_btc/video_btc/Videos_L26_e/video/L26_V436.mp4\", \"L26_V437\": \"/content/drive/Shareddrives/data_btc/video_btc/Videos_L26_e/video/L26_V437.mp4\", \"L26_V438\": \"/content/drive/Shareddrives/data_btc/video_btc/Videos_L26_e/video/L26_V438.mp4\", \"L26_V439\": \"/content/drive/Shareddrives/data_btc/video_btc/Videos_L26_e/video/L26_V439.mp4\", \"L26_V440\": \"/content/drive/Shareddrives/data_btc/video_btc/Videos_L26_e/video/L26_V440.mp4\", \"L26_V441\": \"/content/drive/Shareddrives/data_btc/video_btc/Videos_L26_e/video/L26_V441.mp4\", \"L26_V442\": \"/content/drive/Shareddrives/data_btc/video_btc/Videos_L26_e/video/L26_V442.mp4\", \"L26_V443\": \"/content/drive/Shareddrives/data_btc/video_btc/Videos_L26_e/video/L26_V443.mp4\", \"L26_V444\": \"/content/drive/Shareddrives/data_btc/video_btc/Videos_L26_e/video/L26_V444.mp4\", \"L26_V445\": \"/content/drive/Shareddrives/data_btc/video_btc/Videos_L26_e/video/L26_V445.mp4\", \"L26_V446\": \"/content/drive/Shareddrives/data_btc/video_btc/Videos_L26_e/video/L26_V446.mp4\", \"L26_V447\": \"/content/drive/Shareddrives/data_btc/video_btc/Videos_L26_e/video/L26_V447.mp4\", \"L26_V448\": \"/content/drive/Shareddrives/data_btc/video_btc/Videos_L26_e/video/L26_V448.mp4\", \"L26_V449\": \"/content/drive/Shareddrives/data_btc/video_btc/Videos_L26_e/video/L26_V449.mp4\", \"L26_V450\": \"/content/drive/Shareddrives/data_btc/video_btc/Videos_L26_e/video/L26_V450.mp4\", \"L26_V451\": \"/content/drive/Shareddrives/data_btc/video_btc/Videos_L26_e/video/L26_V451.mp4\", \"L26_V452\": \"/content/drive/Shareddrives/data_btc/video_btc/Videos_L26_e/video/L26_V452.mp4\", \"L26_V453\": \"/content/drive/Shareddrives/data_btc/video_btc/Videos_L26_e/video/L26_V453.mp4\", \"L26_V454\": \"/content/drive/Shareddrives/data_btc/video_btc/Videos_L26_e/video/L26_V454.mp4\", \"L26_V455\": \"/content/drive/Shareddrives/data_btc/video_btc/Videos_L26_e/video/L26_V455.mp4\", \"L26_V456\": \"/content/drive/Shareddrives/data_btc/video_btc/Videos_L26_e/video/L26_V456.mp4\", \"L26_V457\": \"/content/drive/Shareddrives/data_btc/video_btc/Videos_L26_e/video/L26_V457.mp4\", \"L26_V458\": \"/content/drive/Shareddrives/data_btc/video_btc/Videos_L26_e/video/L26_V458.mp4\", \"L26_V459\": \"/content/drive/Shareddrives/data_btc/video_btc/Videos_L26_e/video/L26_V459.mp4\", \"L26_V460\": \"/content/drive/Shareddrives/data_btc/video_btc/Videos_L26_e/video/L26_V460.mp4\", \"L26_V461\": \"/content/drive/Shareddrives/data_btc/video_btc/Videos_L26_e/video/L26_V461.mp4\", \"L26_V462\": \"/content/drive/Shareddrives/data_btc/video_btc/Videos_L26_e/video/L26_V462.mp4\", \"L26_V463\": \"/content/drive/Shareddrives/data_btc/video_btc/Videos_L26_e/video/L26_V463.mp4\", \"L26_V464\": \"/content/drive/Shareddrives/data_btc/video_btc/Videos_L26_e/video/L26_V464.mp4\", \"L26_V465\": \"/content/drive/Shareddrives/data_btc/video_btc/Videos_L26_e/video/L26_V465.mp4\", \"L26_V466\": \"/content/drive/Shareddrives/data_btc/video_btc/Videos_L26_e/video/L26_V466.mp4\", \"L26_V467\": \"/content/drive/Shareddrives/data_btc/video_btc/Videos_L26_e/video/L26_V467.mp4\", \"L26_V468\": \"/content/drive/Shareddrives/data_btc/video_btc/Videos_L26_e/video/L26_V468.mp4\", \"L26_V469\": \"/content/drive/Shareddrives/data_btc/video_btc/Videos_L26_e/video/L26_V469.mp4\", \"L26_V470\": \"/content/drive/Shareddrives/data_btc/video_btc/Videos_L26_e/video/L26_V470.mp4\", \"L26_V471\": \"/content/drive/Shareddrives/data_btc/video_btc/Videos_L26_e/video/L26_V471.mp4\", \"L26_V472\": \"/content/drive/Shareddrives/data_btc/video_btc/Videos_L26_e/video/L26_V472.mp4\", \"L26_V473\": \"/content/drive/Shareddrives/data_btc/video_btc/Videos_L26_e/video/L26_V473.mp4\", \"L26_V474\": \"/content/drive/Shareddrives/data_btc/video_btc/Videos_L26_e/video/L26_V474.mp4\", \"L26_V475\": \"/content/drive/Shareddrives/data_btc/video_btc/Videos_L26_e/video/L26_V475.mp4\", \"L26_V476\": \"/content/drive/Shareddrives/data_btc/video_btc/Videos_L26_e/video/L26_V476.mp4\", \"L26_V477\": \"/content/drive/Shareddrives/data_btc/video_btc/Videos_L26_e/video/L26_V477.mp4\", \"L26_V478\": \"/content/drive/Shareddrives/data_btc/video_btc/Videos_L26_e/video/L26_V478.mp4\", \"L26_V479\": \"/content/drive/Shareddrives/data_btc/video_btc/Videos_L26_e/video/L26_V479.mp4\", \"L26_V480\": \"/content/drive/Shareddrives/data_btc/video_btc/Videos_L26_e/video/L26_V480.mp4\", \"L26_V481\": \"/content/drive/Shareddrives/data_btc/video_btc/Videos_L26_e/video/L26_V481.mp4\", \"L26_V482\": \"/content/drive/Shareddrives/data_btc/video_btc/Videos_L26_e/video/L26_V482.mp4\", \"L26_V483\": \"/content/drive/Shareddrives/data_btc/video_btc/Videos_L26_e/video/L26_V483.mp4\", \"L26_V484\": \"/content/drive/Shareddrives/data_btc/video_btc/Videos_L26_e/video/L26_V484.mp4\", \"L26_V485\": \"/content/drive/Shareddrives/data_btc/video_btc/Videos_L26_e/video/L26_V485.mp4\", \"L26_V486\": \"/content/drive/Shareddrives/data_btc/video_btc/Videos_L26_e/video/L26_V486.mp4\", \"L26_V487\": \"/content/drive/Shareddrives/data_btc/video_btc/Videos_L26_e/video/L26_V487.mp4\", \"L26_V488\": \"/content/drive/Shareddrives/data_btc/video_btc/Videos_L26_e/video/L26_V488.mp4\", \"L26_V489\": \"/content/drive/Shareddrives/data_btc/video_btc/Videos_L26_e/video/L26_V489.mp4\", \"L26_V490\": \"/content/drive/Shareddrives/data_btc/video_btc/Videos_L26_e/video/L26_V490.mp4\", \"L26_V491\": \"/content/drive/Shareddrives/data_btc/video_btc/Videos_L26_e/video/L26_V491.mp4\", \"L26_V492\": \"/content/drive/Shareddrives/data_btc/video_btc/Videos_L26_e/video/L26_V492.mp4\", \"L26_V493\": \"/content/drive/Shareddrives/data_btc/video_btc/Videos_L26_e/video/L26_V493.mp4\", \"L26_V494\": \"/content/drive/Shareddrives/data_btc/video_btc/Videos_L26_e/video/L26_V494.mp4\", \"L26_V495\": \"/content/drive/Shareddrives/data_btc/video_btc/Videos_L26_e/video/L26_V495.mp4\", \"L26_V496\": \"/content/drive/Shareddrives/data_btc/video_btc/Videos_L26_e/video/L26_V496.mp4\", \"L26_V497\": \"/content/drive/Shareddrives/data_btc/video_btc/Videos_L26_e/video/L26_V497.mp4\", \"L26_V498\": \"/content/drive/Shareddrives/data_btc/video_btc/Videos_L26_e/video/L26_V498.mp4\", \"L26_V499\": \"/content/drive/Shareddrives/data_btc/video_btc/Videos_L26_e/video/L26_V499.mp4\"}, \"Videos_L27_a\": {\"L27_V001\": \"/content/drive/Shareddrives/data_btc/video_btc/Videos_L27_a/video/L27_V001.mp4\", \"L27_V002\": \"/content/drive/Shareddrives/data_btc/video_btc/Videos_L27_a/video/L27_V002.mp4\", \"L27_V003\": \"/content/drive/Shareddrives/data_btc/video_btc/Videos_L27_a/video/L27_V003.mp4\", \"L27_V004\": \"/content/drive/Shareddrives/data_btc/video_btc/Videos_L27_a/video/L27_V004.mp4\", \"L27_V005\": \"/content/drive/Shareddrives/data_btc/video_btc/Videos_L27_a/video/L27_V005.mp4\", \"L27_V006\": \"/content/drive/Shareddrives/data_btc/video_btc/Videos_L27_a/video/L27_V006.mp4\", \"L27_V007\": \"/content/drive/Shareddrives/data_btc/video_btc/Videos_L27_a/video/L27_V007.mp4\", \"L27_V008\": \"/content/drive/Shareddrives/data_btc/video_btc/Videos_L27_a/video/L27_V008.mp4\", \"L27_V009\": \"/content/drive/Shareddrives/data_btc/video_btc/Videos_L27_a/video/L27_V009.mp4\", \"L27_V010\": \"/content/drive/Shareddrives/data_btc/video_btc/Videos_L27_a/video/L27_V010.mp4\", \"L27_V011\": \"/content/drive/Shareddrives/data_btc/video_btc/Videos_L27_a/video/L27_V011.mp4\", \"L27_V012\": \"/content/drive/Shareddrives/data_btc/video_btc/Videos_L27_a/video/L27_V012.mp4\", \"L27_V013\": \"/content/drive/Shareddrives/data_btc/video_btc/Videos_L27_a/video/L27_V013.mp4\", \"L27_V014\": \"/content/drive/Shareddrives/data_btc/video_btc/Videos_L27_a/video/L27_V014.mp4\", \"L27_V015\": \"/content/drive/Shareddrives/data_btc/video_btc/Videos_L27_a/video/L27_V015.mp4\", \"L27_V016\": \"/content/drive/Shareddrives/data_btc/video_btc/Videos_L27_a/video/L27_V016.mp4\"}, \"Videos_L28_a\": {\"L28_V001\": \"/content/drive/Shareddrives/data_btc/video_btc/Videos_L28_a/video/L28_V001.mp4\", \"L28_V002\": \"/content/drive/Shareddrives/data_btc/video_btc/Videos_L28_a/video/L28_V002.mp4\", \"L28_V003\": \"/content/drive/Shareddrives/data_btc/video_btc/Videos_L28_a/video/L28_V003.mp4\", \"L28_V004\": \"/content/drive/Shareddrives/data_btc/video_btc/Videos_L28_a/video/L28_V004.mp4\", \"L28_V005\": \"/content/drive/Shareddrives/data_btc/video_btc/Videos_L28_a/video/L28_V005.mp4\", \"L28_V006\": \"/content/drive/Shareddrives/data_btc/video_btc/Videos_L28_a/video/L28_V006.mp4\", \"L28_V007\": \"/content/drive/Shareddrives/data_btc/video_btc/Videos_L28_a/video/L28_V007.mp4\", \"L28_V008\": \"/content/drive/Shareddrives/data_btc/video_btc/Videos_L28_a/video/L28_V008.mp4\", \"L28_V009\": \"/content/drive/Shareddrives/data_btc/video_btc/Videos_L28_a/video/L28_V009.mp4\", \"L28_V010\": \"/content/drive/Shareddrives/data_btc/video_btc/Videos_L28_a/video/L28_V010.mp4\", \"L28_V011\": \"/content/drive/Shareddrives/data_btc/video_btc/Videos_L28_a/video/L28_V011.mp4\", \"L28_V012\": \"/content/drive/Shareddrives/data_btc/video_btc/Videos_L28_a/video/L28_V012.mp4\", \"L28_V013\": \"/content/drive/Shareddrives/data_btc/video_btc/Videos_L28_a/video/L28_V013.mp4\", \"L28_V014\": \"/content/drive/Shareddrives/data_btc/video_btc/Videos_L28_a/video/L28_V014.mp4\", \"L28_V015\": \"/content/drive/Shareddrives/data_btc/video_btc/Videos_L28_a/video/L28_V015.mp4\", \"L28_V016\": \"/content/drive/Shareddrives/data_btc/video_btc/Videos_L28_a/video/L28_V016.mp4\", \"L28_V017\": \"/content/drive/Shareddrives/data_btc/video_btc/Videos_L28_a/video/L28_V017.mp4\", \"L28_V018\": \"/content/drive/Shareddrives/data_btc/video_btc/Videos_L28_a/video/L28_V018.mp4\", \"L28_V019\": \"/content/drive/Shareddrives/data_btc/video_btc/Videos_L28_a/video/L28_V019.mp4\", \"L28_V020\": \"/content/drive/Shareddrives/data_btc/video_btc/Videos_L28_a/video/L28_V020.mp4\", \"L28_V021\": \"/content/drive/Shareddrives/data_btc/video_btc/Videos_L28_a/video/L28_V021.mp4\", \"L28_V022\": \"/content/drive/Shareddrives/data_btc/video_btc/Videos_L28_a/video/L28_V022.mp4\", \"L28_V023\": \"/content/drive/Shareddrives/data_btc/video_btc/Videos_L28_a/video/L28_V023.mp4\", \"L28_V024\": \"/content/drive/Shareddrives/data_btc/video_btc/Videos_L28_a/video/L28_V024.mp4\"}, \"Videos_L29_a\": {\"L29_V001\": \"/content/drive/Shareddrives/data_btc/video_btc/Videos_L29_a/video/L29_V001.mp4\", \"L29_V002\": \"/content/drive/Shareddrives/data_btc/video_btc/Videos_L29_a/video/L29_V002.mp4\", \"L29_V003\": \"/content/drive/Shareddrives/data_btc/video_btc/Videos_L29_a/video/L29_V003.mp4\", \"L29_V004\": \"/content/drive/Shareddrives/data_btc/video_btc/Videos_L29_a/video/L29_V004.mp4\", \"L29_V005\": \"/content/drive/Shareddrives/data_btc/video_btc/Videos_L29_a/video/L29_V005.mp4\", \"L29_V006\": \"/content/drive/Shareddrives/data_btc/video_btc/Videos_L29_a/video/L29_V006.mp4\", \"L29_V007\": \"/content/drive/Shareddrives/data_btc/video_btc/Videos_L29_a/video/L29_V007.mp4\", \"L29_V008\": \"/content/drive/Shareddrives/data_btc/video_btc/Videos_L29_a/video/L29_V008.mp4\", \"L29_V009\": \"/content/drive/Shareddrives/data_btc/video_btc/Videos_L29_a/video/L29_V009.mp4\", \"L29_V010\": \"/content/drive/Shareddrives/data_btc/video_btc/Videos_L29_a/video/L29_V010.mp4\", \"L29_V011\": \"/content/drive/Shareddrives/data_btc/video_btc/Videos_L29_a/video/L29_V011.mp4\", \"L29_V012\": \"/content/drive/Shareddrives/data_btc/video_btc/Videos_L29_a/video/L29_V012.mp4\", \"L29_V013\": \"/content/drive/Shareddrives/data_btc/video_btc/Videos_L29_a/video/L29_V013.mp4\", \"L29_V014\": \"/content/drive/Shareddrives/data_btc/video_btc/Videos_L29_a/video/L29_V014.mp4\", \"L29_V015\": \"/content/drive/Shareddrives/data_btc/video_btc/Videos_L29_a/video/L29_V015.mp4\", \"L29_V016\": \"/content/drive/Shareddrives/data_btc/video_btc/Videos_L29_a/video/L29_V016.mp4\", \"L29_V017\": \"/content/drive/Shareddrives/data_btc/video_btc/Videos_L29_a/video/L29_V017.mp4\", \"L29_V018\": \"/content/drive/Shareddrives/data_btc/video_btc/Videos_L29_a/video/L29_V018.mp4\", \"L29_V019\": \"/content/drive/Shareddrives/data_btc/video_btc/Videos_L29_a/video/L29_V019.mp4\", \"L29_V020\": \"/content/drive/Shareddrives/data_btc/video_btc/Videos_L29_a/video/L29_V020.mp4\", \"L29_V021\": \"/content/drive/Shareddrives/data_btc/video_btc/Videos_L29_a/video/L29_V021.mp4\", \"L29_V022\": \"/content/drive/Shareddrives/data_btc/video_btc/Videos_L29_a/video/L29_V022.mp4\", \"L29_V023\": \"/content/drive/Shareddrives/data_btc/video_btc/Videos_L29_a/video/L29_V023.mp4\"}, \"Videos_L30_a\": {\"L30_V001\": \"/content/drive/Shareddrives/data_btc/video_btc/Videos_L30_a/video/L30_V001.mp4\", \"L30_V002\": \"/content/drive/Shareddrives/data_btc/video_btc/Videos_L30_a/video/L30_V002.mp4\", \"L30_V003\": \"/content/drive/Shareddrives/data_btc/video_btc/Videos_L30_a/video/L30_V003.mp4\", \"L30_V004\": \"/content/drive/Shareddrives/data_btc/video_btc/Videos_L30_a/video/L30_V004.mp4\", \"L30_V005\": \"/content/drive/Shareddrives/data_btc/video_btc/Videos_L30_a/video/L30_V005.mp4\", \"L30_V006\": \"/content/drive/Shareddrives/data_btc/video_btc/Videos_L30_a/video/L30_V006.mp4\", \"L30_V007\": \"/content/drive/Shareddrives/data_btc/video_btc/Videos_L30_a/video/L30_V007.mp4\", \"L30_V008\": \"/content/drive/Shareddrives/data_btc/video_btc/Videos_L30_a/video/L30_V008.mp4\", \"L30_V009\": \"/content/drive/Shareddrives/data_btc/video_btc/Videos_L30_a/video/L30_V009.mp4\", \"L30_V010\": \"/content/drive/Shareddrives/data_btc/video_btc/Videos_L30_a/video/L30_V010.mp4\", \"L30_V011\": \"/content/drive/Shareddrives/data_btc/video_btc/Videos_L30_a/video/L30_V011.mp4\", \"L30_V012\": \"/content/drive/Shareddrives/data_btc/video_btc/Videos_L30_a/video/L30_V012.mp4\", \"L30_V013\": \"/content/drive/Shareddrives/data_btc/video_btc/Videos_L30_a/video/L30_V013.mp4\", \"L30_V014\": \"/content/drive/Shareddrives/data_btc/video_btc/Videos_L30_a/video/L30_V014.mp4\", \"L30_V015\": \"/content/drive/Shareddrives/data_btc/video_btc/Videos_L30_a/video/L30_V015.mp4\", \"L30_V016\": \"/content/drive/Shareddrives/data_btc/video_btc/Videos_L30_a/video/L30_V016.mp4\", \"L30_V017\": \"/content/drive/Shareddrives/data_btc/video_btc/Videos_L30_a/video/L30_V017.mp4\", \"L30_V018\": \"/content/drive/Shareddrives/data_btc/video_btc/Videos_L30_a/video/L30_V018.mp4\", \"L30_V019\": \"/content/drive/Shareddrives/data_btc/video_btc/Videos_L30_a/video/L30_V019.mp4\", \"L30_V020\": \"/content/drive/Shareddrives/data_btc/video_btc/Videos_L30_a/video/L30_V020.mp4\", \"L30_V021\": \"/content/drive/Shareddrives/data_btc/video_btc/Videos_L30_a/video/L30_V021.mp4\", \"L30_V022\": \"/content/drive/Shareddrives/data_btc/video_btc/Videos_L30_a/video/L30_V022.mp4\", \"L30_V023\": \"/content/drive/Shareddrives/data_btc/video_btc/Videos_L30_a/video/L30_V023.mp4\", \"L30_V024\": \"/content/drive/Shareddrives/data_btc/video_btc/Videos_L30_a/video/L30_V024.mp4\", \"L30_V025\": \"/content/drive/Shareddrives/data_btc/video_btc/Videos_L30_a/video/L30_V025.mp4\", \"L30_V026\": \"/content/drive/Shareddrives/data_btc/video_btc/Videos_L30_a/video/L30_V026.mp4\", \"L30_V027\": \"/content/drive/Shareddrives/data_btc/video_btc/Videos_L30_a/video/L30_V027.mp4\", \"L30_V028\": \"/content/drive/Shareddrives/data_btc/video_btc/Videos_L30_a/video/L30_V028.mp4\", \"L30_V029\": \"/content/drive/Shareddrives/data_btc/video_btc/Videos_L30_a/video/L30_V029.mp4\", \"L30_V030\": \"/content/drive/Shareddrives/data_btc/video_btc/Videos_L30_a/video/L30_V030.mp4\", \"L30_V031\": \"/content/drive/Shareddrives/data_btc/video_btc/Videos_L30_a/video/L30_V031.mp4\", \"L30_V032\": \"/content/drive/Shareddrives/data_btc/video_btc/Videos_L30_a/video/L30_V032.mp4\", \"L30_V033\": \"/content/drive/Shareddrives/data_btc/video_btc/Videos_L30_a/video/L30_V033.mp4\", \"L30_V034\": \"/content/drive/Shareddrives/data_btc/video_btc/Videos_L30_a/video/L30_V034.mp4\", \"L30_V035\": \"/content/drive/Shareddrives/data_btc/video_btc/Videos_L30_a/video/L30_V035.mp4\", \"L30_V036\": \"/content/drive/Shareddrives/data_btc/video_btc/Videos_L30_a/video/L30_V036.mp4\", \"L30_V037\": \"/content/drive/Shareddrives/data_btc/video_btc/Videos_L30_a/video/L30_V037.mp4\", \"L30_V038\": \"/content/drive/Shareddrives/data_btc/video_btc/Videos_L30_a/video/L30_V038.mp4\", \"L30_V039\": \"/content/drive/Shareddrives/data_btc/video_btc/Videos_L30_a/video/L30_V039.mp4\", \"L30_V040\": \"/content/drive/Shareddrives/data_btc/video_btc/Videos_L30_a/video/L30_V040.mp4\", \"L30_V041\": \"/content/drive/Shareddrives/data_btc/video_btc/Videos_L30_a/video/L30_V041.mp4\", \"L30_V042\": \"/content/drive/Shareddrives/data_btc/video_btc/Videos_L30_a/video/L30_V042.mp4\", \"L30_V043\": \"/content/drive/Shareddrives/data_btc/video_btc/Videos_L30_a/video/L30_V043.mp4\", \"L30_V044\": \"/content/drive/Shareddrives/data_btc/video_btc/Videos_L30_a/video/L30_V044.mp4\", \"L30_V045\": \"/content/drive/Shareddrives/data_btc/video_btc/Videos_L30_a/video/L30_V045.mp4\", \"L30_V046\": \"/content/drive/Shareddrives/data_btc/video_btc/Videos_L30_a/video/L30_V046.mp4\", \"L30_V047\": \"/content/drive/Shareddrives/data_btc/video_btc/Videos_L30_a/video/L30_V047.mp4\", \"L30_V048\": \"/content/drive/Shareddrives/data_btc/video_btc/Videos_L30_a/video/L30_V048.mp4\", \"L30_V049\": \"/content/drive/Shareddrives/data_btc/video_btc/Videos_L30_a/video/L30_V049.mp4\", \"L30_V050\": \"/content/drive/Shareddrives/data_btc/video_btc/Videos_L30_a/video/L30_V050.mp4\", \"L30_V051\": \"/content/drive/Shareddrives/data_btc/video_btc/Videos_L30_a/video/L30_V051.mp4\", \"L30_V052\": \"/content/drive/Shareddrives/data_btc/video_btc/Videos_L30_a/video/L30_V052.mp4\", \"L30_V053\": \"/content/drive/Shareddrives/data_btc/video_btc/Videos_L30_a/video/L30_V053.mp4\", \"L30_V054\": \"/content/drive/Shareddrives/data_btc/video_btc/Videos_L30_a/video/L30_V054.mp4\", \"L30_V055\": \"/content/drive/Shareddrives/data_btc/video_btc/Videos_L30_a/video/L30_V055.mp4\", \"L30_V056\": \"/content/drive/Shareddrives/data_btc/video_btc/Videos_L30_a/video/L30_V056.mp4\", \"L30_V057\": \"/content/drive/Shareddrives/data_btc/video_btc/Videos_L30_a/video/L30_V057.mp4\", \"L30_V058\": \"/content/drive/Shareddrives/data_btc/video_btc/Videos_L30_a/video/L30_V058.mp4\", \"L30_V059\": \"/content/drive/Shareddrives/data_btc/video_btc/Videos_L30_a/video/L30_V059.mp4\", \"L30_V060\": \"/content/drive/Shareddrives/data_btc/video_btc/Videos_L30_a/video/L30_V060.mp4\", \"L30_V061\": \"/content/drive/Shareddrives/data_btc/video_btc/Videos_L30_a/video/L30_V061.mp4\", \"L30_V062\": \"/content/drive/Shareddrives/data_btc/video_btc/Videos_L30_a/video/L30_V062.mp4\", \"L30_V063\": \"/content/drive/Shareddrives/data_btc/video_btc/Videos_L30_a/video/L30_V063.mp4\", \"L30_V064\": \"/content/drive/Shareddrives/data_btc/video_btc/Videos_L30_a/video/L30_V064.mp4\", \"L30_V065\": \"/content/drive/Shareddrives/data_btc/video_btc/Videos_L30_a/video/L30_V065.mp4\", \"L30_V066\": \"/content/drive/Shareddrives/data_btc/video_btc/Videos_L30_a/video/L30_V066.mp4\", \"L30_V067\": \"/content/drive/Shareddrives/data_btc/video_btc/Videos_L30_a/video/L30_V067.mp4\", \"L30_V068\": \"/content/drive/Shareddrives/data_btc/video_btc/Videos_L30_a/video/L30_V068.mp4\", \"L30_V069\": \"/content/drive/Shareddrives/data_btc/video_btc/Videos_L30_a/video/L30_V069.mp4\", \"L30_V070\": \"/content/drive/Shareddrives/data_btc/video_btc/Videos_L30_a/video/L30_V070.mp4\", \"L30_V071\": \"/content/drive/Shareddrives/data_btc/video_btc/Videos_L30_a/video/L30_V071.mp4\", \"L30_V072\": \"/content/drive/Shareddrives/data_btc/video_btc/Videos_L30_a/video/L30_V072.mp4\", \"L30_V073\": \"/content/drive/Shareddrives/data_btc/video_btc/Videos_L30_a/video/L30_V073.mp4\", \"L30_V074\": \"/content/drive/Shareddrives/data_btc/video_btc/Videos_L30_a/video/L30_V074.mp4\", \"L30_V075\": \"/content/drive/Shareddrives/data_btc/video_btc/Videos_L30_a/video/L30_V075.mp4\", \"L30_V076\": \"/content/drive/Shareddrives/data_btc/video_btc/Videos_L30_a/video/L30_V076.mp4\", \"L30_V077\": \"/content/drive/Shareddrives/data_btc/video_btc/Videos_L30_a/video/L30_V077.mp4\", \"L30_V078\": \"/content/drive/Shareddrives/data_btc/video_btc/Videos_L30_a/video/L30_V078.mp4\", \"L30_V079\": \"/content/drive/Shareddrives/data_btc/video_btc/Videos_L30_a/video/L30_V079.mp4\", \"L30_V080\": \"/content/drive/Shareddrives/data_btc/video_btc/Videos_L30_a/video/L30_V080.mp4\", \"L30_V081\": \"/content/drive/Shareddrives/data_btc/video_btc/Videos_L30_a/video/L30_V081.mp4\", \"L30_V082\": \"/content/drive/Shareddrives/data_btc/video_btc/Videos_L30_a/video/L30_V082.mp4\", \"L30_V083\": \"/content/drive/Shareddrives/data_btc/video_btc/Videos_L30_a/video/L30_V083.mp4\", \"L30_V084\": \"/content/drive/Shareddrives/data_btc/video_btc/Videos_L30_a/video/L30_V084.mp4\", \"L30_V085\": \"/content/drive/Shareddrives/data_btc/video_btc/Videos_L30_a/video/L30_V085.mp4\", \"L30_V086\": \"/content/drive/Shareddrives/data_btc/video_btc/Videos_L30_a/video/L30_V086.mp4\", \"L30_V087\": \"/content/drive/Shareddrives/data_btc/video_btc/Videos_L30_a/video/L30_V087.mp4\", \"L30_V088\": \"/content/drive/Shareddrives/data_btc/video_btc/Videos_L30_a/video/L30_V088.mp4\", \"L30_V089\": \"/content/drive/Shareddrives/data_btc/video_btc/Videos_L30_a/video/L30_V089.mp4\", \"L30_V090\": \"/content/drive/Shareddrives/data_btc/video_btc/Videos_L30_a/video/L30_V090.mp4\", \"L30_V091\": \"/content/drive/Shareddrives/data_btc/video_btc/Videos_L30_a/video/L30_V091.mp4\", \"L30_V092\": \"/content/drive/Shareddrives/data_btc/video_btc/Videos_L30_a/video/L30_V092.mp4\", \"L30_V093\": \"/content/drive/Shareddrives/data_btc/video_btc/Videos_L30_a/video/L30_V093.mp4\", \"L30_V094\": \"/content/drive/Shareddrives/data_btc/video_btc/Videos_L30_a/video/L30_V094.mp4\", \"L30_V095\": \"/content/drive/Shareddrives/data_btc/video_btc/Videos_L30_a/video/L30_V095.mp4\", \"L30_V096\": \"/content/drive/Shareddrives/data_btc/video_btc/Videos_L30_a/video/L30_V096.mp4\"}}\n"
     ]
    }
   ],
   "source": [
    "dataset_dir = \"/content/drive/Shareddrives/data_btc/video_btc\"\n",
    "\n",
    "all_video_paths = dict()\n",
    "\n",
    "for folder in sorted(os.listdir(dataset_dir)):\n",
    "    all_video_paths[folder] = dict()\n",
    "print(all_video_paths)\n",
    "\n",
    "for data_part in sorted(all_video_paths.keys()):\n",
    "    data_part_path = f\"{dataset_dir}/{data_part}/video\"\n",
    "    video_paths = sorted(glob.glob(f\"{data_part_path}/*.mp4\"))\n",
    "    # print(video_paths)\n",
    "    for video_path in video_paths:\n",
    "        video_name = video_path.split(\"/\")[-1].replace(\".mp4\", \"\")\n",
    "        video_path_full = f\"{data_part_path}/{video_path}\"\n",
    "        all_video_paths[data_part][video_name] = video_path\n",
    "\n",
    "print(json.dumps(all_video_paths))"
   ]
  },
  {
   "cell_type": "code",
   "execution_count": 6,
   "metadata": {
    "colab": {
     "base_uri": "https://localhost:8080/"
    },
    "executionInfo": {
     "elapsed": 2546560,
     "status": "ok",
     "timestamp": 1755324000137,
     "user": {
      "displayName": "Trọng Nhân Trần",
      "userId": "03229783797276256440"
     },
     "user_tz": -420
    },
    "id": "ddgyuq_TomAh",
    "outputId": "65a46564-03c7-4f82-b38f-56017c34a181"
   },
   "outputs": [
    {
     "name": "stdout",
     "output_type": "stream",
     "text": [
      "[TransNetV2] Using weights from /content/TransNetV2/inference/transnetv2-weights/.\n"
     ]
    },
    {
     "name": "stderr",
     "output_type": "stream",
     "text": [
      "\rDetecting shots:   0%|          | 0/96 [00:00<?, ?it/s]"
     ]
    },
    {
     "name": "stdout",
     "output_type": "stream",
     "text": [
      "[TransNetV2] Extracting frames from /content/drive/Shareddrives/data_btc/video_btc/Videos_L30_a/video/L30_V001.mp4\n",
      "[TransNetV2] Processing video frames 2950/3162"
     ]
    },
    {
     "name": "stderr",
     "output_type": "stream",
     "text": [
      "\rDetecting shots:   1%|          | 1/96 [00:16<26:29, 16.73s/it]"
     ]
    },
    {
     "name": "stdout",
     "output_type": "stream",
     "text": [
      "\r[TransNetV2] Processing video frames 3000/3162\r[TransNetV2] Processing video frames 3050/3162\r[TransNetV2] Processing video frames 3100/3162\r[TransNetV2] Processing video frames 3150/3162\r[TransNetV2] Processing video frames 3162/3162\n",
      "[TransNetV2] Extracting frames from /content/drive/Shareddrives/data_btc/video_btc/Videos_L30_a/video/L30_V002.mp4\n",
      "[TransNetV2] Processing video frames 3950/4117"
     ]
    },
    {
     "name": "stderr",
     "output_type": "stream",
     "text": [
      "\rDetecting shots:   2%|▏         | 2/96 [00:37<29:39, 18.93s/it]"
     ]
    },
    {
     "name": "stdout",
     "output_type": "stream",
     "text": [
      "\r[TransNetV2] Processing video frames 4000/4117\r[TransNetV2] Processing video frames 4050/4117\r[TransNetV2] Processing video frames 4100/4117\r[TransNetV2] Processing video frames 4117/4117\n",
      "[TransNetV2] Extracting frames from /content/drive/Shareddrives/data_btc/video_btc/Videos_L30_a/video/L30_V003.mp4\n",
      "[TransNetV2] Processing video frames 7900/8092"
     ]
    },
    {
     "name": "stderr",
     "output_type": "stream",
     "text": [
      "\rDetecting shots:   3%|▎         | 3/96 [01:16<43:33, 28.10s/it]"
     ]
    },
    {
     "name": "stdout",
     "output_type": "stream",
     "text": [
      "\r[TransNetV2] Processing video frames 7950/8092\r[TransNetV2] Processing video frames 8000/8092\r[TransNetV2] Processing video frames 8050/8092\r[TransNetV2] Processing video frames 8092/8092\n",
      "[TransNetV2] Extracting frames from /content/drive/Shareddrives/data_btc/video_btc/Videos_L30_a/video/L30_V004.mp4\n",
      "[TransNetV2] Processing video frames 5950/6002"
     ]
    },
    {
     "name": "stderr",
     "output_type": "stream",
     "text": [
      "\rDetecting shots:   4%|▍         | 4/96 [01:41<41:28, 27.04s/it]"
     ]
    },
    {
     "name": "stdout",
     "output_type": "stream",
     "text": [
      "\r[TransNetV2] Processing video frames 6000/6002\r[TransNetV2] Processing video frames 6002/6002\n",
      "[TransNetV2] Extracting frames from /content/drive/Shareddrives/data_btc/video_btc/Videos_L30_a/video/L30_V005.mp4\n",
      "[TransNetV2] Processing video frames 1650/1659"
     ]
    },
    {
     "name": "stderr",
     "output_type": "stream",
     "text": [
      "\rDetecting shots:   5%|▌         | 5/96 [01:51<31:28, 20.75s/it]"
     ]
    },
    {
     "name": "stdout",
     "output_type": "stream",
     "text": [
      "\r[TransNetV2] Processing video frames 1659/1659\n",
      "[TransNetV2] Extracting frames from /content/drive/Shareddrives/data_btc/video_btc/Videos_L30_a/video/L30_V006.mp4\n",
      "[TransNetV2] Processing video frames 4450/4660"
     ]
    },
    {
     "name": "stderr",
     "output_type": "stream",
     "text": [
      "\rDetecting shots:   6%|▋         | 6/96 [02:13<31:54, 21.27s/it]"
     ]
    },
    {
     "name": "stdout",
     "output_type": "stream",
     "text": [
      "\r[TransNetV2] Processing video frames 4500/4660\r[TransNetV2] Processing video frames 4550/4660\r[TransNetV2] Processing video frames 4600/4660\r[TransNetV2] Processing video frames 4650/4660\r[TransNetV2] Processing video frames 4660/4660\n",
      "[TransNetV2] Extracting frames from /content/drive/Shareddrives/data_btc/video_btc/Videos_L30_a/video/L30_V007.mp4\n",
      "[TransNetV2] Processing video frames 7700/7795"
     ]
    },
    {
     "name": "stderr",
     "output_type": "stream",
     "text": [
      "\rDetecting shots:   7%|▋         | 7/96 [02:49<38:45, 26.13s/it]"
     ]
    },
    {
     "name": "stdout",
     "output_type": "stream",
     "text": [
      "\r[TransNetV2] Processing video frames 7750/7795\r[TransNetV2] Processing video frames 7795/7795\n",
      "[TransNetV2] Extracting frames from /content/drive/Shareddrives/data_btc/video_btc/Videos_L30_a/video/L30_V008.mp4\n",
      "[TransNetV2] Processing video frames 4950/5132"
     ]
    },
    {
     "name": "stderr",
     "output_type": "stream",
     "text": [
      "\rDetecting shots:   8%|▊         | 8/96 [03:13<37:12, 25.36s/it]"
     ]
    },
    {
     "name": "stdout",
     "output_type": "stream",
     "text": [
      "\r[TransNetV2] Processing video frames 5000/5132\r[TransNetV2] Processing video frames 5050/5132\r[TransNetV2] Processing video frames 5100/5132\r[TransNetV2] Processing video frames 5132/5132\n",
      "[TransNetV2] Extracting frames from /content/drive/Shareddrives/data_btc/video_btc/Videos_L30_a/video/L30_V009.mp4\n",
      "[TransNetV2] Processing video frames 10400/10542"
     ]
    },
    {
     "name": "stderr",
     "output_type": "stream",
     "text": [
      "\rDetecting shots:   9%|▉         | 9/96 [03:54<43:53, 30.27s/it]"
     ]
    },
    {
     "name": "stdout",
     "output_type": "stream",
     "text": [
      "\r[TransNetV2] Processing video frames 10450/10542\r[TransNetV2] Processing video frames 10500/10542\r[TransNetV2] Processing video frames 10542/10542\n",
      "[TransNetV2] Extracting frames from /content/drive/Shareddrives/data_btc/video_btc/Videos_L30_a/video/L30_V010.mp4\n",
      "[TransNetV2] Processing video frames 3950/4143"
     ]
    },
    {
     "name": "stderr",
     "output_type": "stream",
     "text": [
      "\rDetecting shots:  10%|█         | 10/96 [04:14<38:45, 27.04s/it]"
     ]
    },
    {
     "name": "stdout",
     "output_type": "stream",
     "text": [
      "\r[TransNetV2] Processing video frames 4000/4143\r[TransNetV2] Processing video frames 4050/4143\r[TransNetV2] Processing video frames 4100/4143\r[TransNetV2] Processing video frames 4143/4143\n",
      "[TransNetV2] Extracting frames from /content/drive/Shareddrives/data_btc/video_btc/Videos_L30_a/video/L30_V011.mp4\n",
      "[TransNetV2] Processing video frames 1700/1882"
     ]
    },
    {
     "name": "stderr",
     "output_type": "stream",
     "text": [
      "\rDetecting shots:  11%|█▏        | 11/96 [04:25<31:28, 22.22s/it]"
     ]
    },
    {
     "name": "stdout",
     "output_type": "stream",
     "text": [
      "\r[TransNetV2] Processing video frames 1750/1882\r[TransNetV2] Processing video frames 1800/1882\r[TransNetV2] Processing video frames 1850/1882\r[TransNetV2] Processing video frames 1882/1882\n",
      "[TransNetV2] Extracting frames from /content/drive/Shareddrives/data_btc/video_btc/Videos_L30_a/video/L30_V012.mp4\n",
      "[TransNetV2] Processing video frames 7950/7995"
     ]
    },
    {
     "name": "stderr",
     "output_type": "stream",
     "text": [
      "\rDetecting shots:  12%|█▎        | 12/96 [05:02<37:25, 26.73s/it]"
     ]
    },
    {
     "name": "stdout",
     "output_type": "stream",
     "text": [
      "\r[TransNetV2] Processing video frames 7995/7995\n",
      "[TransNetV2] Extracting frames from /content/drive/Shareddrives/data_btc/video_btc/Videos_L30_a/video/L30_V013.mp4\n",
      "[TransNetV2] Processing video frames 1950/2036"
     ]
    },
    {
     "name": "stderr",
     "output_type": "stream",
     "text": [
      "\rDetecting shots:  14%|█▎        | 13/96 [05:11<29:43, 21.49s/it]"
     ]
    },
    {
     "name": "stdout",
     "output_type": "stream",
     "text": [
      "\r[TransNetV2] Processing video frames 2000/2036\r[TransNetV2] Processing video frames 2036/2036\n",
      "[TransNetV2] Extracting frames from /content/drive/Shareddrives/data_btc/video_btc/Videos_L30_a/video/L30_V014.mp4\n",
      "[TransNetV2] Processing video frames 2700/2858"
     ]
    },
    {
     "name": "stderr",
     "output_type": "stream",
     "text": [
      "\rDetecting shots:  15%|█▍        | 14/96 [05:28<27:26, 20.08s/it]"
     ]
    },
    {
     "name": "stdout",
     "output_type": "stream",
     "text": [
      "\r[TransNetV2] Processing video frames 2750/2858\r[TransNetV2] Processing video frames 2800/2858\r[TransNetV2] Processing video frames 2850/2858\r[TransNetV2] Processing video frames 2858/2858\n",
      "[TransNetV2] Extracting frames from /content/drive/Shareddrives/data_btc/video_btc/Videos_L30_a/video/L30_V015.mp4\n",
      "[TransNetV2] Processing video frames 6700/6788"
     ]
    },
    {
     "name": "stderr",
     "output_type": "stream",
     "text": [
      "\rDetecting shots:  16%|█▌        | 15/96 [06:04<33:30, 24.82s/it]"
     ]
    },
    {
     "name": "stdout",
     "output_type": "stream",
     "text": [
      "\r[TransNetV2] Processing video frames 6750/6788\r[TransNetV2] Processing video frames 6788/6788\n",
      "[TransNetV2] Extracting frames from /content/drive/Shareddrives/data_btc/video_btc/Videos_L30_a/video/L30_V016.mp4\n",
      "[TransNetV2] Processing video frames 3400/3455"
     ]
    },
    {
     "name": "stderr",
     "output_type": "stream",
     "text": [
      "\rDetecting shots:  17%|█▋        | 16/96 [06:21<29:42, 22.28s/it]"
     ]
    },
    {
     "name": "stdout",
     "output_type": "stream",
     "text": [
      "\r[TransNetV2] Processing video frames 3450/3455\r[TransNetV2] Processing video frames 3455/3455\n",
      "[TransNetV2] Extracting frames from /content/drive/Shareddrives/data_btc/video_btc/Videos_L30_a/video/L30_V017.mp4\n",
      "[TransNetV2] Processing video frames 7150/7265"
     ]
    },
    {
     "name": "stderr",
     "output_type": "stream",
     "text": [
      "\rDetecting shots:  18%|█▊        | 17/96 [06:59<35:37, 27.05s/it]"
     ]
    },
    {
     "name": "stdout",
     "output_type": "stream",
     "text": [
      "\r[TransNetV2] Processing video frames 7200/7265\r[TransNetV2] Processing video frames 7250/7265\r[TransNetV2] Processing video frames 7265/7265\n",
      "[TransNetV2] Extracting frames from /content/drive/Shareddrives/data_btc/video_btc/Videos_L30_a/video/L30_V018.mp4\n",
      "[TransNetV2] Processing video frames 9448/9448\n"
     ]
    },
    {
     "name": "stderr",
     "output_type": "stream",
     "text": [
      "\rDetecting shots:  19%|█▉        | 18/96 [07:42<41:20, 31.80s/it]"
     ]
    },
    {
     "name": "stdout",
     "output_type": "stream",
     "text": [
      "[TransNetV2] Extracting frames from /content/drive/Shareddrives/data_btc/video_btc/Videos_L30_a/video/L30_V019.mp4\n",
      "[TransNetV2] Processing video frames 4200/4386"
     ]
    },
    {
     "name": "stderr",
     "output_type": "stream",
     "text": [
      "\rDetecting shots:  20%|█▉        | 19/96 [08:03<36:54, 28.76s/it]"
     ]
    },
    {
     "name": "stdout",
     "output_type": "stream",
     "text": [
      "\r[TransNetV2] Processing video frames 4250/4386\r[TransNetV2] Processing video frames 4300/4386\r[TransNetV2] Processing video frames 4350/4386\r[TransNetV2] Processing video frames 4386/4386\n",
      "[TransNetV2] Extracting frames from /content/drive/Shareddrives/data_btc/video_btc/Videos_L30_a/video/L30_V020.mp4\n",
      "[TransNetV2] Processing video frames 3450/3526"
     ]
    },
    {
     "name": "stderr",
     "output_type": "stream",
     "text": [
      "\rDetecting shots:  21%|██        | 20/96 [08:20<31:47, 25.10s/it]"
     ]
    },
    {
     "name": "stdout",
     "output_type": "stream",
     "text": [
      "\r[TransNetV2] Processing video frames 3500/3526\r[TransNetV2] Processing video frames 3526/3526\n",
      "[TransNetV2] Extracting frames from /content/drive/Shareddrives/data_btc/video_btc/Videos_L30_a/video/L30_V021.mp4\n",
      "[TransNetV2] Processing video frames 3150/3153"
     ]
    },
    {
     "name": "stderr",
     "output_type": "stream",
     "text": [
      "\rDetecting shots:  22%|██▏       | 21/96 [08:36<27:58, 22.39s/it]"
     ]
    },
    {
     "name": "stdout",
     "output_type": "stream",
     "text": [
      "\r[TransNetV2] Processing video frames 3153/3153\n",
      "[TransNetV2] Extracting frames from /content/drive/Shareddrives/data_btc/video_btc/Videos_L30_a/video/L30_V022.mp4\n",
      "[TransNetV2] Processing video frames 2700/2914"
     ]
    },
    {
     "name": "stderr",
     "output_type": "stream",
     "text": [
      "\rDetecting shots:  23%|██▎       | 22/96 [08:52<25:13, 20.45s/it]"
     ]
    },
    {
     "name": "stdout",
     "output_type": "stream",
     "text": [
      "\r[TransNetV2] Processing video frames 2750/2914\r[TransNetV2] Processing video frames 2800/2914\r[TransNetV2] Processing video frames 2850/2914\r[TransNetV2] Processing video frames 2900/2914\r[TransNetV2] Processing video frames 2914/2914\n",
      "[TransNetV2] Extracting frames from /content/drive/Shareddrives/data_btc/video_btc/Videos_L30_a/video/L30_V023.mp4\n",
      "[TransNetV2] Processing video frames 5700/5882"
     ]
    },
    {
     "name": "stderr",
     "output_type": "stream",
     "text": [
      "\rDetecting shots:  24%|██▍       | 23/96 [09:25<29:26, 24.19s/it]"
     ]
    },
    {
     "name": "stdout",
     "output_type": "stream",
     "text": [
      "\r[TransNetV2] Processing video frames 5750/5882\r[TransNetV2] Processing video frames 5800/5882\r[TransNetV2] Processing video frames 5850/5882\r[TransNetV2] Processing video frames 5882/5882\n",
      "[TransNetV2] Extracting frames from /content/drive/Shareddrives/data_btc/video_btc/Videos_L30_a/video/L30_V024.mp4\n",
      "[TransNetV2] Processing video frames 3200/3407"
     ]
    },
    {
     "name": "stderr",
     "output_type": "stream",
     "text": [
      "\rDetecting shots:  25%|██▌       | 24/96 [09:45<27:32, 22.95s/it]"
     ]
    },
    {
     "name": "stdout",
     "output_type": "stream",
     "text": [
      "\r[TransNetV2] Processing video frames 3250/3407\r[TransNetV2] Processing video frames 3300/3407\r[TransNetV2] Processing video frames 3350/3407\r[TransNetV2] Processing video frames 3400/3407\r[TransNetV2] Processing video frames 3407/3407\n",
      "[TransNetV2] Extracting frames from /content/drive/Shareddrives/data_btc/video_btc/Videos_L30_a/video/L30_V025.mp4\n",
      "[TransNetV2] Processing video frames 5950/6189"
     ]
    },
    {
     "name": "stderr",
     "output_type": "stream",
     "text": [
      "\rDetecting shots:  26%|██▌       | 25/96 [10:19<31:10, 26.35s/it]"
     ]
    },
    {
     "name": "stdout",
     "output_type": "stream",
     "text": [
      "\r[TransNetV2] Processing video frames 6000/6189\r[TransNetV2] Processing video frames 6050/6189\r[TransNetV2] Processing video frames 6100/6189\r[TransNetV2] Processing video frames 6150/6189\r[TransNetV2] Processing video frames 6189/6189\n",
      "[TransNetV2] Extracting frames from /content/drive/Shareddrives/data_btc/video_btc/Videos_L30_a/video/L30_V026.mp4\n",
      "[TransNetV2] Processing video frames 4450/4539"
     ]
    },
    {
     "name": "stderr",
     "output_type": "stream",
     "text": [
      "\rDetecting shots:  27%|██▋       | 26/96 [10:44<30:25, 26.08s/it]"
     ]
    },
    {
     "name": "stdout",
     "output_type": "stream",
     "text": [
      "\r[TransNetV2] Processing video frames 4500/4539\r[TransNetV2] Processing video frames 4539/4539\n",
      "[TransNetV2] Extracting frames from /content/drive/Shareddrives/data_btc/video_btc/Videos_L30_a/video/L30_V027.mp4\n",
      "[TransNetV2] Processing video frames 8650/8783"
     ]
    },
    {
     "name": "stderr",
     "output_type": "stream",
     "text": [
      "\rDetecting shots:  28%|██▊       | 27/96 [11:27<35:35, 30.95s/it]"
     ]
    },
    {
     "name": "stdout",
     "output_type": "stream",
     "text": [
      "\r[TransNetV2] Processing video frames 8700/8783\r[TransNetV2] Processing video frames 8750/8783\r[TransNetV2] Processing video frames 8783/8783\n",
      "[TransNetV2] Extracting frames from /content/drive/Shareddrives/data_btc/video_btc/Videos_L30_a/video/L30_V028.mp4\n",
      "[TransNetV2] Processing video frames 5950/6123"
     ]
    },
    {
     "name": "stderr",
     "output_type": "stream",
     "text": [
      "\rDetecting shots:  29%|██▉       | 28/96 [11:58<35:18, 31.16s/it]"
     ]
    },
    {
     "name": "stdout",
     "output_type": "stream",
     "text": [
      "\r[TransNetV2] Processing video frames 6000/6123\r[TransNetV2] Processing video frames 6050/6123\r[TransNetV2] Processing video frames 6100/6123\r[TransNetV2] Processing video frames 6123/6123\n",
      "[TransNetV2] Extracting frames from /content/drive/Shareddrives/data_btc/video_btc/Videos_L30_a/video/L30_V029.mp4\n",
      "[TransNetV2] Processing video frames 7650/7813"
     ]
    },
    {
     "name": "stderr",
     "output_type": "stream",
     "text": [
      "\rDetecting shots:  30%|███       | 29/96 [12:34<36:13, 32.45s/it]"
     ]
    },
    {
     "name": "stdout",
     "output_type": "stream",
     "text": [
      "\r[TransNetV2] Processing video frames 7700/7813\r[TransNetV2] Processing video frames 7750/7813\r[TransNetV2] Processing video frames 7800/7813\r[TransNetV2] Processing video frames 7813/7813\n",
      "[TransNetV2] Extracting frames from /content/drive/Shareddrives/data_btc/video_btc/Videos_L30_a/video/L30_V030.mp4\n",
      "[TransNetV2] Processing video frames 8450/8592"
     ]
    },
    {
     "name": "stderr",
     "output_type": "stream",
     "text": [
      "\rDetecting shots:  31%|███▏      | 30/96 [13:16<38:57, 35.42s/it]"
     ]
    },
    {
     "name": "stdout",
     "output_type": "stream",
     "text": [
      "\r[TransNetV2] Processing video frames 8500/8592\r[TransNetV2] Processing video frames 8550/8592\r[TransNetV2] Processing video frames 8592/8592\n",
      "[TransNetV2] Extracting frames from /content/drive/Shareddrives/data_btc/video_btc/Videos_L30_a/video/L30_V031.mp4\n",
      "[TransNetV2] Processing video frames 3450/3499"
     ]
    },
    {
     "name": "stderr",
     "output_type": "stream",
     "text": [
      "\rDetecting shots:  32%|███▏      | 31/96 [13:34<32:45, 30.24s/it]"
     ]
    },
    {
     "name": "stdout",
     "output_type": "stream",
     "text": [
      "\r[TransNetV2] Processing video frames 3499/3499\n",
      "[TransNetV2] Extracting frames from /content/drive/Shareddrives/data_btc/video_btc/Videos_L30_a/video/L30_V032.mp4\n",
      "[TransNetV2] Processing video frames 6200/6258"
     ]
    },
    {
     "name": "stderr",
     "output_type": "stream",
     "text": [
      "\rDetecting shots:  33%|███▎      | 32/96 [14:05<32:14, 30.23s/it]"
     ]
    },
    {
     "name": "stdout",
     "output_type": "stream",
     "text": [
      "\r[TransNetV2] Processing video frames 6250/6258\r[TransNetV2] Processing video frames 6258/6258\n",
      "[TransNetV2] Extracting frames from /content/drive/Shareddrives/data_btc/video_btc/Videos_L30_a/video/L30_V033.mp4\n",
      "[TransNetV2] Processing video frames 8450/8579"
     ]
    },
    {
     "name": "stderr",
     "output_type": "stream",
     "text": [
      "\rDetecting shots:  34%|███▍      | 33/96 [14:50<36:36, 34.86s/it]"
     ]
    },
    {
     "name": "stdout",
     "output_type": "stream",
     "text": [
      "\r[TransNetV2] Processing video frames 8500/8579\r[TransNetV2] Processing video frames 8550/8579\r[TransNetV2] Processing video frames 8579/8579\n",
      "[TransNetV2] Extracting frames from /content/drive/Shareddrives/data_btc/video_btc/Videos_L30_a/video/L30_V034.mp4\n",
      "[TransNetV2] Processing video frames 6450/6630"
     ]
    },
    {
     "name": "stderr",
     "output_type": "stream",
     "text": [
      "\rDetecting shots:  35%|███▌      | 34/96 [15:23<35:19, 34.18s/it]"
     ]
    },
    {
     "name": "stdout",
     "output_type": "stream",
     "text": [
      "\r[TransNetV2] Processing video frames 6500/6630\r[TransNetV2] Processing video frames 6550/6630\r[TransNetV2] Processing video frames 6600/6630\r[TransNetV2] Processing video frames 6630/6630\n",
      "[TransNetV2] Extracting frames from /content/drive/Shareddrives/data_btc/video_btc/Videos_L30_a/video/L30_V035.mp4\n",
      "[TransNetV2] Processing video frames 1950/2006"
     ]
    },
    {
     "name": "stderr",
     "output_type": "stream",
     "text": [
      "\rDetecting shots:  36%|███▋      | 35/96 [15:35<27:53, 27.44s/it]"
     ]
    },
    {
     "name": "stdout",
     "output_type": "stream",
     "text": [
      "\r[TransNetV2] Processing video frames 2000/2006\r[TransNetV2] Processing video frames 2006/2006\n",
      "[TransNetV2] Extracting frames from /content/drive/Shareddrives/data_btc/video_btc/Videos_L30_a/video/L30_V036.mp4\n",
      "[TransNetV2] Processing video frames 1950/2081"
     ]
    },
    {
     "name": "stderr",
     "output_type": "stream",
     "text": [
      "\rDetecting shots:  38%|███▊      | 36/96 [15:48<23:07, 23.13s/it]"
     ]
    },
    {
     "name": "stdout",
     "output_type": "stream",
     "text": [
      "\r[TransNetV2] Processing video frames 2000/2081\r[TransNetV2] Processing video frames 2050/2081\r[TransNetV2] Processing video frames 2081/2081\n",
      "[TransNetV2] Extracting frames from /content/drive/Shareddrives/data_btc/video_btc/Videos_L30_a/video/L30_V037.mp4\n",
      "[TransNetV2] Processing video frames 5350/5463"
     ]
    },
    {
     "name": "stderr",
     "output_type": "stream",
     "text": [
      "\rDetecting shots:  39%|███▊      | 37/96 [16:14<23:42, 24.11s/it]"
     ]
    },
    {
     "name": "stdout",
     "output_type": "stream",
     "text": [
      "\r[TransNetV2] Processing video frames 5400/5463\r[TransNetV2] Processing video frames 5450/5463\r[TransNetV2] Processing video frames 5463/5463\n",
      "[TransNetV2] Extracting frames from /content/drive/Shareddrives/data_btc/video_btc/Videos_L30_a/video/L30_V038.mp4\n",
      "[TransNetV2] Processing video frames 6200/6314"
     ]
    },
    {
     "name": "stderr",
     "output_type": "stream",
     "text": [
      "\rDetecting shots:  40%|███▉      | 38/96 [16:49<26:31, 27.44s/it]"
     ]
    },
    {
     "name": "stdout",
     "output_type": "stream",
     "text": [
      "\r[TransNetV2] Processing video frames 6250/6314\r[TransNetV2] Processing video frames 6300/6314\r[TransNetV2] Processing video frames 6314/6314\n",
      "[TransNetV2] Extracting frames from /content/drive/Shareddrives/data_btc/video_btc/Videos_L30_a/video/L30_V039.mp4\n",
      "[TransNetV2] Processing video frames 6700/6819"
     ]
    },
    {
     "name": "stderr",
     "output_type": "stream",
     "text": [
      "\rDetecting shots:  41%|████      | 39/96 [17:25<28:24, 29.90s/it]"
     ]
    },
    {
     "name": "stdout",
     "output_type": "stream",
     "text": [
      "\r[TransNetV2] Processing video frames 6750/6819\r[TransNetV2] Processing video frames 6800/6819\r[TransNetV2] Processing video frames 6819/6819\n",
      "[TransNetV2] Extracting frames from /content/drive/Shareddrives/data_btc/video_btc/Videos_L30_a/video/L30_V040.mp4\n",
      "[TransNetV2] Processing video frames 1450/1628"
     ]
    },
    {
     "name": "stderr",
     "output_type": "stream",
     "text": [
      "\rDetecting shots:  42%|████▏     | 40/96 [17:34<22:00, 23.58s/it]"
     ]
    },
    {
     "name": "stdout",
     "output_type": "stream",
     "text": [
      "\r[TransNetV2] Processing video frames 1500/1628\r[TransNetV2] Processing video frames 1550/1628\r[TransNetV2] Processing video frames 1600/1628\r[TransNetV2] Processing video frames 1628/1628\n",
      "[TransNetV2] Extracting frames from /content/drive/Shareddrives/data_btc/video_btc/Videos_L30_a/video/L30_V041.mp4\n",
      "[TransNetV2] Processing video frames 1950/2103"
     ]
    },
    {
     "name": "stderr",
     "output_type": "stream",
     "text": [
      "\rDetecting shots:  43%|████▎     | 41/96 [17:42<17:24, 18.99s/it]"
     ]
    },
    {
     "name": "stdout",
     "output_type": "stream",
     "text": [
      "\r[TransNetV2] Processing video frames 2000/2103\r[TransNetV2] Processing video frames 2050/2103\r[TransNetV2] Processing video frames 2100/2103\r[TransNetV2] Processing video frames 2103/2103\n",
      "[TransNetV2] Extracting frames from /content/drive/Shareddrives/data_btc/video_btc/Videos_L30_a/video/L30_V042.mp4\n",
      "[TransNetV2] Processing video frames 2700/2785"
     ]
    },
    {
     "name": "stderr",
     "output_type": "stream",
     "text": [
      "\rDetecting shots:  44%|████▍     | 42/96 [17:57<16:04, 17.86s/it]"
     ]
    },
    {
     "name": "stdout",
     "output_type": "stream",
     "text": [
      "\r[TransNetV2] Processing video frames 2750/2785\r[TransNetV2] Processing video frames 2785/2785\n",
      "[TransNetV2] Extracting frames from /content/drive/Shareddrives/data_btc/video_btc/Videos_L30_a/video/L30_V043.mp4\n",
      "[TransNetV2] Processing video frames 4450/4617"
     ]
    },
    {
     "name": "stderr",
     "output_type": "stream",
     "text": [
      "\rDetecting shots:  45%|████▍     | 43/96 [18:21<17:21, 19.66s/it]"
     ]
    },
    {
     "name": "stdout",
     "output_type": "stream",
     "text": [
      "\r[TransNetV2] Processing video frames 4500/4617\r[TransNetV2] Processing video frames 4550/4617\r[TransNetV2] Processing video frames 4600/4617\r[TransNetV2] Processing video frames 4617/4617\n",
      "[TransNetV2] Extracting frames from /content/drive/Shareddrives/data_btc/video_btc/Videos_L30_a/video/L30_V044.mp4\n",
      "[TransNetV2] Processing video frames 3200/3318"
     ]
    },
    {
     "name": "stderr",
     "output_type": "stream",
     "text": [
      "\rDetecting shots:  46%|████▌     | 44/96 [18:40<16:46, 19.35s/it]"
     ]
    },
    {
     "name": "stdout",
     "output_type": "stream",
     "text": [
      "\r[TransNetV2] Processing video frames 3250/3318\r[TransNetV2] Processing video frames 3300/3318\r[TransNetV2] Processing video frames 3318/3318\n",
      "[TransNetV2] Extracting frames from /content/drive/Shareddrives/data_btc/video_btc/Videos_L30_a/video/L30_V045.mp4\n",
      "[TransNetV2] Processing video frames 8198/8198\n"
     ]
    },
    {
     "name": "stderr",
     "output_type": "stream",
     "text": [
      "\rDetecting shots:  47%|████▋     | 45/96 [19:13<19:59, 23.52s/it]"
     ]
    },
    {
     "name": "stdout",
     "output_type": "stream",
     "text": [
      "[TransNetV2] Extracting frames from /content/drive/Shareddrives/data_btc/video_btc/Videos_L30_a/video/L30_V046.mp4\n",
      "[TransNetV2] Processing video frames 6932/6932\n"
     ]
    },
    {
     "name": "stderr",
     "output_type": "stream",
     "text": [
      "\rDetecting shots:  48%|████▊     | 46/96 [19:48<22:35, 27.11s/it]"
     ]
    },
    {
     "name": "stdout",
     "output_type": "stream",
     "text": [
      "[TransNetV2] Extracting frames from /content/drive/Shareddrives/data_btc/video_btc/Videos_L30_a/video/L30_V047.mp4\n",
      "[TransNetV2] Processing video frames 7150/7189"
     ]
    },
    {
     "name": "stderr",
     "output_type": "stream",
     "text": [
      "\rDetecting shots:  49%|████▉     | 47/96 [20:26<24:46, 30.33s/it]"
     ]
    },
    {
     "name": "stdout",
     "output_type": "stream",
     "text": [
      "\r[TransNetV2] Processing video frames 7189/7189\n",
      "[TransNetV2] Extracting frames from /content/drive/Shareddrives/data_btc/video_btc/Videos_L30_a/video/L30_V048.mp4\n",
      "[TransNetV2] Processing video frames 9900/9990"
     ]
    },
    {
     "name": "stderr",
     "output_type": "stream",
     "text": [
      "\rDetecting shots:  50%|█████     | 48/96 [21:18<29:22, 36.71s/it]"
     ]
    },
    {
     "name": "stdout",
     "output_type": "stream",
     "text": [
      "\r[TransNetV2] Processing video frames 9950/9990\r[TransNetV2] Processing video frames 9990/9990\n",
      "[TransNetV2] Extracting frames from /content/drive/Shareddrives/data_btc/video_btc/Videos_L30_a/video/L30_V049.mp4\n",
      "[TransNetV2] Processing video frames 4450/4532"
     ]
    },
    {
     "name": "stderr",
     "output_type": "stream",
     "text": [
      "\rDetecting shots:  51%|█████     | 49/96 [21:41<25:38, 32.73s/it]"
     ]
    },
    {
     "name": "stdout",
     "output_type": "stream",
     "text": [
      "\r[TransNetV2] Processing video frames 4500/4532\r[TransNetV2] Processing video frames 4532/4532\n",
      "[TransNetV2] Extracting frames from /content/drive/Shareddrives/data_btc/video_btc/Videos_L30_a/video/L30_V050.mp4\n",
      "[TransNetV2] Processing video frames 3400/3551"
     ]
    },
    {
     "name": "stderr",
     "output_type": "stream",
     "text": [
      "\rDetecting shots:  52%|█████▏    | 50/96 [21:58<21:21, 27.86s/it]"
     ]
    },
    {
     "name": "stdout",
     "output_type": "stream",
     "text": [
      "\r[TransNetV2] Processing video frames 3450/3551\r[TransNetV2] Processing video frames 3500/3551\r[TransNetV2] Processing video frames 3550/3551\r[TransNetV2] Processing video frames 3551/3551\n",
      "[TransNetV2] Extracting frames from /content/drive/Shareddrives/data_btc/video_btc/Videos_L30_a/video/L30_V051.mp4\n",
      "[TransNetV2] Processing video frames 4650/4669"
     ]
    },
    {
     "name": "stderr",
     "output_type": "stream",
     "text": [
      "\rDetecting shots:  53%|█████▎    | 51/96 [22:19<19:25, 25.89s/it]"
     ]
    },
    {
     "name": "stdout",
     "output_type": "stream",
     "text": [
      "\r[TransNetV2] Processing video frames 4669/4669\n",
      "[TransNetV2] Extracting frames from /content/drive/Shareddrives/data_btc/video_btc/Videos_L30_a/video/L30_V052.mp4\n",
      "[TransNetV2] Processing video frames 7200/7317"
     ]
    },
    {
     "name": "stderr",
     "output_type": "stream",
     "text": [
      "\rDetecting shots:  54%|█████▍    | 52/96 [22:51<20:15, 27.61s/it]"
     ]
    },
    {
     "name": "stdout",
     "output_type": "stream",
     "text": [
      "\r[TransNetV2] Processing video frames 7250/7317\r[TransNetV2] Processing video frames 7300/7317\r[TransNetV2] Processing video frames 7317/7317\n",
      "[TransNetV2] Extracting frames from /content/drive/Shareddrives/data_btc/video_btc/Videos_L30_a/video/L30_V053.mp4\n",
      "[TransNetV2] Processing video frames 7608/7608\n"
     ]
    },
    {
     "name": "stderr",
     "output_type": "stream",
     "text": [
      "\rDetecting shots:  55%|█████▌    | 53/96 [23:30<22:19, 31.15s/it]"
     ]
    },
    {
     "name": "stdout",
     "output_type": "stream",
     "text": [
      "[TransNetV2] Extracting frames from /content/drive/Shareddrives/data_btc/video_btc/Videos_L30_a/video/L30_V054.mp4\n",
      "[TransNetV2] Processing video frames 8950/9148"
     ]
    },
    {
     "name": "stderr",
     "output_type": "stream",
     "text": [
      "\rDetecting shots:  56%|█████▋    | 54/96 [24:09<23:28, 33.54s/it]"
     ]
    },
    {
     "name": "stdout",
     "output_type": "stream",
     "text": [
      "\r[TransNetV2] Processing video frames 9000/9148\r[TransNetV2] Processing video frames 9050/9148\r[TransNetV2] Processing video frames 9100/9148\r[TransNetV2] Processing video frames 9148/9148\n",
      "[TransNetV2] Extracting frames from /content/drive/Shareddrives/data_btc/video_btc/Videos_L30_a/video/L30_V055.mp4\n",
      "[TransNetV2] Processing video frames 5200/5405"
     ]
    },
    {
     "name": "stderr",
     "output_type": "stream",
     "text": [
      "\rDetecting shots:  57%|█████▋    | 55/96 [24:39<22:07, 32.39s/it]"
     ]
    },
    {
     "name": "stdout",
     "output_type": "stream",
     "text": [
      "\r[TransNetV2] Processing video frames 5250/5405\r[TransNetV2] Processing video frames 5300/5405\r[TransNetV2] Processing video frames 5350/5405\r[TransNetV2] Processing video frames 5400/5405\r[TransNetV2] Processing video frames 5405/5405\n",
      "[TransNetV2] Extracting frames from /content/drive/Shareddrives/data_btc/video_btc/Videos_L30_a/video/L30_V056.mp4\n",
      "[TransNetV2] Processing video frames 7450/7507"
     ]
    },
    {
     "name": "stderr",
     "output_type": "stream",
     "text": [
      "\rDetecting shots:  58%|█████▊    | 56/96 [25:16<22:25, 33.65s/it]"
     ]
    },
    {
     "name": "stdout",
     "output_type": "stream",
     "text": [
      "\r[TransNetV2] Processing video frames 7500/7507\r[TransNetV2] Processing video frames 7507/7507\n",
      "[TransNetV2] Extracting frames from /content/drive/Shareddrives/data_btc/video_btc/Videos_L30_a/video/L30_V057.mp4\n",
      "[TransNetV2] Processing video frames 4450/4665"
     ]
    },
    {
     "name": "stderr",
     "output_type": "stream",
     "text": [
      "\rDetecting shots:  59%|█████▉    | 57/96 [25:36<19:20, 29.76s/it]"
     ]
    },
    {
     "name": "stdout",
     "output_type": "stream",
     "text": [
      "\r[TransNetV2] Processing video frames 4500/4665\r[TransNetV2] Processing video frames 4550/4665\r[TransNetV2] Processing video frames 4600/4665\r[TransNetV2] Processing video frames 4650/4665\r[TransNetV2] Processing video frames 4665/4665\n",
      "[TransNetV2] Extracting frames from /content/drive/Shareddrives/data_btc/video_btc/Videos_L30_a/video/L30_V058.mp4\n",
      "[TransNetV2] Processing video frames 2950/2968"
     ]
    },
    {
     "name": "stderr",
     "output_type": "stream",
     "text": [
      "\rDetecting shots:  60%|██████    | 58/96 [25:53<16:21, 25.84s/it]"
     ]
    },
    {
     "name": "stdout",
     "output_type": "stream",
     "text": [
      "\r[TransNetV2] Processing video frames 2968/2968\n",
      "[TransNetV2] Extracting frames from /content/drive/Shareddrives/data_btc/video_btc/Videos_L30_a/video/L30_V059.mp4\n",
      "[TransNetV2] Processing video frames 5200/5393"
     ]
    },
    {
     "name": "stderr",
     "output_type": "stream",
     "text": [
      "\rDetecting shots:  61%|██████▏   | 59/96 [26:19<16:01, 25.98s/it]"
     ]
    },
    {
     "name": "stdout",
     "output_type": "stream",
     "text": [
      "\r[TransNetV2] Processing video frames 5250/5393\r[TransNetV2] Processing video frames 5300/5393\r[TransNetV2] Processing video frames 5350/5393\r[TransNetV2] Processing video frames 5393/5393\n",
      "[TransNetV2] Extracting frames from /content/drive/Shareddrives/data_btc/video_btc/Videos_L30_a/video/L30_V060.mp4\n",
      "[TransNetV2] Processing video frames 3450/3689"
     ]
    },
    {
     "name": "stderr",
     "output_type": "stream",
     "text": [
      "\rDetecting shots:  62%|██████▎   | 60/96 [26:39<14:27, 24.09s/it]"
     ]
    },
    {
     "name": "stdout",
     "output_type": "stream",
     "text": [
      "\r[TransNetV2] Processing video frames 3500/3689\r[TransNetV2] Processing video frames 3550/3689\r[TransNetV2] Processing video frames 3600/3689\r[TransNetV2] Processing video frames 3650/3689\r[TransNetV2] Processing video frames 3689/3689\n",
      "[TransNetV2] Extracting frames from /content/drive/Shareddrives/data_btc/video_btc/Videos_L30_a/video/L30_V061.mp4\n",
      "[TransNetV2] Processing video frames 8200/8312"
     ]
    },
    {
     "name": "stderr",
     "output_type": "stream",
     "text": [
      "\rDetecting shots:  64%|██████▎   | 61/96 [27:15<16:08, 27.69s/it]"
     ]
    },
    {
     "name": "stdout",
     "output_type": "stream",
     "text": [
      "\r[TransNetV2] Processing video frames 8250/8312\r[TransNetV2] Processing video frames 8300/8312\r[TransNetV2] Processing video frames 8312/8312\n",
      "[TransNetV2] Extracting frames from /content/drive/Shareddrives/data_btc/video_btc/Videos_L30_a/video/L30_V062.mp4\n",
      "[TransNetV2] Processing video frames 5450/5590"
     ]
    },
    {
     "name": "stderr",
     "output_type": "stream",
     "text": [
      "\rDetecting shots:  65%|██████▍   | 62/96 [27:40<15:13, 26.86s/it]"
     ]
    },
    {
     "name": "stdout",
     "output_type": "stream",
     "text": [
      "\r[TransNetV2] Processing video frames 5500/5590\r[TransNetV2] Processing video frames 5550/5590\r[TransNetV2] Processing video frames 5590/5590\n",
      "[TransNetV2] Extracting frames from /content/drive/Shareddrives/data_btc/video_btc/Videos_L30_a/video/L30_V063.mp4\n",
      "[TransNetV2] Processing video frames 6450/6462"
     ]
    },
    {
     "name": "stderr",
     "output_type": "stream",
     "text": [
      "\rDetecting shots:  66%|██████▌   | 63/96 [28:14<15:57, 29.00s/it]"
     ]
    },
    {
     "name": "stdout",
     "output_type": "stream",
     "text": [
      "\r[TransNetV2] Processing video frames 6462/6462\n",
      "[TransNetV2] Extracting frames from /content/drive/Shareddrives/data_btc/video_btc/Videos_L30_a/video/L30_V064.mp4\n",
      "[TransNetV2] Processing video frames 6650/6854"
     ]
    },
    {
     "name": "stderr",
     "output_type": "stream",
     "text": [
      "\rDetecting shots:  67%|██████▋   | 64/96 [28:51<16:43, 31.36s/it]"
     ]
    },
    {
     "name": "stdout",
     "output_type": "stream",
     "text": [
      "\r[TransNetV2] Processing video frames 6700/6854\r[TransNetV2] Processing video frames 6750/6854\r[TransNetV2] Processing video frames 6800/6854\r[TransNetV2] Processing video frames 6850/6854\r[TransNetV2] Processing video frames 6854/6854\n",
      "[TransNetV2] Extracting frames from /content/drive/Shareddrives/data_btc/video_btc/Videos_L30_a/video/L30_V065.mp4\n",
      "[TransNetV2] Processing video frames 2450/2691"
     ]
    },
    {
     "name": "stderr",
     "output_type": "stream",
     "text": [
      "\rDetecting shots:  68%|██████▊   | 65/96 [29:06<13:44, 26.60s/it]"
     ]
    },
    {
     "name": "stdout",
     "output_type": "stream",
     "text": [
      "\r[TransNetV2] Processing video frames 2500/2691\r[TransNetV2] Processing video frames 2550/2691\r[TransNetV2] Processing video frames 2600/2691\r[TransNetV2] Processing video frames 2650/2691\r[TransNetV2] Processing video frames 2691/2691\n",
      "[TransNetV2] Extracting frames from /content/drive/Shareddrives/data_btc/video_btc/Videos_L30_a/video/L30_V066.mp4\n",
      "[TransNetV2] Processing video frames 6950/7000"
     ]
    },
    {
     "name": "stderr",
     "output_type": "stream",
     "text": [
      "\rDetecting shots:  69%|██████▉   | 66/96 [29:41<14:33, 29.13s/it]"
     ]
    },
    {
     "name": "stdout",
     "output_type": "stream",
     "text": [
      "\r[TransNetV2] Processing video frames 7000/7000\n",
      "[TransNetV2] Extracting frames from /content/drive/Shareddrives/data_btc/video_btc/Videos_L30_a/video/L30_V067.mp4\n",
      "[TransNetV2] Processing video frames 2700/2765"
     ]
    },
    {
     "name": "stderr",
     "output_type": "stream",
     "text": [
      "\rDetecting shots:  70%|██████▉   | 67/96 [29:53<11:34, 23.96s/it]"
     ]
    },
    {
     "name": "stdout",
     "output_type": "stream",
     "text": [
      "\r[TransNetV2] Processing video frames 2750/2765\r[TransNetV2] Processing video frames 2765/2765\n",
      "[TransNetV2] Extracting frames from /content/drive/Shareddrives/data_btc/video_btc/Videos_L30_a/video/L30_V068.mp4\n",
      "[TransNetV2] Processing video frames 5950/6167"
     ]
    },
    {
     "name": "stderr",
     "output_type": "stream",
     "text": [
      "\rDetecting shots:  71%|███████   | 68/96 [30:25<12:12, 26.17s/it]"
     ]
    },
    {
     "name": "stdout",
     "output_type": "stream",
     "text": [
      "\r[TransNetV2] Processing video frames 6000/6167\r[TransNetV2] Processing video frames 6050/6167\r[TransNetV2] Processing video frames 6100/6167\r[TransNetV2] Processing video frames 6150/6167\r[TransNetV2] Processing video frames 6167/6167\n",
      "[TransNetV2] Extracting frames from /content/drive/Shareddrives/data_btc/video_btc/Videos_L30_a/video/L30_V069.mp4\n",
      "[TransNetV2] Processing video frames 5450/5622"
     ]
    },
    {
     "name": "stderr",
     "output_type": "stream",
     "text": [
      "\rDetecting shots:  72%|███████▏  | 69/96 [30:53<12:06, 26.91s/it]"
     ]
    },
    {
     "name": "stdout",
     "output_type": "stream",
     "text": [
      "\r[TransNetV2] Processing video frames 5500/5622\r[TransNetV2] Processing video frames 5550/5622\r[TransNetV2] Processing video frames 5600/5622\r[TransNetV2] Processing video frames 5622/5622\n",
      "[TransNetV2] Extracting frames from /content/drive/Shareddrives/data_btc/video_btc/Videos_L30_a/video/L30_V070.mp4\n",
      "[TransNetV2] Processing video frames 2200/2235"
     ]
    },
    {
     "name": "stderr",
     "output_type": "stream",
     "text": [
      "\rDetecting shots:  73%|███████▎  | 70/96 [31:04<09:33, 22.06s/it]"
     ]
    },
    {
     "name": "stdout",
     "output_type": "stream",
     "text": [
      "\r[TransNetV2] Processing video frames 2235/2235\n",
      "[TransNetV2] Extracting frames from /content/drive/Shareddrives/data_btc/video_btc/Videos_L30_a/video/L30_V071.mp4\n",
      "[TransNetV2] Processing video frames 1700/1942"
     ]
    },
    {
     "name": "stderr",
     "output_type": "stream",
     "text": [
      "\rDetecting shots:  74%|███████▍  | 71/96 [31:16<07:58, 19.15s/it]"
     ]
    },
    {
     "name": "stdout",
     "output_type": "stream",
     "text": [
      "\r[TransNetV2] Processing video frames 1750/1942\r[TransNetV2] Processing video frames 1800/1942\r[TransNetV2] Processing video frames 1850/1942\r[TransNetV2] Processing video frames 1900/1942\r[TransNetV2] Processing video frames 1942/1942\n",
      "[TransNetV2] Extracting frames from /content/drive/Shareddrives/data_btc/video_btc/Videos_L30_a/video/L30_V072.mp4\n",
      "[TransNetV2] Processing video frames 1950/2169"
     ]
    },
    {
     "name": "stderr",
     "output_type": "stream",
     "text": [
      "\rDetecting shots:  75%|███████▌  | 72/96 [31:28<06:45, 16.89s/it]"
     ]
    },
    {
     "name": "stdout",
     "output_type": "stream",
     "text": [
      "\r[TransNetV2] Processing video frames 2000/2169\r[TransNetV2] Processing video frames 2050/2169\r[TransNetV2] Processing video frames 2100/2169\r[TransNetV2] Processing video frames 2150/2169\r[TransNetV2] Processing video frames 2169/2169\n",
      "[TransNetV2] Extracting frames from /content/drive/Shareddrives/data_btc/video_btc/Videos_L30_a/video/L30_V073.mp4\n",
      "[TransNetV2] Processing video frames 5150/5245"
     ]
    },
    {
     "name": "stderr",
     "output_type": "stream",
     "text": [
      "\rDetecting shots:  76%|███████▌  | 73/96 [31:58<07:58, 20.79s/it]"
     ]
    },
    {
     "name": "stdout",
     "output_type": "stream",
     "text": [
      "\r[TransNetV2] Processing video frames 5200/5245\r[TransNetV2] Processing video frames 5245/5245\n",
      "[TransNetV2] Extracting frames from /content/drive/Shareddrives/data_btc/video_btc/Videos_L30_a/video/L30_V074.mp4\n",
      "[TransNetV2] Processing video frames 6426/6426\n"
     ]
    },
    {
     "name": "stderr",
     "output_type": "stream",
     "text": [
      "\rDetecting shots:  77%|███████▋  | 74/96 [32:28<08:40, 23.67s/it]"
     ]
    },
    {
     "name": "stdout",
     "output_type": "stream",
     "text": [
      "[TransNetV2] Extracting frames from /content/drive/Shareddrives/data_btc/video_btc/Videos_L30_a/video/L30_V075.mp4\n",
      "[TransNetV2] Processing video frames 6450/6459"
     ]
    },
    {
     "name": "stderr",
     "output_type": "stream",
     "text": [
      "\rDetecting shots:  78%|███████▊  | 75/96 [32:59<09:01, 25.76s/it]"
     ]
    },
    {
     "name": "stdout",
     "output_type": "stream",
     "text": [
      "\r[TransNetV2] Processing video frames 6459/6459\n",
      "[TransNetV2] Extracting frames from /content/drive/Shareddrives/data_btc/video_btc/Videos_L30_a/video/L30_V076.mp4\n",
      "[TransNetV2] Processing video frames 4150/4215"
     ]
    },
    {
     "name": "stderr",
     "output_type": "stream",
     "text": [
      "\rDetecting shots:  79%|███████▉  | 76/96 [33:21<08:11, 24.57s/it]"
     ]
    },
    {
     "name": "stdout",
     "output_type": "stream",
     "text": [
      "\r[TransNetV2] Processing video frames 4200/4215\r[TransNetV2] Processing video frames 4215/4215\n",
      "[TransNetV2] Extracting frames from /content/drive/Shareddrives/data_btc/video_btc/Videos_L30_a/video/L30_V077.mp4\n",
      "[TransNetV2] Processing video frames 4950/4964"
     ]
    },
    {
     "name": "stderr",
     "output_type": "stream",
     "text": [
      "\rDetecting shots:  80%|████████  | 77/96 [33:47<07:54, 24.99s/it]"
     ]
    },
    {
     "name": "stdout",
     "output_type": "stream",
     "text": [
      "\r[TransNetV2] Processing video frames 4964/4964\n",
      "[TransNetV2] Extracting frames from /content/drive/Shareddrives/data_btc/video_btc/Videos_L30_a/video/L30_V078.mp4\n",
      "[TransNetV2] Processing video frames 4700/4947"
     ]
    },
    {
     "name": "stderr",
     "output_type": "stream",
     "text": [
      "\rDetecting shots:  81%|████████▏ | 78/96 [34:09<07:18, 24.34s/it]"
     ]
    },
    {
     "name": "stdout",
     "output_type": "stream",
     "text": [
      "\r[TransNetV2] Processing video frames 4750/4947\r[TransNetV2] Processing video frames 4800/4947\r[TransNetV2] Processing video frames 4850/4947\r[TransNetV2] Processing video frames 4900/4947\r[TransNetV2] Processing video frames 4947/4947\n",
      "[TransNetV2] Extracting frames from /content/drive/Shareddrives/data_btc/video_btc/Videos_L30_a/video/L30_V079.mp4\n",
      "[TransNetV2] Processing video frames 3950/4004"
     ]
    },
    {
     "name": "stderr",
     "output_type": "stream",
     "text": [
      "\rDetecting shots:  82%|████████▏ | 79/96 [34:29<06:30, 22.97s/it]"
     ]
    },
    {
     "name": "stdout",
     "output_type": "stream",
     "text": [
      "\r[TransNetV2] Processing video frames 4000/4004\r[TransNetV2] Processing video frames 4004/4004\n",
      "[TransNetV2] Extracting frames from /content/drive/Shareddrives/data_btc/video_btc/Videos_L30_a/video/L30_V080.mp4\n",
      "[TransNetV2] Processing video frames 6937/6937\n"
     ]
    },
    {
     "name": "stderr",
     "output_type": "stream",
     "text": [
      "\rDetecting shots:  83%|████████▎ | 80/96 [35:05<07:10, 26.89s/it]"
     ]
    },
    {
     "name": "stdout",
     "output_type": "stream",
     "text": [
      "[TransNetV2] Extracting frames from /content/drive/Shareddrives/data_btc/video_btc/Videos_L30_a/video/L30_V081.mp4\n",
      "[TransNetV2] Processing video frames 4450/4605"
     ]
    },
    {
     "name": "stderr",
     "output_type": "stream",
     "text": [
      "\rDetecting shots:  84%|████████▍ | 81/96 [35:26<06:15, 25.03s/it]"
     ]
    },
    {
     "name": "stdout",
     "output_type": "stream",
     "text": [
      "\r[TransNetV2] Processing video frames 4500/4605\r[TransNetV2] Processing video frames 4550/4605\r[TransNetV2] Processing video frames 4600/4605\r[TransNetV2] Processing video frames 4605/4605\n",
      "[TransNetV2] Extracting frames from /content/drive/Shareddrives/data_btc/video_btc/Videos_L30_a/video/L30_V082.mp4\n",
      "[TransNetV2] Processing video frames 5450/5506"
     ]
    },
    {
     "name": "stderr",
     "output_type": "stream",
     "text": [
      "\rDetecting shots:  85%|████████▌ | 82/96 [35:56<06:10, 26.47s/it]"
     ]
    },
    {
     "name": "stdout",
     "output_type": "stream",
     "text": [
      "\r[TransNetV2] Processing video frames 5500/5506\r[TransNetV2] Processing video frames 5506/5506\n",
      "[TransNetV2] Extracting frames from /content/drive/Shareddrives/data_btc/video_btc/Videos_L30_a/video/L30_V083.mp4\n",
      "[TransNetV2] Processing video frames 7400/7434"
     ]
    },
    {
     "name": "stderr",
     "output_type": "stream",
     "text": [
      "\rDetecting shots:  86%|████████▋ | 83/96 [36:35<06:34, 30.33s/it]"
     ]
    },
    {
     "name": "stdout",
     "output_type": "stream",
     "text": [
      "\r[TransNetV2] Processing video frames 7434/7434\n",
      "[TransNetV2] Extracting frames from /content/drive/Shareddrives/data_btc/video_btc/Videos_L30_a/video/L30_V084.mp4\n",
      "[TransNetV2] Processing video frames 5163/5163\n"
     ]
    },
    {
     "name": "stderr",
     "output_type": "stream",
     "text": [
      "\rDetecting shots:  88%|████████▊ | 84/96 [37:03<05:54, 29.52s/it]"
     ]
    },
    {
     "name": "stdout",
     "output_type": "stream",
     "text": [
      "[TransNetV2] Extracting frames from /content/drive/Shareddrives/data_btc/video_btc/Videos_L30_a/video/L30_V085.mp4\n",
      "[TransNetV2] Processing video frames 4700/4873"
     ]
    },
    {
     "name": "stderr",
     "output_type": "stream",
     "text": [
      "\rDetecting shots:  89%|████████▊ | 85/96 [37:24<04:57, 27.01s/it]"
     ]
    },
    {
     "name": "stdout",
     "output_type": "stream",
     "text": [
      "\r[TransNetV2] Processing video frames 4750/4873\r[TransNetV2] Processing video frames 4800/4873\r[TransNetV2] Processing video frames 4850/4873\r[TransNetV2] Processing video frames 4873/4873\n",
      "[TransNetV2] Extracting frames from /content/drive/Shareddrives/data_btc/video_btc/Videos_L30_a/video/L30_V086.mp4\n",
      "[TransNetV2] Processing video frames 4700/4757"
     ]
    },
    {
     "name": "stderr",
     "output_type": "stream",
     "text": [
      "\rDetecting shots:  90%|████████▉ | 86/96 [37:43<04:07, 24.70s/it]"
     ]
    },
    {
     "name": "stdout",
     "output_type": "stream",
     "text": [
      "\r[TransNetV2] Processing video frames 4750/4757\r[TransNetV2] Processing video frames 4757/4757\n",
      "[TransNetV2] Extracting frames from /content/drive/Shareddrives/data_btc/video_btc/Videos_L30_a/video/L30_V087.mp4\n",
      "[TransNetV2] Processing video frames 5450/5644"
     ]
    },
    {
     "name": "stderr",
     "output_type": "stream",
     "text": [
      "\rDetecting shots:  91%|█████████ | 87/96 [38:14<04:00, 26.69s/it]"
     ]
    },
    {
     "name": "stdout",
     "output_type": "stream",
     "text": [
      "\r[TransNetV2] Processing video frames 5500/5644\r[TransNetV2] Processing video frames 5550/5644\r[TransNetV2] Processing video frames 5600/5644\r[TransNetV2] Processing video frames 5644/5644\n",
      "[TransNetV2] Extracting frames from /content/drive/Shareddrives/data_btc/video_btc/Videos_L30_a/video/L30_V088.mp4\n",
      "[TransNetV2] Processing video frames 5200/5232"
     ]
    },
    {
     "name": "stderr",
     "output_type": "stream",
     "text": [
      "\rDetecting shots:  92%|█████████▏| 88/96 [38:41<03:34, 26.75s/it]"
     ]
    },
    {
     "name": "stdout",
     "output_type": "stream",
     "text": [
      "\r[TransNetV2] Processing video frames 5232/5232\n",
      "[TransNetV2] Extracting frames from /content/drive/Shareddrives/data_btc/video_btc/Videos_L30_a/video/L30_V089.mp4\n",
      "[TransNetV2] Processing video frames 5200/5281"
     ]
    },
    {
     "name": "stderr",
     "output_type": "stream",
     "text": [
      "\rDetecting shots:  93%|█████████▎| 89/96 [39:09<03:09, 27.06s/it]"
     ]
    },
    {
     "name": "stdout",
     "output_type": "stream",
     "text": [
      "\r[TransNetV2] Processing video frames 5250/5281\r[TransNetV2] Processing video frames 5281/5281\n",
      "[TransNetV2] Extracting frames from /content/drive/Shareddrives/data_btc/video_btc/Videos_L30_a/video/L30_V090.mp4\n",
      "[TransNetV2] Processing video frames 5450/5624"
     ]
    },
    {
     "name": "stderr",
     "output_type": "stream",
     "text": [
      "\rDetecting shots:  94%|█████████▍| 90/96 [39:38<02:45, 27.65s/it]"
     ]
    },
    {
     "name": "stdout",
     "output_type": "stream",
     "text": [
      "\r[TransNetV2] Processing video frames 5500/5624\r[TransNetV2] Processing video frames 5550/5624\r[TransNetV2] Processing video frames 5600/5624\r[TransNetV2] Processing video frames 5624/5624\n",
      "[TransNetV2] Extracting frames from /content/drive/Shareddrives/data_btc/video_btc/Videos_L30_a/video/L30_V091.mp4\n",
      "[TransNetV2] Processing video frames 6950/7030"
     ]
    },
    {
     "name": "stderr",
     "output_type": "stream",
     "text": [
      "\rDetecting shots:  95%|█████████▍| 91/96 [40:10<02:25, 29.01s/it]"
     ]
    },
    {
     "name": "stdout",
     "output_type": "stream",
     "text": [
      "\r[TransNetV2] Processing video frames 7000/7030\r[TransNetV2] Processing video frames 7030/7030\n",
      "[TransNetV2] Extracting frames from /content/drive/Shareddrives/data_btc/video_btc/Videos_L30_a/video/L30_V092.mp4\n",
      "[TransNetV2] Processing video frames 4200/4335"
     ]
    },
    {
     "name": "stderr",
     "output_type": "stream",
     "text": [
      "\rDetecting shots:  96%|█████████▌| 92/96 [40:34<01:49, 27.31s/it]"
     ]
    },
    {
     "name": "stdout",
     "output_type": "stream",
     "text": [
      "\r[TransNetV2] Processing video frames 4250/4335\r[TransNetV2] Processing video frames 4300/4335\r[TransNetV2] Processing video frames 4335/4335\n",
      "[TransNetV2] Extracting frames from /content/drive/Shareddrives/data_btc/video_btc/Videos_L30_a/video/L30_V093.mp4\n",
      "[TransNetV2] Processing video frames 6450/6546"
     ]
    },
    {
     "name": "stderr",
     "output_type": "stream",
     "text": [
      "\rDetecting shots:  97%|█████████▋| 93/96 [41:07<01:27, 29.02s/it]"
     ]
    },
    {
     "name": "stdout",
     "output_type": "stream",
     "text": [
      "\r[TransNetV2] Processing video frames 6500/6546\r[TransNetV2] Processing video frames 6546/6546\n",
      "[TransNetV2] Extracting frames from /content/drive/Shareddrives/data_btc/video_btc/Videos_L30_a/video/L30_V094.mp4\n",
      "[TransNetV2] Processing video frames 5450/5477"
     ]
    },
    {
     "name": "stderr",
     "output_type": "stream",
     "text": [
      "\rDetecting shots:  98%|█████████▊| 94/96 [41:31<00:55, 27.54s/it]"
     ]
    },
    {
     "name": "stdout",
     "output_type": "stream",
     "text": [
      "\r[TransNetV2] Processing video frames 5477/5477\n",
      "[TransNetV2] Extracting frames from /content/drive/Shareddrives/data_btc/video_btc/Videos_L30_a/video/L30_V095.mp4\n",
      "[TransNetV2] Processing video frames 7700/7739"
     ]
    },
    {
     "name": "stderr",
     "output_type": "stream",
     "text": [
      "\rDetecting shots:  99%|█████████▉| 95/96 [42:08<00:30, 30.37s/it]"
     ]
    },
    {
     "name": "stdout",
     "output_type": "stream",
     "text": [
      "\r[TransNetV2] Processing video frames 7739/7739\n",
      "[TransNetV2] Extracting frames from /content/drive/Shareddrives/data_btc/video_btc/Videos_L30_a/video/L30_V096.mp4\n",
      "[TransNetV2] Processing video frames 2200/2336"
     ]
    },
    {
     "name": "stderr",
     "output_type": "stream",
     "text": [
      "Detecting shots: 100%|██████████| 96/96 [42:21<00:00, 26.47s/it]"
     ]
    },
    {
     "name": "stdout",
     "output_type": "stream",
     "text": [
      "\r[TransNetV2] Processing video frames 2250/2336\r[TransNetV2] Processing video frames 2300/2336\r[TransNetV2] Processing video frames 2336/2336\n",
      "Done\n"
     ]
    },
    {
     "name": "stderr",
     "output_type": "stream",
     "text": [
      "\n"
     ]
    }
   ],
   "source": [
    "from transnetv2 import TransNetV2\n",
    "model = TransNetV2()\n",
    "\n",
    "json_save_dir = \"/content/drive/Shareddrives/data/json_TransNetV2\"\n",
    "if not os.path.exists(json_save_dir):\n",
    "    os.makedirs(json_save_dir)\n",
    "\n",
    "TARGET_FOLDERS = [\n",
    "    \"Videos_L21_a\",\n",
    "    \"Videos_L22_a\",\n",
    "    \"Videos_L23_a\",\n",
    "    \"Videos_L24_a\",\n",
    "    \"Videos_L25_a1\",\n",
    "    \"Videos_L25_b\",\n",
    "    \"Videos_L26_a\",\n",
    "    \"Videos_L26_b\",\n",
    "    \"Videos_L26_c\",\n",
    "    \"Videos_L26_d\",\n",
    "    \"Videos_L26_e\",\n",
    "    \"Videos_L27_a\",\n",
    "    \"Videos_L28_a\",\n",
    "    \"Videos_L29_a\",\n",
    "    \"Videos_L30_a\",\n",
    "]\n",
    "\n",
    "# ******* CHỈNH Ở ĐÂY *******\n",
    "SELECTED_FOLDERS = [\"Videos_L30_a\"]\n",
    "\n",
    "total_videos = sum(len(all_video_paths.get(f, {})) for f in SELECTED_FOLDERS)\n",
    "pbar = tqdm(total=total_videos, desc=\"Detecting shots\")\n",
    "\n",
    "for folder in SELECTED_FOLDERS:\n",
    "  video_paths = all_video_paths.get(folder, {})\n",
    "  if not video_paths:\n",
    "    print(f\"[WARN] {folder} is empty or does not exist\")\n",
    "    continue\n",
    "  output_dir = os.path.join(json_save_dir, folder)\n",
    "  if not os.path.exists(output_dir):\n",
    "    os.makedirs(output_dir)\n",
    "\n",
    "  for video_name, video_path in video_paths.items():\n",
    "    try:\n",
    "      _, single_frame_pred, _ = model.predict_video(video_path)\n",
    "      scenes = model.predictions_to_scenes(predictions=single_frame_pred)\n",
    "      output_path = os.path.join(output_dir, f\"{video_name}.json\")\n",
    "      with open(output_path, \"w\") as f:\n",
    "        json.dump(scenes.tolist(), f)\n",
    "    except Exception as e:\n",
    "      print(f\"[ERROR] {video_path}: {e}\")\n",
    "    finally:\n",
    "      pbar.update(1)\n",
    "\n",
    "pbar.close()\n",
    "print(\"Done\")"
   ]
  },
  {
   "cell_type": "markdown",
   "metadata": {
    "id": "PzvoypAFqXzh"
   },
   "source": [
    "## Load Scene & Save Scene\n",
    "Load the scene boundary data from the generated JSON files."
   ]
  },
  {
   "cell_type": "code",
   "execution_count": null,
   "metadata": {
    "colab": {
     "base_uri": "https://localhost:8080/"
    },
    "executionInfo": {
     "elapsed": 150,
     "status": "ok",
     "timestamp": 1754846548791,
     "user": {
      "displayName": "Trọng Nhân Trần",
      "userId": "03229783797276256440"
     },
     "user_tz": -420
    },
    "id": "NiqYU-3_pDFi",
    "outputId": "668de80e-5cfe-472c-922c-c2bc5f8c2e0a"
   },
   "outputs": [
    {
     "name": "stdout",
     "output_type": "stream",
     "text": [
      "Loaded scene data for 0 videos.\n"
     ]
    }
   ],
   "source": [
    "# MODIFY HERE\n",
    "json_save_dir = \"/content/drive/Shareddrives/data/json_TransNetV2\"\n",
    "json_files = glob.glob(os.path.join(json_save_dir, \"*.json\"))\n",
    "\n",
    "scene_data = {}\n",
    "\n",
    "for json_file in json_files:\n",
    "    video_id = os.path.splitext(os.path.basename(json_file))[0]\n",
    "    with open(json_file, \"r\") as f:\n",
    "        scene_data[video_id] = json.load(f)\n",
    "\n",
    "print(f\"Loaded scene data for {len(scene_data)} videos.\")"
   ]
  },
  {
   "cell_type": "code",
   "execution_count": null,
   "metadata": {
    "id": "GB00wnnMq1D5"
   },
   "outputs": [],
   "source": [
    "# MODIFY HERE\n",
    "keyframes_output_dir = \"/content/drive/Shareddrives/data/keyframes_TransNetV2\"\n",
    "if not os.path.exists(keyframes_output_dir):\n",
    "    os.makedirs(keyframes_output_dir)\n",
    "\n",
    "for video_id, scenes in tqdm(scene_data.items(), desc=\"Processing videos\"):\n",
    "    video_path = all_video_paths.get(f\"{video_id}.mp4\")\n",
    "    if video_path is None:\n",
    "        print(f\"Video path not found for video ID: {video_id}\")\n",
    "        continue\n",
    "\n",
    "    video_output_dir = os.path.join(keyframes_output_dir, video_id)\n",
    "    if not os.path.exists(video_output_dir):\n",
    "        os.makedirs(video_output_dir)\n",
    "\n",
    "    for scene_index, scene_boundary in enumerate(scenes):\n",
    "        # This loop is just to prepare for the next steps.\n",
    "        # Actual keyframe extraction will happen in the next subtask.\n",
    "        pass\n"
   ]
  },
  {
   "cell_type": "markdown",
   "metadata": {
    "id": "FJA_NiBnq9c4"
   },
   "source": [
    "### Save frames"
   ]
  },
  {
   "cell_type": "code",
   "execution_count": null,
   "metadata": {
    "id": "AUGdZLP5q_WY"
   },
   "outputs": [],
   "source": [
    "import os\n",
    "import cv2\n",
    "from tqdm import tqdm\n",
    "\n",
    "# MODIFY HERE\n",
    "keyframes_output_dir = \"/content/drive/Shareddrives/data/keyframes_TransNetV2\"\n",
    "if not os.path.listdir(keyframes_output_dir):\n",
    "    os.makedirs(keyframes_output_dir)\n",
    "\n",
    "sorted_video_ids = sorted(scene_data.keys())\n",
    "# video_ids_to_process = sorted_video_ids[:10]  # Process first 10 after sorting\n",
    "\n",
    "for video_id in tqdm(sorted_video_ids, desc=\"Processing videos\"):\n",
    "    scenes = scene_data.get(video_id)\n",
    "    if scenes is None:\n",
    "        print(f\"Scene data not found for video ID: {video_id}\")\n",
    "        continue\n",
    "\n",
    "    video_path = all_video_paths.get(f\"{video_id}.mp4\")\n",
    "    if video_path is None:\n",
    "        print(f\"Video path not found for video ID: {video_id}\")\n",
    "        continue\n",
    "\n",
    "    video_output_dir = os.path.join(keyframes_output_dir, video_id)\n",
    "    os.makedirs(video_output_dir, exist_ok=True)\n",
    "\n",
    "    cap = cv2.VideoCapture(video_path)\n",
    "    if not cap.isOpened():\n",
    "        print(f\"Error: Could not open video file {video_path}\")\n",
    "        continue\n",
    "\n",
    "    total_frames = int(cap.get(cv2.CAP_PROP_FRAME_COUNT))\n",
    "    if total_frames <= 0:\n",
    "        print(f\"Warning: {video_path} has invalid frame count ({total_frames}). Skipping.\")\n",
    "        cap.release()\n",
    "        continue\n",
    "\n",
    "    print(f\"Processing video: {video_id}\")\n",
    "\n",
    "    # Collect unique indices (start, middle, end) across all scenes\n",
    "    indices_to_extract = set()\n",
    "    for scene_index, (start_frame, end_frame) in enumerate(scenes):\n",
    "        # Ensure order (handle bad input where end < start)\n",
    "        s = int(min(start_frame, end_frame))\n",
    "        e = int(max(start_frame, end_frame))\n",
    "        # Clamp to valid range\n",
    "        s = max(0, min(s, total_frames - 1))\n",
    "        e = max(0, min(e, total_frames - 1))\n",
    "        m = s + (e - s) // 2  # middle\n",
    "\n",
    "        # Dedup by using a set\n",
    "        indices_to_extract.update((s, m, e))\n",
    "\n",
    "        print(f\"  Scene {scene_index}: Boundary [{start_frame}, {end_frame}] \"\n",
    "              f\"-> clamped [{s}, {e}], frames: {sorted({s, m, e})}\")\n",
    "\n",
    "    # Read & save\n",
    "    for frame_index in sorted(indices_to_extract):\n",
    "        output_filename = f\"{frame_index:06d}.jpg\"\n",
    "        output_path = os.path.join(video_output_dir, output_filename)\n",
    "\n",
    "        if os.path.exists(output_path):\n",
    "            # already saved (handy for re-runs)\n",
    "            continue\n",
    "\n",
    "        cap.set(cv2.CAP_PROP_POS_FRAMES, frame_index)\n",
    "        ret, frame = cap.read()\n",
    "\n",
    "        if ret and frame is not None:\n",
    "            cv2.imwrite(output_path, frame)\n",
    "            # print(f\"    Saved frame: {output_path}\")  # uncomment if you want logs\n",
    "        else:\n",
    "            print(f\"    Warning: Could not read frame {frame_index} from {video_path}\")\n",
    "\n",
    "    cap.release()\n"
   ]
  },
  {
   "cell_type": "markdown",
   "metadata": {},
   "source": [
    "# Convert JSON Shot Boundary output from TransNetV2 to PySceneDetect Format"
   ]
  },
  {
   "cell_type": "code",
   "execution_count": null,
   "metadata": {},
   "outputs": [],
   "source": [
    "import json\n",
    "import os\n",
    "import csv\n",
    "from pathlib import Path\n",
    "\n",
    "FPS = 25\n",
    "\n",
    "def seconds_to_timecode(seconds):\n",
    "    \"\"\"Convert seconds to timecode HH:MM:SS.MS\"\"\"\n",
    "    hours = int(seconds // 3600)\n",
    "    minutes = int((seconds % 3600) // 60)\n",
    "    secs = int(seconds % 60)\n",
    "    milliseconds = int((seconds % 1) * 1000)\n",
    "    return f\"{hours:02d}:{minutes:02d}:{secs:02d}.{milliseconds:03d}\"\n",
    "\n",
    "def convert_json_to_csv(json_path, output_dir):\n",
    "    # Ensure output_dir exists\n",
    "    os.makedirs(output_dir, exist_ok=True)\n",
    "\n",
    "    # Determine output CSV path with the same name as JSON\n",
    "    json_path = Path(json_path)\n",
    "    output_filename = json_path.stem + \".csv\"\n",
    "    csv_path = os.path.join(output_dir, output_filename)\n",
    "\n",
    "    # Load JSON\n",
    "    with open(json_path, \"r\") as f:\n",
    "        shots = json.load(f)\n",
    "\n",
    "    # Write CSV\n",
    "    with open(csv_path, \"w\", newline='') as f:\n",
    "        writer = csv.writer(f)\n",
    "        writer.writerow([\n",
    "            \"Scene Number\",\n",
    "            \"Start Frame\",\n",
    "            \"Start Timecode\",\n",
    "            \"Start Time (seconds)\",\n",
    "            \"End Frame\",\n",
    "            \"End Timecode\",\n",
    "            \"End Time (seconds)\",\n",
    "            \"Length (frames)\",\n",
    "            \"Length (timecode)\",\n",
    "            \"Length (seconds)\"\n",
    "        ])\n",
    "\n",
    "        for idx, (start_frame, end_frame) in enumerate(shots):\n",
    "            scene_number = idx + 1\n",
    "\n",
    "            start_sec = start_frame / FPS\n",
    "            end_sec = end_frame / FPS\n",
    "            length_frames = end_frame - start_frame + 1\n",
    "            length_sec = length_frames / FPS\n",
    "\n",
    "            start_tc = seconds_to_timecode(start_sec)\n",
    "            end_tc = seconds_to_timecode(end_sec)\n",
    "            length_tc = seconds_to_timecode(length_sec)\n",
    "\n",
    "            writer.writerow([\n",
    "                scene_number,\n",
    "                start_frame + 1,  # Convert to 1-based indexing\n",
    "                start_tc,\n",
    "                round(start_sec, 2),\n",
    "                end_frame + 1,\n",
    "                end_tc,\n",
    "                round(end_sec, 2),\n",
    "                length_frames,\n",
    "                length_tc,\n",
    "                round(length_sec, 2)\n",
    "            ])\n",
    "\n",
    "    print(f\"✅ Saved: {csv_path}\")\n",
    "\n",
    "if __name__ == \"__main__\":\n",
    "    shots_dir = \"/home/nhantt/AIC2024/dict/TransNetV2_keyframe_extraction\"\n",
    "    output_dir = \"/home/nhantt/AIC2024/data4t_link/dict/TransNetV2_keyframe_extraction_PySceneDetect_format\"\n",
    "\n",
    "    json_files = sorted([\n",
    "        os.path.join(shots_dir, f)\n",
    "        for f in os.listdir(shots_dir)\n",
    "        if f.endswith(\".json\")\n",
    "    ])\n",
    "\n",
    "    # Modify to run specific files\n",
    "    json_files = json_files[11:]\n",
    "\n",
    "    for json_file in json_files:\n",
    "        print(f\"Processing: {json_file}\")\n",
    "        convert_json_to_csv(json_file, output_dir)\n",
    "\n",
    "    # To process all files, uncomment:\n",
    "    # for json_file in tqdm(json_files):\n",
    "    #     convert_json_to_csv(json_file, output_dir)\n"
   ]
  }
 ],
 "metadata": {
  "accelerator": "GPU",
  "colab": {
   "authorship_tag": "ABX9TyNxV/dMdqb0KfFgimODtWJR",
   "gpuType": "T4",
   "provenance": []
  },
  "kernelspec": {
   "display_name": "AIC2025",
   "language": "python",
   "name": "python3"
  },
  "language_info": {
   "codemirror_mode": {
    "name": "ipython",
    "version": 3
   },
   "file_extension": ".py",
   "mimetype": "text/x-python",
   "name": "python",
   "nbconvert_exporter": "python",
   "pygments_lexer": "ipython3",
   "version": "3.9.23"
  }
 },
 "nbformat": 4,
 "nbformat_minor": 0
}
