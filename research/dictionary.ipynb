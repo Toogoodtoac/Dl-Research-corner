{
 "cells": [
  {
   "cell_type": "code",
   "execution_count": null,
   "id": "9d27340e",
   "metadata": {},
   "outputs": [],
   "source": [
    "# CONFIG\n"
   ]
  },
  {
   "cell_type": "code",
   "execution_count": 3,
   "id": "92bb2e8d",
   "metadata": {},
   "outputs": [
    {
     "name": "stdout",
     "output_type": "stream",
     "text": [
      "Done! Saved to E:\\AI_Competition\\AIC2025\\dict\\map_keyframes.json\n"
     ]
    }
   ],
   "source": [
    "import pandas as pd\n",
    "import json\n",
    "import os\n",
    "\n",
    "# MAP KEYFRAMES\n",
    "CSV_ROOT = r\"C:\\Users\\cuude\\Downloads\\map-keyframes\"\n",
    "OUTPUT_JSON = r\"E:\\AI_Competition\\AIC2025\\dict\\map_keyframes.json\"\n",
    "\n",
    "result = {}\n",
    "\n",
    "for fname in sorted(os.listdir(CSV_ROOT)):\n",
    "    if fname.endswith(\".csv\"):\n",
    "        video_name = fname.replace(\".csv\", \"\")\n",
    "        csv_path = os.path.join(CSV_ROOT, fname)\n",
    "        df = pd.read_csv(csv_path, sep=\",\")\n",
    "        mapping = {str(int(row[\"n\"])): int(row[\"frame_idx\"]) for _, row in df.iterrows()}\n",
    "\n",
    "        result[video_name] = mapping\n",
    "\n",
    "with open(OUTPUT_JSON, \"w\", encoding=\"utf-8\") as f:\n",
    "    json.dump(result, f, indent=4, ensure_ascii=False)\n",
    "\n",
    "print(f\"Done! Saved to {OUTPUT_JSON}\")"
   ]
  },
  {
   "cell_type": "code",
   "execution_count": 5,
   "id": "387fe34f",
   "metadata": {},
   "outputs": [
    {
     "name": "stdout",
     "output_type": "stream",
     "text": [
      "Done! Wrote 177321 entries to E:\\AI_Competition\\AIC2025\\dict\\map_keyframes.json\n"
     ]
    }
   ],
   "source": [
    "from pathlib import Path\n",
    "\n",
    "# ID2IMG\n",
    "MAP_KEYFRAME_JSON = r\"E:\\AI_Competition\\AIC2025\\dict\\map_keyframes.json\"\n",
    "ID2IMG_JSON = Path(\"E:\\AI_Competition\\AIC2025\\dict\\id2img.json\")\n",
    "\n",
    "with open(MAP_KEYFRAME_JSON, 'r') as f:\n",
    "    map_keyframes = json.load(f)\n",
    "\n",
    "id2img = {}\n",
    "global_idx = 0\n",
    "\n",
    "# Duyệt video theo tên tăng dần để ổn định thứ tự\n",
    "for video_name in sorted(map_keyframes.keys()):\n",
    "    folder, video = video_name.split(\"_\")\n",
    "    # Lấy danh sách n (thứ tự keyframe trong video), ép int để sort đúng\n",
    "    n_list = [int(k) for k in map_keyframes[video_name].keys()]\n",
    "    if not n_list:\n",
    "        continue\n",
    "\n",
    "    # Tự động chọn độ rộng zero-pad (ít nhất 3)\n",
    "    width = max(3, len(str(max(n_list))))\n",
    "\n",
    "    for n in sorted(n_list):\n",
    "        # tên ảnh theo quy ước: n -> nnn.jpg\n",
    "        filename = f\"{str(n).zfill(width)}.jpg\"\n",
    "        img_path = f\"keyframe_btc/Keyframes_{folder}/keyframes/{video_name}/{filename}\"\n",
    "\n",
    "        # gán index tuần tự\n",
    "        id2img[str(global_idx)] = img_path\n",
    "        global_idx += 1\n",
    "\n",
    "# Ghi ra JSON\n",
    "with ID2IMG_JSON.open(\"w\", encoding=\"utf-8\") as f:\n",
    "    json.dump(id2img, f, ensure_ascii=False, indent=4)\n",
    "\n",
    "print(f\"Done! Wrote {global_idx} entries to {OUTPUT_JSON}\")\n"
   ]
  }
 ],
 "metadata": {
  "kernelspec": {
   "display_name": "AIC2025",
   "language": "python",
   "name": "python3"
  },
  "language_info": {
   "codemirror_mode": {
    "name": "ipython",
    "version": 3
   },
   "file_extension": ".py",
   "mimetype": "text/x-python",
   "name": "python",
   "nbconvert_exporter": "python",
   "pygments_lexer": "ipython3",
   "version": "3.9.23"
  }
 },
 "nbformat": 4,
 "nbformat_minor": 5
}
