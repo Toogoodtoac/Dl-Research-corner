{
 "cells": [
  {
   "cell_type": "markdown",
   "id": "cd47f4f6",
   "metadata": {},
   "source": [
    "# Project  Jane Street LightGBM pipeline (Auto-select real data via Kaggle if available)\n"
   ]
  },
  {
   "cell_type": "markdown",
   "id": "045d2548",
   "metadata": {},
   "source": [
    "##  Requirements\n",
    "Run this cell to install requirements if not already installed."
   ]
  },
  {
   "cell_type": "code",
   "execution_count": 2,
   "id": "e1e0c10d",
   "metadata": {},
   "outputs": [
    {
     "ename": "SyntaxError",
     "evalue": "invalid syntax (4070520729.py, line 1)",
     "output_type": "error",
     "traceback": [
      "\u001b[1;36m  Cell \u001b[1;32mIn[2], line 1\u001b[1;36m\u001b[0m\n\u001b[1;33m    python -m pip install --upgrade pip\u001b[0m\n\u001b[1;37m              ^\u001b[0m\n\u001b[1;31mSyntaxError\u001b[0m\u001b[1;31m:\u001b[0m invalid syntax\n"
     ]
    }
   ],
   "source": [
    "#python -m pip install --upgrade pip\n",
    "#python -m pip install numpy pandas pyarrow scikit-learn lightgbm kaggle matplotlib tqdm"
   ]
  },
  {
   "cell_type": "markdown",
   "id": "0d260c47",
   "metadata": {},
   "source": [
    "## 1 — Download real Jane Street dataset via Kaggle "
   ]
  },
  {
   "cell_type": "code",
   "execution_count": 3,
   "id": "f6470382",
   "metadata": {},
   "outputs": [
    {
     "name": "stdout",
     "output_type": "stream",
     "text": [
      "Kaggle token found. Attempting to download Jane Street dataset via Kaggle CLI (may be large).\n",
      "Running: kaggle competitions download -c jane-street-market-prediction -p data\\janestreet --unzip\n",
      "Kaggle download failed with error: Command '['kaggle', 'competitions', 'download', '-c', 'jane-street-market-prediction', '-p', 'data\\\\janestreet', '--unzip']' returned non-zero exit status 2.\n",
      "Creating small synthetic sample (train_sample.parquet) for quick runs.\n"
     ]
    },
    {
     "ename": "ImportError",
     "evalue": "Unable to find a usable engine; tried using: 'pyarrow', 'fastparquet'.\nA suitable version of pyarrow or fastparquet is required for parquet support.\nTrying to import the above resulted in these errors:\n - Missing optional dependency 'pyarrow'. pyarrow is required for parquet support. Use pip or conda to install pyarrow.\n - Missing optional dependency 'fastparquet'. fastparquet is required for parquet support. Use pip or conda to install fastparquet.",
     "output_type": "error",
     "traceback": [
      "\u001b[1;31m---------------------------------------------------------------------------\u001b[0m",
      "\u001b[1;31mImportError\u001b[0m                               Traceback (most recent call last)",
      "Cell \u001b[1;32mIn[3], line 33\u001b[0m\n\u001b[0;32m     31\u001b[0m df \u001b[38;5;241m=\u001b[39m pd\u001b[38;5;241m.\u001b[39mDataFrame(data)\n\u001b[0;32m     32\u001b[0m out_path \u001b[38;5;241m=\u001b[39m DATA_DIR \u001b[38;5;241m/\u001b[39m \u001b[38;5;124m'\u001b[39m\u001b[38;5;124mtrain_sample.parquet\u001b[39m\u001b[38;5;124m'\u001b[39m\n\u001b[1;32m---> 33\u001b[0m \u001b[43mdf\u001b[49m\u001b[38;5;241;43m.\u001b[39;49m\u001b[43mto_parquet\u001b[49m\u001b[43m(\u001b[49m\u001b[43mout_path\u001b[49m\u001b[43m,\u001b[49m\u001b[43m \u001b[49m\u001b[43mindex\u001b[49m\u001b[38;5;241;43m=\u001b[39;49m\u001b[38;5;28;43;01mFalse\u001b[39;49;00m\u001b[43m)\u001b[49m\n\u001b[0;32m     34\u001b[0m \u001b[38;5;28mprint\u001b[39m(\u001b[38;5;124m'\u001b[39m\u001b[38;5;124mSynthetic sample saved to\u001b[39m\u001b[38;5;124m'\u001b[39m, out_path)\n",
      "File \u001b[1;32m~\\Anaconda3\\envs\\mobipi\\lib\\site-packages\\pandas\\util\\_decorators.py:333\u001b[0m, in \u001b[0;36mdeprecate_nonkeyword_arguments.<locals>.decorate.<locals>.wrapper\u001b[1;34m(*args, **kwargs)\u001b[0m\n\u001b[0;32m    327\u001b[0m \u001b[38;5;28;01mif\u001b[39;00m \u001b[38;5;28mlen\u001b[39m(args) \u001b[38;5;241m>\u001b[39m num_allow_args:\n\u001b[0;32m    328\u001b[0m     warnings\u001b[38;5;241m.\u001b[39mwarn(\n\u001b[0;32m    329\u001b[0m         msg\u001b[38;5;241m.\u001b[39mformat(arguments\u001b[38;5;241m=\u001b[39m_format_argument_list(allow_args)),\n\u001b[0;32m    330\u001b[0m         \u001b[38;5;167;01mFutureWarning\u001b[39;00m,\n\u001b[0;32m    331\u001b[0m         stacklevel\u001b[38;5;241m=\u001b[39mfind_stack_level(),\n\u001b[0;32m    332\u001b[0m     )\n\u001b[1;32m--> 333\u001b[0m \u001b[38;5;28;01mreturn\u001b[39;00m func(\u001b[38;5;241m*\u001b[39margs, \u001b[38;5;241m*\u001b[39m\u001b[38;5;241m*\u001b[39mkwargs)\n",
      "File \u001b[1;32m~\\Anaconda3\\envs\\mobipi\\lib\\site-packages\\pandas\\core\\frame.py:3118\u001b[0m, in \u001b[0;36mDataFrame.to_parquet\u001b[1;34m(self, path, engine, compression, index, partition_cols, storage_options, **kwargs)\u001b[0m\n\u001b[0;32m   3037\u001b[0m \u001b[38;5;250m\u001b[39m\u001b[38;5;124;03m\"\"\"\u001b[39;00m\n\u001b[0;32m   3038\u001b[0m \u001b[38;5;124;03mWrite a DataFrame to the binary parquet format.\u001b[39;00m\n\u001b[0;32m   3039\u001b[0m \n\u001b[1;32m   (...)\u001b[0m\n\u001b[0;32m   3114\u001b[0m \u001b[38;5;124;03m>>> content = f.read()\u001b[39;00m\n\u001b[0;32m   3115\u001b[0m \u001b[38;5;124;03m\"\"\"\u001b[39;00m\n\u001b[0;32m   3116\u001b[0m \u001b[38;5;28;01mfrom\u001b[39;00m\u001b[38;5;250m \u001b[39m\u001b[38;5;21;01mpandas\u001b[39;00m\u001b[38;5;21;01m.\u001b[39;00m\u001b[38;5;21;01mio\u001b[39;00m\u001b[38;5;21;01m.\u001b[39;00m\u001b[38;5;21;01mparquet\u001b[39;00m\u001b[38;5;250m \u001b[39m\u001b[38;5;28;01mimport\u001b[39;00m to_parquet\n\u001b[1;32m-> 3118\u001b[0m \u001b[38;5;28;01mreturn\u001b[39;00m to_parquet(\n\u001b[0;32m   3119\u001b[0m     \u001b[38;5;28mself\u001b[39m,\n\u001b[0;32m   3120\u001b[0m     path,\n\u001b[0;32m   3121\u001b[0m     engine,\n\u001b[0;32m   3122\u001b[0m     compression\u001b[38;5;241m=\u001b[39mcompression,\n\u001b[0;32m   3123\u001b[0m     index\u001b[38;5;241m=\u001b[39mindex,\n\u001b[0;32m   3124\u001b[0m     partition_cols\u001b[38;5;241m=\u001b[39mpartition_cols,\n\u001b[0;32m   3125\u001b[0m     storage_options\u001b[38;5;241m=\u001b[39mstorage_options,\n\u001b[0;32m   3126\u001b[0m     \u001b[38;5;241m*\u001b[39m\u001b[38;5;241m*\u001b[39mkwargs,\n\u001b[0;32m   3127\u001b[0m )\n",
      "File \u001b[1;32m~\\Anaconda3\\envs\\mobipi\\lib\\site-packages\\pandas\\io\\parquet.py:478\u001b[0m, in \u001b[0;36mto_parquet\u001b[1;34m(df, path, engine, compression, index, storage_options, partition_cols, filesystem, **kwargs)\u001b[0m\n\u001b[0;32m    476\u001b[0m \u001b[38;5;28;01mif\u001b[39;00m \u001b[38;5;28misinstance\u001b[39m(partition_cols, \u001b[38;5;28mstr\u001b[39m):\n\u001b[0;32m    477\u001b[0m     partition_cols \u001b[38;5;241m=\u001b[39m [partition_cols]\n\u001b[1;32m--> 478\u001b[0m impl \u001b[38;5;241m=\u001b[39m \u001b[43mget_engine\u001b[49m\u001b[43m(\u001b[49m\u001b[43mengine\u001b[49m\u001b[43m)\u001b[49m\n\u001b[0;32m    480\u001b[0m path_or_buf: FilePath \u001b[38;5;241m|\u001b[39m WriteBuffer[\u001b[38;5;28mbytes\u001b[39m] \u001b[38;5;241m=\u001b[39m io\u001b[38;5;241m.\u001b[39mBytesIO() \u001b[38;5;28;01mif\u001b[39;00m path \u001b[38;5;129;01mis\u001b[39;00m \u001b[38;5;28;01mNone\u001b[39;00m \u001b[38;5;28;01melse\u001b[39;00m path\n\u001b[0;32m    482\u001b[0m impl\u001b[38;5;241m.\u001b[39mwrite(\n\u001b[0;32m    483\u001b[0m     df,\n\u001b[0;32m    484\u001b[0m     path_or_buf,\n\u001b[1;32m   (...)\u001b[0m\n\u001b[0;32m    490\u001b[0m     \u001b[38;5;241m*\u001b[39m\u001b[38;5;241m*\u001b[39mkwargs,\n\u001b[0;32m    491\u001b[0m )\n",
      "File \u001b[1;32m~\\Anaconda3\\envs\\mobipi\\lib\\site-packages\\pandas\\io\\parquet.py:68\u001b[0m, in \u001b[0;36mget_engine\u001b[1;34m(engine)\u001b[0m\n\u001b[0;32m     65\u001b[0m         \u001b[38;5;28;01mexcept\u001b[39;00m \u001b[38;5;167;01mImportError\u001b[39;00m \u001b[38;5;28;01mas\u001b[39;00m err:\n\u001b[0;32m     66\u001b[0m             error_msgs \u001b[38;5;241m+\u001b[39m\u001b[38;5;241m=\u001b[39m \u001b[38;5;124m\"\u001b[39m\u001b[38;5;130;01m\\n\u001b[39;00m\u001b[38;5;124m - \u001b[39m\u001b[38;5;124m\"\u001b[39m \u001b[38;5;241m+\u001b[39m \u001b[38;5;28mstr\u001b[39m(err)\n\u001b[1;32m---> 68\u001b[0m     \u001b[38;5;28;01mraise\u001b[39;00m \u001b[38;5;167;01mImportError\u001b[39;00m(\n\u001b[0;32m     69\u001b[0m         \u001b[38;5;124m\"\u001b[39m\u001b[38;5;124mUnable to find a usable engine; \u001b[39m\u001b[38;5;124m\"\u001b[39m\n\u001b[0;32m     70\u001b[0m         \u001b[38;5;124m\"\u001b[39m\u001b[38;5;124mtried using: \u001b[39m\u001b[38;5;124m'\u001b[39m\u001b[38;5;124mpyarrow\u001b[39m\u001b[38;5;124m'\u001b[39m\u001b[38;5;124m, \u001b[39m\u001b[38;5;124m'\u001b[39m\u001b[38;5;124mfastparquet\u001b[39m\u001b[38;5;124m'\u001b[39m\u001b[38;5;124m.\u001b[39m\u001b[38;5;130;01m\\n\u001b[39;00m\u001b[38;5;124m\"\u001b[39m\n\u001b[0;32m     71\u001b[0m         \u001b[38;5;124m\"\u001b[39m\u001b[38;5;124mA suitable version of \u001b[39m\u001b[38;5;124m\"\u001b[39m\n\u001b[0;32m     72\u001b[0m         \u001b[38;5;124m\"\u001b[39m\u001b[38;5;124mpyarrow or fastparquet is required for parquet \u001b[39m\u001b[38;5;124m\"\u001b[39m\n\u001b[0;32m     73\u001b[0m         \u001b[38;5;124m\"\u001b[39m\u001b[38;5;124msupport.\u001b[39m\u001b[38;5;130;01m\\n\u001b[39;00m\u001b[38;5;124m\"\u001b[39m\n\u001b[0;32m     74\u001b[0m         \u001b[38;5;124m\"\u001b[39m\u001b[38;5;124mTrying to import the above resulted in these errors:\u001b[39m\u001b[38;5;124m\"\u001b[39m\n\u001b[0;32m     75\u001b[0m         \u001b[38;5;124mf\u001b[39m\u001b[38;5;124m\"\u001b[39m\u001b[38;5;132;01m{\u001b[39;00merror_msgs\u001b[38;5;132;01m}\u001b[39;00m\u001b[38;5;124m\"\u001b[39m\n\u001b[0;32m     76\u001b[0m     )\n\u001b[0;32m     78\u001b[0m \u001b[38;5;28;01mif\u001b[39;00m engine \u001b[38;5;241m==\u001b[39m \u001b[38;5;124m\"\u001b[39m\u001b[38;5;124mpyarrow\u001b[39m\u001b[38;5;124m\"\u001b[39m:\n\u001b[0;32m     79\u001b[0m     \u001b[38;5;28;01mreturn\u001b[39;00m PyArrowImpl()\n",
      "\u001b[1;31mImportError\u001b[0m: Unable to find a usable engine; tried using: 'pyarrow', 'fastparquet'.\nA suitable version of pyarrow or fastparquet is required for parquet support.\nTrying to import the above resulted in these errors:\n - Missing optional dependency 'pyarrow'. pyarrow is required for parquet support. Use pip or conda to install pyarrow.\n - Missing optional dependency 'fastparquet'. fastparquet is required for parquet support. Use pip or conda to install fastparquet."
     ]
    }
   ],
   "source": [
    "\n",
    "import os, subprocess, shutil\n",
    "from pathlib import Path\n",
    "DATA_DIR = Path('data/janestreet')\n",
    "KAGGLE_TOKEN = Path.home() / '.kaggle' / 'kaggle.json'\n",
    "DATA_DIR.mkdir(parents=True, exist_ok=True)\n",
    "downloaded = False\n",
    "if KAGGLE_TOKEN.exists():\n",
    "    print('Kaggle token found. Attempting to download Jane Street dataset via Kaggle CLI (may be large).')\n",
    "    try:\n",
    "        cmd = ['kaggle', 'competitions', 'download', '-c', 'jane-street-market-prediction', '-p', str(DATA_DIR), '--unzip']\n",
    "        print('Running:', ' '.join(cmd))\n",
    "        subprocess.run(cmd, check=True)\n",
    "        downloaded = True\n",
    "        print('Download complete. Look for train.csv or train.parquet in', DATA_DIR)\n",
    "    except Exception as e:\n",
    "        print('Kaggle download failed with error:', e)\n",
    "        downloaded = False\n",
    "\n",
    "if not downloaded:\n",
    "    print('Creating small synthetic sample (train_sample.parquet) for quick runs.')\n",
    "    import numpy as np, pandas as pd\n",
    "    n_dates = 10\n",
    "    rows_per_date = 200\n",
    "    dates = np.repeat(np.arange(n_dates), rows_per_date)\n",
    "    ids = np.arange(len(dates))\n",
    "    np.random.seed(42)\n",
    "    data = {'date': dates, 'id': ids}\n",
    "    for i in range(10):\n",
    "        data[f'feature_{i}'] = np.random.normal(0,1,size=len(dates)) + (dates * 0.01)\n",
    "    data['resp'] = 0.001 * (np.random.randn(len(dates)) + data['feature_0']*0.5 - data['feature_1']*0.3)\n",
    "    df = pd.DataFrame(data)\n",
    "    out_path = DATA_DIR / 'train_sample.parquet'\n",
    "    df.to_parquet(out_path, index=False)\n",
    "    print('Synthetic sample saved to', out_path)\n"
   ]
  },
  {
   "cell_type": "markdown",
   "id": "b93ca17d",
   "metadata": {},
   "source": [
    "## 2 — Prepare features (works for real or synthetic data)\n",
    "This cell reads available parquet/csv and computes lag and rolling features. It saves `prepared.parquet`. If you downloaded the real dataset, point `DATA_PATH` to the real file before running."
   ]
  },
  {
   "cell_type": "code",
   "execution_count": null,
   "id": "2eb46ea7",
   "metadata": {},
   "outputs": [],
   "source": [
    "\n",
    "import pandas as pd, os\n",
    "from pathlib import Path\n",
    "DATA_DIR = Path('data/janestreet')\n",
    "candidates = ['train.parquet','train.csv','train_sample.parquet']\n",
    "data_path = None\n",
    "for c in candidates:\n",
    "    p = DATA_DIR / c\n",
    "    if p.exists():\n",
    "        data_path = p; break\n",
    "if data_path is None:\n",
    "    for p in DATA_DIR.glob('*.parquet'):\n",
    "        data_path = p; break\n",
    "if data_path is None:\n",
    "    raise RuntimeError('No data file found in data/janestreet/. Place train.csv or train.parquet, or let the previous cell create a sample.')\n",
    "print('Using data file:', data_path)\n",
    "if data_path.suffix == '.parquet':\n",
    "    df = pd.read_parquet(data_path)\n",
    "else:\n",
    "    df = pd.read_csv(data_path)\n",
    "feat_cols = [c for c in df.columns if str(c).startswith('feature')]\n",
    "df = df.sort_values(['date','id']).reset_index(drop=True)\n",
    "for lag in [1,2,3]:\n",
    "    for c in feat_cols:\n",
    "        df[f'{c}_lag{lag}'] = df.groupby('date')[c].shift(lag).fillna(0.0)\n",
    "for c in feat_cols[:10]:\n",
    "    df[f'{c}_rm3'] = df.groupby('date')[c].rolling(3, min_periods=1).mean().reset_index(0,drop=True)\n",
    "target = 'resp' if 'resp' in df.columns else 'target'\n",
    "train_df = df[df[target].notnull()]\n",
    "out_path = DATA_DIR / 'prepared.parquet'\n",
    "train_df.to_parquet(out_path, index=False)\n",
    "print('Prepared features saved to', out_path, 'rows=', len(train_df))\n"
   ]
  },
  {
   "cell_type": "markdown",
   "id": "6e729c39",
   "metadata": {},
   "source": [
    "## 3 — Train LightGBM baseline with GroupKFold (time-aware CV)\n",
    "This cell trains LightGBM using `date` as group for CV. Works on real or sample prepared data."
   ]
  },
  {
   "cell_type": "code",
   "execution_count": null,
   "id": "c585dfce",
   "metadata": {},
   "outputs": [],
   "source": [
    "\n",
    "import pandas as pd, numpy as np, os\n",
    "from sklearn.model_selection import GroupKFold\n",
    "import lightgbm as lgb\n",
    "DATA = 'data/janestreet/prepared.parquet'\n",
    "if not os.path.exists(DATA):\n",
    "    raise RuntimeError('Prepared data not found. Run previous cells.')\n",
    "df = pd.read_parquet(DATA)\n",
    "target = 'resp' if 'resp' in df.columns else 'target'\n",
    "feats = [c for c in df.columns if c not in ['date','id',target]]\n",
    "groups = df['date'].values\n",
    "gkf = GroupKFold(n_splits=5)\n",
    "oof = np.zeros(len(df))\n",
    "importances = []\n",
    "for fold, (tr_idx, val_idx) in enumerate(gkf.split(df, df[target], groups)):\n",
    "    tr = df.iloc[tr_idx]; val = df.iloc[val_idx]\n",
    "    dtrain = lgb.Dataset(tr[feats], label=tr[target])\n",
    "    dval = lgb.Dataset(val[feats], label=val[target])\n",
    "    params = {'objective':'regression','metric':'rmse','verbosity':-1,'learning_rate':0.05,'num_leaves':31}\n",
    "    model = lgb.train(params, dtrain, valid_sets=[dtrain,dval], early_stopping_rounds=50, num_boost_round=500, verbose_eval=50)\n",
    "    oof[val_idx] = model.predict(val[feats], num_iteration=model.best_iteration)\n",
    "    importances.append(pd.DataFrame({'feature':feats, 'gain':model.feature_importance(importance_type='gain')}))\n",
    "    model.save_model(f'data/janestreet/lgb_fold{fold}.txt')\n",
    "rmse = ((oof - df[target])**2).mean()**0.5\n",
    "print('OOF RMSE:', rmse)\n",
    "imp = pd.concat(importances).groupby('feature').mean().reset_index().sort_values('gain', ascending=False)\n",
    "imp.to_csv('data/janestreet/feature_importances.csv', index=False)\n",
    "print('Saved feature importances and fold models to data/janestreet/')"
   ]
  },
  {
   "cell_type": "markdown",
   "id": "af0cb7d4",
   "metadata": {},
   "source": [
    "## 4 — Simple backtest / evaluation (uses saved fold models if present)\n",
    "Demonstrates a simple strategy based on model predictions."
   ]
  },
  {
   "cell_type": "code",
   "execution_count": null,
   "id": "837dc29d",
   "metadata": {},
   "outputs": [],
   "source": [
    "\n",
    "import pandas as pd, numpy as np, os\n",
    "df = pd.read_parquet('data/janestreet/prepared.parquet').reset_index(drop=True)\n",
    "models = [p for p in os.listdir('data/janestreet') if p.startswith('lgb_fold') and p.endswith('.txt')]\n",
    "preds = None\n",
    "if models:\n",
    "    import lightgbm as lgb\n",
    "    preds = np.zeros(len(df))\n",
    "    feats = [c for c in df.columns if c not in ['date','id','resp','target']]\n",
    "    for m in models:\n",
    "        mdl = lgb.Booster(model_file=os.path.join('data/janestreet', m))\n",
    "        preds += mdl.predict(df[feats], num_iteration=mdl.best_iteration)\n",
    "    preds /= len(models)\n",
    "else:\n",
    "    preds = np.zeros(len(df))\n",
    "actual = df['resp'].values if 'resp' in df.columns else df['target'].values\n",
    "positions = np.sign(preds)\n",
    "strategy_ret = positions * actual\n",
    "cum_strategy = np.cumprod(1 + strategy_ret) - 1\n",
    "cum_buy = np.cumprod(1 + actual) - 1\n",
    "import matplotlib.pyplot as plt\n",
    "plt.figure(figsize=(8,4))\n",
    "plt.plot(cum_strategy, label='Strategy')\n",
    "plt.plot(cum_buy, label='Buy & Hold')\n",
    "plt.legend(); plt.title('Cumulative returns (strategy vs buy & hold)'); plt.show()\n",
    "print('Final strategy return:', cum_strategy[-1], 'Final buy & hold:', cum_buy[-1])"
   ]
  },
  {
   "cell_type": "markdown",
   "id": "4897e8a3",
   "metadata": {},
   "source": [
    "----\n",
    "\n",
    "**End of Notebook B.**\n"
   ]
  }
 ],
 "metadata": {
  "kernelspec": {
   "display_name": "Python [conda env:Anaconda3-mobipi]",
   "language": "python",
   "name": "conda-env-Anaconda3-mobipi-py"
  },
  "language_info": {
   "codemirror_mode": {
    "name": "ipython",
    "version": 3
   },
   "file_extension": ".py",
   "mimetype": "text/x-python",
   "name": "python",
   "nbconvert_exporter": "python",
   "pygments_lexer": "ipython3",
   "version": "3.10.18"
  }
 },
 "nbformat": 4,
 "nbformat_minor": 5
}
