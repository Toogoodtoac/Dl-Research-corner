{
 "cells": [
  {
   "cell_type": "markdown",
   "id": "cd47f4f6",
   "metadata": {},
   "source": [
    "# Project B — Jane Street LightGBM pipeline (Auto-select real data via Kaggle if available)\n",
    "\n",
    "**Summary:** This notebook will attempt to download the Jane Street dataset from Kaggle if `~/.kaggle/kaggle.json` is present and the Kaggle CLI is available. If the download succeeds, it prepares features from the real dataset and trains a LightGBM baseline with grouped time CV. If not, it falls back to a synthetic sample so you can run the whole pipeline immediately.\n",
    "\n",
    "**Result:** After running all cells, you'll have either trained LightGBM models on the real Jane Street data (files in `data/janestreet/`) or trained models on a synthetic sample (saved under the same folder)."
   ]
  },
  {
   "cell_type": "markdown",
   "id": "045d2548",
   "metadata": {},
   "source": [
    "## 0 — Requirements\n",
    "Run this cell to install requirements if not already installed."
   ]
  },
  {
   "cell_type": "code",
   "execution_count": null,
   "id": "e1e0c10d",
   "metadata": {},
   "outputs": [],
   "source": [
    "%%bash\n",
    "python -m pip install --upgrade pip\n",
    "python -m pip install numpy pandas pyarrow scikit-learn lightgbm kaggle matplotlib tqdm"
   ]
  },
  {
   "cell_type": "markdown",
   "id": "0d260c47",
   "metadata": {},
   "source": [
    "## 1 — Download real Jane Street dataset via Kaggle if available, else create synthetic sample\n",
    "This cell checks for `~/.kaggle/kaggle.json`. If present it will attempt to download the competition dataset; otherwise a synthetic sample is created."
   ]
  },
  {
   "cell_type": "code",
   "execution_count": null,
   "id": "f6470382",
   "metadata": {},
   "outputs": [],
   "source": [
    "\n",
    "import os, subprocess, shutil\n",
    "from pathlib import Path\n",
    "DATA_DIR = Path('data/janestreet')\n",
    "KAGGLE_TOKEN = Path.home() / '.kaggle' / 'kaggle.json'\n",
    "DATA_DIR.mkdir(parents=True, exist_ok=True)\n",
    "downloaded = False\n",
    "if KAGGLE_TOKEN.exists():\n",
    "    print('Kaggle token found. Attempting to download Jane Street dataset via Kaggle CLI (may be large).')\n",
    "    try:\n",
    "        cmd = ['kaggle', 'competitions', 'download', '-c', 'jane-street-market-prediction', '-p', str(DATA_DIR), '--unzip']\n",
    "        print('Running:', ' '.join(cmd))\n",
    "        subprocess.run(cmd, check=True)\n",
    "        downloaded = True\n",
    "        print('Download complete. Look for train.csv or train.parquet in', DATA_DIR)\n",
    "    except Exception as e:\n",
    "        print('Kaggle download failed with error:', e)\n",
    "        downloaded = False\n",
    "\n",
    "if not downloaded:\n",
    "    print('Creating small synthetic sample (train_sample.parquet) for quick runs.')\n",
    "    import numpy as np, pandas as pd\n",
    "    n_dates = 10\n",
    "    rows_per_date = 200\n",
    "    dates = np.repeat(np.arange(n_dates), rows_per_date)\n",
    "    ids = np.arange(len(dates))\n",
    "    np.random.seed(42)\n",
    "    data = {'date': dates, 'id': ids}\n",
    "    for i in range(10):\n",
    "        data[f'feature_{i}'] = np.random.normal(0,1,size=len(dates)) + (dates * 0.01)\n",
    "    data['resp'] = 0.001 * (np.random.randn(len(dates)) + data['feature_0']*0.5 - data['feature_1']*0.3)\n",
    "    df = pd.DataFrame(data)\n",
    "    out_path = DATA_DIR / 'train_sample.parquet'\n",
    "    df.to_parquet(out_path, index=False)\n",
    "    print('Synthetic sample saved to', out_path)\n"
   ]
  },
  {
   "cell_type": "markdown",
   "id": "b93ca17d",
   "metadata": {},
   "source": [
    "## 2 — Prepare features (works for real or synthetic data)\n",
    "This cell reads available parquet/csv and computes lag and rolling features. It saves `prepared.parquet`. If you downloaded the real dataset, point `DATA_PATH` to the real file before running."
   ]
  },
  {
   "cell_type": "code",
   "execution_count": null,
   "id": "2eb46ea7",
   "metadata": {},
   "outputs": [],
   "source": [
    "\n",
    "import pandas as pd, os\n",
    "from pathlib import Path\n",
    "DATA_DIR = Path('data/janestreet')\n",
    "candidates = ['train.parquet','train.csv','train_sample.parquet']\n",
    "data_path = None\n",
    "for c in candidates:\n",
    "    p = DATA_DIR / c\n",
    "    if p.exists():\n",
    "        data_path = p; break\n",
    "if data_path is None:\n",
    "    for p in DATA_DIR.glob('*.parquet'):\n",
    "        data_path = p; break\n",
    "if data_path is None:\n",
    "    raise RuntimeError('No data file found in data/janestreet/. Place train.csv or train.parquet, or let the previous cell create a sample.')\n",
    "print('Using data file:', data_path)\n",
    "if data_path.suffix == '.parquet':\n",
    "    df = pd.read_parquet(data_path)\n",
    "else:\n",
    "    df = pd.read_csv(data_path)\n",
    "feat_cols = [c for c in df.columns if str(c).startswith('feature')]\n",
    "df = df.sort_values(['date','id']).reset_index(drop=True)\n",
    "for lag in [1,2,3]:\n",
    "    for c in feat_cols:\n",
    "        df[f'{c}_lag{lag}'] = df.groupby('date')[c].shift(lag).fillna(0.0)\n",
    "for c in feat_cols[:10]:\n",
    "    df[f'{c}_rm3'] = df.groupby('date')[c].rolling(3, min_periods=1).mean().reset_index(0,drop=True)\n",
    "target = 'resp' if 'resp' in df.columns else 'target'\n",
    "train_df = df[df[target].notnull()]\n",
    "out_path = DATA_DIR / 'prepared.parquet'\n",
    "train_df.to_parquet(out_path, index=False)\n",
    "print('Prepared features saved to', out_path, 'rows=', len(train_df))\n"
   ]
  },
  {
   "cell_type": "markdown",
   "id": "6e729c39",
   "metadata": {},
   "source": [
    "## 3 — Train LightGBM baseline with GroupKFold (time-aware CV)\n",
    "This cell trains LightGBM using `date` as group for CV. Works on real or sample prepared data."
   ]
  },
  {
   "cell_type": "code",
   "execution_count": null,
   "id": "c585dfce",
   "metadata": {},
   "outputs": [],
   "source": [
    "\n",
    "import pandas as pd, numpy as np, os\n",
    "from sklearn.model_selection import GroupKFold\n",
    "import lightgbm as lgb\n",
    "DATA = 'data/janestreet/prepared.parquet'\n",
    "if not os.path.exists(DATA):\n",
    "    raise RuntimeError('Prepared data not found. Run previous cells.')\n",
    "df = pd.read_parquet(DATA)\n",
    "target = 'resp' if 'resp' in df.columns else 'target'\n",
    "feats = [c for c in df.columns if c not in ['date','id',target]]\n",
    "groups = df['date'].values\n",
    "gkf = GroupKFold(n_splits=5)\n",
    "oof = np.zeros(len(df))\n",
    "importances = []\n",
    "for fold, (tr_idx, val_idx) in enumerate(gkf.split(df, df[target], groups)):\n",
    "    tr = df.iloc[tr_idx]; val = df.iloc[val_idx]\n",
    "    dtrain = lgb.Dataset(tr[feats], label=tr[target])\n",
    "    dval = lgb.Dataset(val[feats], label=val[target])\n",
    "    params = {'objective':'regression','metric':'rmse','verbosity':-1,'learning_rate':0.05,'num_leaves':31}\n",
    "    model = lgb.train(params, dtrain, valid_sets=[dtrain,dval], early_stopping_rounds=50, num_boost_round=500, verbose_eval=50)\n",
    "    oof[val_idx] = model.predict(val[feats], num_iteration=model.best_iteration)\n",
    "    importances.append(pd.DataFrame({'feature':feats, 'gain':model.feature_importance(importance_type='gain')}))\n",
    "    model.save_model(f'data/janestreet/lgb_fold{fold}.txt')\n",
    "rmse = ((oof - df[target])**2).mean()**0.5\n",
    "print('OOF RMSE:', rmse)\n",
    "imp = pd.concat(importances).groupby('feature').mean().reset_index().sort_values('gain', ascending=False)\n",
    "imp.to_csv('data/janestreet/feature_importances.csv', index=False)\n",
    "print('Saved feature importances and fold models to data/janestreet/')"
   ]
  },
  {
   "cell_type": "markdown",
   "id": "af0cb7d4",
   "metadata": {},
   "source": [
    "## 4 — Simple backtest / evaluation (uses saved fold models if present)\n",
    "Demonstrates a simple strategy based on model predictions."
   ]
  },
  {
   "cell_type": "code",
   "execution_count": null,
   "id": "837dc29d",
   "metadata": {},
   "outputs": [],
   "source": [
    "\n",
    "import pandas as pd, numpy as np, os\n",
    "df = pd.read_parquet('data/janestreet/prepared.parquet').reset_index(drop=True)\n",
    "models = [p for p in os.listdir('data/janestreet') if p.startswith('lgb_fold') and p.endswith('.txt')]\n",
    "preds = None\n",
    "if models:\n",
    "    import lightgbm as lgb\n",
    "    preds = np.zeros(len(df))\n",
    "    feats = [c for c in df.columns if c not in ['date','id','resp','target']]\n",
    "    for m in models:\n",
    "        mdl = lgb.Booster(model_file=os.path.join('data/janestreet', m))\n",
    "        preds += mdl.predict(df[feats], num_iteration=mdl.best_iteration)\n",
    "    preds /= len(models)\n",
    "else:\n",
    "    preds = np.zeros(len(df))\n",
    "actual = df['resp'].values if 'resp' in df.columns else df['target'].values\n",
    "positions = np.sign(preds)\n",
    "strategy_ret = positions * actual\n",
    "cum_strategy = np.cumprod(1 + strategy_ret) - 1\n",
    "cum_buy = np.cumprod(1 + actual) - 1\n",
    "import matplotlib.pyplot as plt\n",
    "plt.figure(figsize=(8,4))\n",
    "plt.plot(cum_strategy, label='Strategy')\n",
    "plt.plot(cum_buy, label='Buy & Hold')\n",
    "plt.legend(); plt.title('Cumulative returns (strategy vs buy & hold)'); plt.show()\n",
    "print('Final strategy return:', cum_strategy[-1], 'Final buy & hold:', cum_buy[-1])"
   ]
  },
  {
   "cell_type": "markdown",
   "id": "4897e8a3",
   "metadata": {},
   "source": [
    "----\n",
    "\n",
    "**End of Notebook B.**\n"
   ]
  }
 ],
 "metadata": {},
 "nbformat": 4,
 "nbformat_minor": 5
}
