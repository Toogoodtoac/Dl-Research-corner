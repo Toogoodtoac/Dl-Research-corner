{
 "cells": [
  {
   "cell_type": "code",
   "execution_count": 1,
   "id": "8c7c65f5-22e1-457a-9aa0-8bdf23a36489",
   "metadata": {},
   "outputs": [
    {
     "name": "stdout",
     "output_type": "stream",
     "text": [
      "Collecting kaggle\n",
      "  Downloading kaggle-1.7.4.5-py3-none-any.whl.metadata (16 kB)\n",
      "Requirement already satisfied: bleach in c:\\users\\penguinne\\anaconda3\\envs\\mobipi\\lib\\site-packages (from kaggle) (6.2.0)\n",
      "Requirement already satisfied: certifi>=14.05.14 in c:\\users\\penguinne\\anaconda3\\envs\\mobipi\\lib\\site-packages (from kaggle) (2022.12.7)\n",
      "Requirement already satisfied: charset-normalizer in c:\\users\\penguinne\\anaconda3\\envs\\mobipi\\lib\\site-packages (from kaggle) (2.1.1)\n",
      "Requirement already satisfied: idna in c:\\users\\penguinne\\anaconda3\\envs\\mobipi\\lib\\site-packages (from kaggle) (3.4)\n",
      "Requirement already satisfied: protobuf in c:\\users\\penguinne\\anaconda3\\envs\\mobipi\\lib\\site-packages (from kaggle) (3.19.6)\n",
      "Requirement already satisfied: python-dateutil>=2.5.3 in c:\\users\\penguinne\\anaconda3\\envs\\mobipi\\lib\\site-packages (from kaggle) (2.9.0.post0)\n",
      "Collecting python-slugify (from kaggle)\n",
      "  Downloading python_slugify-8.0.4-py2.py3-none-any.whl.metadata (8.5 kB)\n",
      "Requirement already satisfied: requests in c:\\users\\penguinne\\anaconda3\\envs\\mobipi\\lib\\site-packages (from kaggle) (2.32.4)\n",
      "Requirement already satisfied: setuptools>=21.0.0 in c:\\users\\penguinne\\anaconda3\\envs\\mobipi\\lib\\site-packages (from kaggle) (80.9.0)\n",
      "Requirement already satisfied: six>=1.10 in c:\\users\\penguinne\\anaconda3\\envs\\mobipi\\lib\\site-packages (from kaggle) (1.17.0)\n",
      "Collecting text-unidecode (from kaggle)\n",
      "  Downloading text_unidecode-1.3-py2.py3-none-any.whl.metadata (2.4 kB)\n",
      "Requirement already satisfied: tqdm in c:\\users\\penguinne\\anaconda3\\envs\\mobipi\\lib\\site-packages (from kaggle) (4.64.0)\n",
      "Requirement already satisfied: urllib3>=1.15.1 in c:\\users\\penguinne\\anaconda3\\envs\\mobipi\\lib\\site-packages (from kaggle) (1.26.13)\n",
      "Requirement already satisfied: webencodings in c:\\users\\penguinne\\anaconda3\\envs\\mobipi\\lib\\site-packages (from kaggle) (0.5.1)\n",
      "Requirement already satisfied: colorama in c:\\users\\penguinne\\anaconda3\\envs\\mobipi\\lib\\site-packages (from tqdm->kaggle) (0.4.6)\n",
      "Downloading kaggle-1.7.4.5-py3-none-any.whl (181 kB)\n",
      "Downloading python_slugify-8.0.4-py2.py3-none-any.whl (10 kB)\n",
      "Downloading text_unidecode-1.3-py2.py3-none-any.whl (78 kB)\n",
      "Installing collected packages: text-unidecode, python-slugify, kaggle\n",
      "\n",
      "   -------------------------- ------------- 2/3 [kaggle]\n",
      "   -------------------------- ------------- 2/3 [kaggle]\n",
      "   -------------------------- ------------- 2/3 [kaggle]\n",
      "   -------------------------- ------------- 2/3 [kaggle]\n",
      "   -------------------------- ------------- 2/3 [kaggle]\n",
      "   -------------------------- ------------- 2/3 [kaggle]\n",
      "   -------------------------- ------------- 2/3 [kaggle]\n",
      "   -------------------------- ------------- 2/3 [kaggle]\n",
      "   ---------------------------------------- 3/3 [kaggle]\n",
      "\n",
      "Successfully installed kaggle-1.7.4.5 python-slugify-8.0.4 text-unidecode-1.3\n",
      "Note: you may need to restart the kernel to use updated packages.\n"
     ]
    }
   ],
   "source": [
    "pip install kaggle\n"
   ]
  },
  {
   "cell_type": "code",
   "execution_count": 11,
   "id": "a1e1ec0f-7d5d-4043-ad36-f359d0bc3afe",
   "metadata": {},
   "outputs": [
    {
     "name": "stdout",
     "output_type": "stream",
     "text": [
      "✅ kaggle.json installed at: C:\\Users\\Penguinne/.kaggle\\kaggle.json\n"
     ]
    }
   ],
   "source": [
    "import os, shutil\n",
    "\n",
    "# Path to your downloaded kaggle.json\n",
    "src = r\"C:\\Users\\Penguinne\\Downloads\\kaggle.json\"\n",
    "\n",
    "# Destination: hidden .kaggle folder in your user directory\n",
    "dest_dir = os.path.expanduser(\"~/.kaggle\")\n",
    "dest = os.path.join(dest_dir, \"kaggle.json\")\n",
    "\n",
    "# Create the .kaggle folder if it doesn’t exist\n",
    "os.makedirs(dest_dir, exist_ok=True)\n",
    "\n",
    "# Copy the file\n",
    "shutil.copy(src, dest)\n",
    "\n",
    "# Set file permissions (won’t matter on Windows, but good practice)\n",
    "os.chmod(dest, 0o600)\n",
    "\n",
    "print(\"✅ kaggle.json installed at:\", dest)\n"
   ]
  },
  {
   "cell_type": "code",
   "execution_count": 12,
   "id": "21ce0fc6-12e4-416e-a88f-61e1f9bb28ac",
   "metadata": {},
   "outputs": [
    {
     "name": "stdout",
     "output_type": "stream",
     "text": [
      "ref                                                                              deadline             category                reward  teamCount  userHasEntered  \n",
      "-------------------------------------------------------------------------------  -------------------  ---------------  -------------  ---------  --------------  \n",
      "https://www.kaggle.com/competitions/arc-prize-2025                               2025-11-03 23:59:00  Featured         1,000,000 Usd       1078           False  \n",
      "https://www.kaggle.com/competitions/jigsaw-agile-community-rules                 2025-10-24 06:59:00  Featured           100,000 Usd       1808           False  \n",
      "https://www.kaggle.com/competitions/mitsui-commodity-prediction-challenge        2025-10-06 23:59:00  Featured           100,000 Usd       1422           False  \n",
      "https://www.kaggle.com/competitions/google-code-golf-2025                        2025-10-30 23:59:00  Research           100,000 Usd        770           False  \n",
      "https://www.kaggle.com/competitions/hull-tactical-market-prediction              2025-12-15 23:59:00  Featured           100,000 Usd        517           False  \n",
      "https://www.kaggle.com/competitions/map-charting-student-math-misunderstandings  2025-10-15 23:59:00  Featured            55,000 Usd       1585           False  \n",
      "https://www.kaggle.com/competitions/rsna-intracranial-aneurysm-detection         2025-10-14 23:59:00  Featured            50,000 Usd        912           False  \n",
      "https://www.kaggle.com/competitions/MABe-mouse-behavior-detection                2025-12-15 23:59:00  Research            50,000 Usd        222           False  \n",
      "https://www.kaggle.com/competitions/nfl-big-data-bowl-2026-prediction            2025-12-03 23:59:00  Featured            50,000 Usd         98           False  \n",
      "https://www.kaggle.com/competitions/nfl-big-data-bowl-2026-analytics             2025-12-17 23:59:00  Featured            50,000 Usd          0           False  \n",
      "https://www.kaggle.com/competitions/playground-series-s5e9                       2025-09-30 23:59:00  Playground                Swag       2373           False  \n",
      "https://www.kaggle.com/competitions/titanic                                      2030-01-01 00:00:00  Getting Started      Knowledge      13521            True  \n",
      "https://www.kaggle.com/competitions/home-data-for-ml-course                      2030-01-01 23:59:00  Getting Started      Knowledge       5579           False  \n",
      "https://www.kaggle.com/competitions/house-prices-advanced-regression-techniques  2030-01-01 00:00:00  Getting Started      Knowledge       4296           False  \n",
      "https://www.kaggle.com/competitions/spaceship-titanic                            2030-01-01 00:00:00  Getting Started      Knowledge       1451           False  \n",
      "https://www.kaggle.com/competitions/digit-recognizer                             2030-01-01 00:00:00  Getting Started      Knowledge        934           False  \n",
      "https://www.kaggle.com/competitions/store-sales-time-series-forecasting          2030-06-30 23:59:00  Getting Started      Knowledge        560           False  \n",
      "https://www.kaggle.com/competitions/nlp-getting-started                          2030-01-01 00:00:00  Getting Started      Knowledge        493           False  \n",
      "https://www.kaggle.com/competitions/llm-classification-finetuning                2030-07-01 23:59:00  Getting Started      Knowledge        208           False  \n",
      "https://www.kaggle.com/competitions/connectx                                     2030-01-01 00:00:00  Getting Started      Knowledge        175           False  \n"
     ]
    }
   ],
   "source": [
    "!kaggle competitions list\n"
   ]
  },
  {
   "cell_type": "code",
   "execution_count": 15,
   "id": "ba4eb347-3c49-4fae-b0fa-c6617a4e6806",
   "metadata": {},
   "outputs": [
    {
     "name": "stdout",
     "output_type": "stream",
     "text": [
      "Downloading house-prices-advanced-regression-techniques.zip to C:\\Users\\Penguinne\\Dl-Research-corner\n",
      "\n",
      "✅ Data extracted to 'house-prices-data' folder\n"
     ]
    },
    {
     "name": "stderr",
     "output_type": "stream",
     "text": [
      "\n",
      "  0%|          | 0.00/199k [00:00<?, ?B/s]\n",
      "100%|##########| 199k/199k [00:00<00:00, 203MB/s]\n"
     ]
    }
   ],
   "source": [
    "import zipfile\n",
    "\n",
    "# Download competition data\n",
    "!kaggle competitions download -c house-prices-advanced-regression-techniques\n",
    "\n",
    "# Unzip using Python\n",
    "with zipfile.ZipFile(\"house-prices-advanced-regression-techniques.zip\", 'r') as zip_ref:\n",
    "    zip_ref.extractall(\"house-prices-data\")\n",
    "\n",
    "print(\"✅ Data extracted to 'house-prices-data' folder\")\n"
   ]
  },
  {
   "cell_type": "code",
   "execution_count": 18,
   "id": "b950827f-e471-4cca-b5a0-df1d5f9d6500",
   "metadata": {},
   "outputs": [
    {
     "name": "stdout",
     "output_type": "stream",
     "text": [
      "Requirement already satisfied: pandas in c:\\users\\penguinne\\anaconda3\\envs\\mobipi\\lib\\site-packages (2.3.2)\n",
      "Requirement already satisfied: numpy>=1.22.4 in c:\\users\\penguinne\\anaconda3\\envs\\mobipi\\lib\\site-packages (from pandas) (1.23.3)\n",
      "Requirement already satisfied: python-dateutil>=2.8.2 in c:\\users\\penguinne\\anaconda3\\envs\\mobipi\\lib\\site-packages (from pandas) (2.9.0.post0)\n",
      "Requirement already satisfied: pytz>=2020.1 in c:\\users\\penguinne\\anaconda3\\envs\\mobipi\\lib\\site-packages (from pandas) (2025.2)\n",
      "Requirement already satisfied: tzdata>=2022.7 in c:\\users\\penguinne\\anaconda3\\envs\\mobipi\\lib\\site-packages (from pandas) (2025.2)\n",
      "Requirement already satisfied: six>=1.5 in c:\\users\\penguinne\\anaconda3\\envs\\mobipi\\lib\\site-packages (from python-dateutil>=2.8.2->pandas) (1.17.0)\n"
     ]
    }
   ],
   "source": [
    "!pip install pandas"
   ]
  },
  {
   "cell_type": "code",
   "execution_count": 21,
   "id": "08b585a2-2d0c-4cb5-b487-77ae4f3c9955",
   "metadata": {},
   "outputs": [
    {
     "name": "stdout",
     "output_type": "stream",
     "text": [
      "Train shape: (1460, 81)\n",
      "Test shape: (1459, 80)\n"
     ]
    },
    {
     "data": {
      "text/html": [
       "<div>\n",
       "<style scoped>\n",
       "    .dataframe tbody tr th:only-of-type {\n",
       "        vertical-align: middle;\n",
       "    }\n",
       "\n",
       "    .dataframe tbody tr th {\n",
       "        vertical-align: top;\n",
       "    }\n",
       "\n",
       "    .dataframe thead th {\n",
       "        text-align: right;\n",
       "    }\n",
       "</style>\n",
       "<table border=\"1\" class=\"dataframe\">\n",
       "  <thead>\n",
       "    <tr style=\"text-align: right;\">\n",
       "      <th></th>\n",
       "      <th>Id</th>\n",
       "      <th>MSSubClass</th>\n",
       "      <th>MSZoning</th>\n",
       "      <th>LotFrontage</th>\n",
       "      <th>LotArea</th>\n",
       "      <th>Street</th>\n",
       "      <th>Alley</th>\n",
       "      <th>LotShape</th>\n",
       "      <th>LandContour</th>\n",
       "      <th>Utilities</th>\n",
       "      <th>...</th>\n",
       "      <th>PoolArea</th>\n",
       "      <th>PoolQC</th>\n",
       "      <th>Fence</th>\n",
       "      <th>MiscFeature</th>\n",
       "      <th>MiscVal</th>\n",
       "      <th>MoSold</th>\n",
       "      <th>YrSold</th>\n",
       "      <th>SaleType</th>\n",
       "      <th>SaleCondition</th>\n",
       "      <th>SalePrice</th>\n",
       "    </tr>\n",
       "  </thead>\n",
       "  <tbody>\n",
       "    <tr>\n",
       "      <th>0</th>\n",
       "      <td>1</td>\n",
       "      <td>60</td>\n",
       "      <td>RL</td>\n",
       "      <td>65.0</td>\n",
       "      <td>8450</td>\n",
       "      <td>Pave</td>\n",
       "      <td>NaN</td>\n",
       "      <td>Reg</td>\n",
       "      <td>Lvl</td>\n",
       "      <td>AllPub</td>\n",
       "      <td>...</td>\n",
       "      <td>0</td>\n",
       "      <td>NaN</td>\n",
       "      <td>NaN</td>\n",
       "      <td>NaN</td>\n",
       "      <td>0</td>\n",
       "      <td>2</td>\n",
       "      <td>2008</td>\n",
       "      <td>WD</td>\n",
       "      <td>Normal</td>\n",
       "      <td>208500</td>\n",
       "    </tr>\n",
       "    <tr>\n",
       "      <th>1</th>\n",
       "      <td>2</td>\n",
       "      <td>20</td>\n",
       "      <td>RL</td>\n",
       "      <td>80.0</td>\n",
       "      <td>9600</td>\n",
       "      <td>Pave</td>\n",
       "      <td>NaN</td>\n",
       "      <td>Reg</td>\n",
       "      <td>Lvl</td>\n",
       "      <td>AllPub</td>\n",
       "      <td>...</td>\n",
       "      <td>0</td>\n",
       "      <td>NaN</td>\n",
       "      <td>NaN</td>\n",
       "      <td>NaN</td>\n",
       "      <td>0</td>\n",
       "      <td>5</td>\n",
       "      <td>2007</td>\n",
       "      <td>WD</td>\n",
       "      <td>Normal</td>\n",
       "      <td>181500</td>\n",
       "    </tr>\n",
       "    <tr>\n",
       "      <th>2</th>\n",
       "      <td>3</td>\n",
       "      <td>60</td>\n",
       "      <td>RL</td>\n",
       "      <td>68.0</td>\n",
       "      <td>11250</td>\n",
       "      <td>Pave</td>\n",
       "      <td>NaN</td>\n",
       "      <td>IR1</td>\n",
       "      <td>Lvl</td>\n",
       "      <td>AllPub</td>\n",
       "      <td>...</td>\n",
       "      <td>0</td>\n",
       "      <td>NaN</td>\n",
       "      <td>NaN</td>\n",
       "      <td>NaN</td>\n",
       "      <td>0</td>\n",
       "      <td>9</td>\n",
       "      <td>2008</td>\n",
       "      <td>WD</td>\n",
       "      <td>Normal</td>\n",
       "      <td>223500</td>\n",
       "    </tr>\n",
       "    <tr>\n",
       "      <th>3</th>\n",
       "      <td>4</td>\n",
       "      <td>70</td>\n",
       "      <td>RL</td>\n",
       "      <td>60.0</td>\n",
       "      <td>9550</td>\n",
       "      <td>Pave</td>\n",
       "      <td>NaN</td>\n",
       "      <td>IR1</td>\n",
       "      <td>Lvl</td>\n",
       "      <td>AllPub</td>\n",
       "      <td>...</td>\n",
       "      <td>0</td>\n",
       "      <td>NaN</td>\n",
       "      <td>NaN</td>\n",
       "      <td>NaN</td>\n",
       "      <td>0</td>\n",
       "      <td>2</td>\n",
       "      <td>2006</td>\n",
       "      <td>WD</td>\n",
       "      <td>Abnorml</td>\n",
       "      <td>140000</td>\n",
       "    </tr>\n",
       "    <tr>\n",
       "      <th>4</th>\n",
       "      <td>5</td>\n",
       "      <td>60</td>\n",
       "      <td>RL</td>\n",
       "      <td>84.0</td>\n",
       "      <td>14260</td>\n",
       "      <td>Pave</td>\n",
       "      <td>NaN</td>\n",
       "      <td>IR1</td>\n",
       "      <td>Lvl</td>\n",
       "      <td>AllPub</td>\n",
       "      <td>...</td>\n",
       "      <td>0</td>\n",
       "      <td>NaN</td>\n",
       "      <td>NaN</td>\n",
       "      <td>NaN</td>\n",
       "      <td>0</td>\n",
       "      <td>12</td>\n",
       "      <td>2008</td>\n",
       "      <td>WD</td>\n",
       "      <td>Normal</td>\n",
       "      <td>250000</td>\n",
       "    </tr>\n",
       "  </tbody>\n",
       "</table>\n",
       "<p>5 rows × 81 columns</p>\n",
       "</div>"
      ],
      "text/plain": [
       "   Id  MSSubClass MSZoning  LotFrontage  LotArea Street Alley LotShape  \\\n",
       "0   1          60       RL         65.0     8450   Pave   NaN      Reg   \n",
       "1   2          20       RL         80.0     9600   Pave   NaN      Reg   \n",
       "2   3          60       RL         68.0    11250   Pave   NaN      IR1   \n",
       "3   4          70       RL         60.0     9550   Pave   NaN      IR1   \n",
       "4   5          60       RL         84.0    14260   Pave   NaN      IR1   \n",
       "\n",
       "  LandContour Utilities  ... PoolArea PoolQC Fence MiscFeature MiscVal MoSold  \\\n",
       "0         Lvl    AllPub  ...        0    NaN   NaN         NaN       0      2   \n",
       "1         Lvl    AllPub  ...        0    NaN   NaN         NaN       0      5   \n",
       "2         Lvl    AllPub  ...        0    NaN   NaN         NaN       0      9   \n",
       "3         Lvl    AllPub  ...        0    NaN   NaN         NaN       0      2   \n",
       "4         Lvl    AllPub  ...        0    NaN   NaN         NaN       0     12   \n",
       "\n",
       "  YrSold  SaleType  SaleCondition  SalePrice  \n",
       "0   2008        WD         Normal     208500  \n",
       "1   2007        WD         Normal     181500  \n",
       "2   2008        WD         Normal     223500  \n",
       "3   2006        WD        Abnorml     140000  \n",
       "4   2008        WD         Normal     250000  \n",
       "\n",
       "[5 rows x 81 columns]"
      ]
     },
     "execution_count": 21,
     "metadata": {},
     "output_type": "execute_result"
    }
   ],
   "source": [
    "import pandas as pd\n",
    "\n",
    "train = pd.read_csv(\"house-prices-data/train.csv\")\n",
    "test = pd.read_csv(\"house-prices-data/test.csv\")\n",
    "\n",
    "print(\"Train shape:\", train.shape)\n",
    "print(\"Test shape:\", test.shape)\n",
    "train.head()\n"
   ]
  },
  {
   "cell_type": "code",
   "execution_count": 25,
   "id": "09992d0d-05aa-43dc-8f6b-46d1fc30c3ba",
   "metadata": {},
   "outputs": [
    {
     "name": "stdout",
     "output_type": "stream",
     "text": [
      "✅ Features scaled. Shapes: (1168, 36) (292, 36)\n"
     ]
    }
   ],
   "source": [
    "from sklearn.model_selection import train_test_split\n",
    "from sklearn.preprocessing import StandardScaler\n",
    "import numpy as np\n",
    "\n",
    "# Select numeric features only\n",
    "X = train.select_dtypes(include=[\"int64\", \"float64\"]).drop(columns=[\"Id\", \"SalePrice\"])\n",
    "y = train[\"SalePrice\"].values\n",
    "\n",
    "# Fill missing values with column mean (train set)\n",
    "X = X.fillna(X.mean())\n",
    "\n",
    "# Standardize (important to avoid overflow)\n",
    "scaler = StandardScaler()\n",
    "X_scaled = scaler.fit_transform(X)\n",
    "\n",
    "# Train-test split\n",
    "X_train, X_val, y_train, y_val = train_test_split(X_scaled, y, test_size=0.2, random_state=42)\n",
    "\n",
    "print(\"✅ Features scaled. Shapes:\", X_train.shape, X_val.shape)\n"
   ]
  },
  {
   "cell_type": "code",
   "execution_count": 44,
   "id": "5a16c8b0-86ae-49e6-9117-7556f45b24a4",
   "metadata": {},
   "outputs": [],
   "source": [
    "import numpy as np\n",
    "\n",
    "class LinearRegressionScratch:\n",
    "    def __init__(self, lr=0.001, epochs=1000, verbose=False):\n",
    "        self.lr = lr\n",
    "        self.epochs = epochs\n",
    "        self.verbose = verbose\n",
    "        self.W = None\n",
    "        self.b = None\n",
    "        self.losses = []\n",
    "\n",
    "    def fit(self, X, y):\n",
    "        X = np.array(X, dtype=np.float64)\n",
    "        y = np.array(y, dtype=np.float64).reshape(-1, 1)\n",
    "        n_samples, n_features = X.shape\n",
    "\n",
    "        # Initialize weights\n",
    "        self.W = np.zeros((n_features, 1), dtype=np.float64)\n",
    "        self.b = 0.0\n",
    "\n",
    "        for epoch in range(self.epochs):\n",
    "            # Forward pass\n",
    "            y_pred = X @ self.W + self.b\n",
    "            error = y_pred - y\n",
    "\n",
    "            # Gradients\n",
    "            dw = (1 / n_samples) * (X.T @ error)\n",
    "            db = (1 / n_samples) * np.sum(error)\n",
    "\n",
    "            # Update\n",
    "            self.W -= self.lr * dw\n",
    "            self.b -= self.lr * db\n",
    "\n",
    "            # MSE Loss\n",
    "            loss = np.mean(error ** 2)\n",
    "            self.losses.append(loss)\n",
    "\n",
    "            # Optional logging\n",
    "            if self.verbose and epoch % (self.epochs // 10) == 0:\n",
    "                print(f\"Epoch {epoch}: loss = {loss:.4f}\")\n",
    "\n",
    "    def predict(self, X):\n",
    "        X = np.array(X, dtype=np.float64)\n",
    "        return X @ self.W + self.b\n"
   ]
  },
  {
   "cell_type": "code",
   "execution_count": 26,
   "id": "87a83cad-6b72-46c0-8778-113f2b8fb398",
   "metadata": {},
   "outputs": [
    {
     "name": "stdout",
     "output_type": "stream",
     "text": [
      "✅ submission.csv ready for Kaggle upload\n"
     ]
    }
   ],
   "source": [
    "# Prepare test set with same preprocessing\n",
    "X_test = test.select_dtypes(include=[\"int64\", \"float64\"]).drop(columns=[\"Id\"])\n",
    "X_test = X_test.fillna(X_test.mean())\n",
    "X_test_scaled = scaler.transform(X_test)\n",
    "\n",
    "preds = model.predict(X_test_scaled)\n",
    "\n",
    "# Create submission\n",
    "submission = pd.DataFrame({\n",
    "    \"Id\": test[\"Id\"],\n",
    "    \"SalePrice\": preds.flatten()\n",
    "})\n",
    "\n",
    "submission.to_csv(\"submission.csv\", index=False)\n",
    "print(\"✅ submission.csv ready for Kaggle upload\")\n"
   ]
  },
  {
   "cell_type": "code",
   "execution_count": 27,
   "id": "7e938876-2b29-4b25-996a-ae4907ddd41a",
   "metadata": {},
   "outputs": [
    {
     "name": "stdout",
     "output_type": "stream",
     "text": [
      "Feature 21: analytic=-45659.811022, numerical=-91319.656372\n",
      "Feature 0: analytic=36177.067434, numerical=72353.744507\n",
      "Feature 24: analytic=7003.602599, numerical=14007.377625\n",
      "Feature 26: analytic=10089.548174, numerical=20178.985596\n",
      "Feature 34: analytic=-31188.394282, numerical=-62376.594543\n"
     ]
    }
   ],
   "source": [
    "def numerical_gradient_check(model, X, y, eps=1e-5, num_checks=5):\n",
    "    \"\"\"\n",
    "    Compare analytic gradient with numerical gradient\n",
    "    for random weight dimensions.\n",
    "    \"\"\"\n",
    "    X = np.array(X)\n",
    "    y = np.array(y).reshape(-1, 1)\n",
    "    n_samples, n_features = X.shape\n",
    "\n",
    "    # Current predictions\n",
    "    y_pred = X @ model.W + model.b\n",
    "    error = y_pred - y\n",
    "\n",
    "    # Analytic gradient\n",
    "    dw_analytic = (1/n_samples) * (X.T @ error)\n",
    "\n",
    "    for i in np.random.choice(n_features, num_checks, replace=False):\n",
    "        # Perturb weight i\n",
    "        old_val = model.W[i, 0]\n",
    "\n",
    "        model.W[i, 0] = old_val + eps\n",
    "        loss_plus = np.mean((X @ model.W + model.b - y) ** 2)\n",
    "\n",
    "        model.W[i, 0] = old_val - eps\n",
    "        loss_minus = np.mean((X @ model.W + model.b - y) ** 2)\n",
    "\n",
    "        # Reset\n",
    "        model.W[i, 0] = old_val\n",
    "\n",
    "        # Numerical gradient\n",
    "        dw_numerical = (loss_plus - loss_minus) / (2 * eps)\n",
    "\n",
    "        print(f\"Feature {i}: analytic={dw_analytic[i,0]:.6f}, numerical={dw_numerical:.6f}\")\n",
    "\n",
    "# Run gradient check on a small subset\n",
    "X_small = X_train[:50]\n",
    "y_small = y_train[:50]\n",
    "\n",
    "model_small = LinearRegressionScratch(lr=1e-6, epochs=10)\n",
    "model_small.fit(X_small, y_small)\n",
    "\n",
    "numerical_gradient_check(model_small, X_small, y_small)\n"
   ]
  },
  {
   "cell_type": "code",
   "execution_count": 28,
   "id": "94107088-ee92-44ec-93f1-418ea15572fa",
   "metadata": {},
   "outputs": [
    {
     "data": {
      "image/png": "[encoded data removed]",
      "text/plain": [
       "<Figure size 1200x400 with 3 Axes>"
      ]
     },
     "metadata": {},
     "output_type": "display_data"
    },
    {
     "name": "stdout",
     "output_type": "stream",
     "text": [
      "N(0,1): mean=0.02, std=0.98\n",
      "N(5,2): mean=4.91, std=2.05\n",
      "N(-3,0.5): mean=-3.00, std=0.49\n"
     ]
    }
   ],
   "source": [
    "import matplotlib.pyplot as plt\n",
    "import numpy as np\n",
    "\n",
    "def gaussian_sampling(mu, sigma, n_samples=1000):\n",
    "    return np.random.normal(mu, sigma, n_samples)\n",
    "\n",
    "# Sample from different distributions\n",
    "samples1 = gaussian_sampling(0, 1, 1000)\n",
    "samples2 = gaussian_sampling(5, 2, 1000)\n",
    "samples3 = gaussian_sampling(-3, 0.5, 1000)\n",
    "\n",
    "# Plot histograms\n",
    "plt.figure(figsize=(12,4))\n",
    "\n",
    "plt.subplot(1,3,1)\n",
    "plt.hist(samples1, bins=30, color=\"skyblue\", edgecolor=\"black\")\n",
    "plt.title(\"N(0, 1)\")\n",
    "\n",
    "plt.subplot(1,3,2)\n",
    "plt.hist(samples2, bins=30, color=\"lightgreen\", edgecolor=\"black\")\n",
    "plt.title(\"N(5, 2)\")\n",
    "\n",
    "plt.subplot(1,3,3)\n",
    "plt.hist(samples3, bins=30, color=\"salmon\", edgecolor=\"black\")\n",
    "plt.title(\"N(-3, 0.5)\")\n",
    "\n",
    "plt.tight_layout()\n",
    "plt.show()\n",
    "\n",
    "# Show sample statistics\n",
    "for name, samples in zip([\"N(0,1)\", \"N(5,2)\", \"N(-3,0.5)\"], [samples1, samples2, samples3]):\n",
    "    print(f\"{name}: mean={np.mean(samples):.2f}, std={np.std(samples):.2f}\")\n"
   ]
  },
  {
   "cell_type": "code",
   "execution_count": 48,
   "id": "4c5f4d6c-dcea-4221-a142-65e21244fa8a",
   "metadata": {},
   "outputs": [
    {
     "name": "stdout",
     "output_type": "stream",
     "text": [
      "✅ Encoded + scaled shapes: (1460, 288) (1459, 288)\n",
      "✅ submission.csv saved!\n"
     ]
    }
   ],
   "source": [
    "import numpy as np\n",
    "import pandas as pd\n",
    "\n",
    "# 1. Separate features & target\n",
    "X_train_full = train.drop(\"SalePrice\", axis=1)\n",
    "y_train_full = train[\"SalePrice\"]\n",
    "X_test = test.copy()\n",
    "\n",
    "# 2. One-hot encode categorical features\n",
    "all_data = pd.concat([X_train_full, X_test], axis=0)\n",
    "all_data = pd.get_dummies(all_data)  # one-hot encode strings → numbers\n",
    "\n",
    "# 3. Split back into train/test\n",
    "X_train_full = all_data.iloc[:len(train), :].values\n",
    "X_test = all_data.iloc[len(train):, :].values\n",
    "\n",
    "# 4. Scale features\n",
    "from sklearn.preprocessing import StandardScaler\n",
    "scaler = StandardScaler()\n",
    "X_train_full = scaler.fit_transform(X_train_full)\n",
    "X_test = scaler.transform(X_test)\n",
    "\n",
    "print(\"✅ Encoded + scaled shapes:\", X_train_full.shape, X_test.shape)\n",
    "\n",
    "\n",
    "# ===== 3. Train our Numpy Linear Regression =====\n",
    "\n",
    "model = LinearRegressionScratch(lr=0.01, epochs=2000)\n",
    "\n",
    "model.fit(X_train_full, y_train_full)\n",
    "y_test_pred = model.predict(X_test)\n",
    "\n",
    "# Fix potential NaN/Inf\n",
    "y_test_pred = np.nan_to_num(\n",
    "    y_test_pred,\n",
    "    nan=np.nanmean(y_train_full),\n",
    "    posinf=np.max(y_train_full),\n",
    "    neginf=np.min(y_train_full)\n",
    ")\n",
    "\n",
    "# Make sure predictions are 1D\n",
    "y_test_pred = y_test_pred.ravel()\n",
    "\n",
    "# Build submission\n",
    "submission = pd.DataFrame({\n",
    "    \"Id\": test[\"Id\"],\n",
    "    \"SalePrice\": y_test_pred\n",
    "})\n",
    "submission.to_csv(\"submission.csv\", index=False)\n",
    "print(\"✅ submission.csv saved!\")\n"
   ]
  },
  {
   "cell_type": "code",
   "execution_count": 49,
   "id": "669dc5d0-291f-4af8-8800-689fd1dc4f2d",
   "metadata": {},
   "outputs": [
    {
     "name": "stdout",
     "output_type": "stream",
     "text": [
      "Successfully submitted to House Prices - Advanced Regression Techniques\n"
     ]
    },
    {
     "name": "stderr",
     "output_type": "stream",
     "text": [
      "\n",
      "  0%|          | 0.00/35.6k [00:00<?, ?B/s]\n",
      " 22%|##2       | 8.00k/35.6k [00:00<00:00, 66.3kB/s]\n",
      "100%|##########| 35.6k/35.6k [00:00<00:00, 38.7kB/s]\n"
     ]
    }
   ],
   "source": [
    "!kaggle competitions submit -c house-prices-advanced-regression-techniques -f submission.csv -m \"My LNR submission\"\n"
   ]
  },
  {
   "cell_type": "code",
   "execution_count": 33,
   "id": "d865c5de-3fec-40be-8530-f311674ee1a9",
   "metadata": {},
   "outputs": [
    {
     "ename": "NameError",
     "evalue": "name 'y_test_pred' is not defined",
     "output_type": "error",
     "traceback": [
      "\u001b[1;31m---------------------------------------------------------------------------\u001b[0m",
      "\u001b[1;31mNameError\u001b[0m                                 Traceback (most recent call last)",
      "Cell \u001b[1;32mIn[33], line 6\u001b[0m\n\u001b[0;32m      2\u001b[0m \u001b[38;5;28;01mimport\u001b[39;00m\u001b[38;5;250m \u001b[39m\u001b[38;5;21;01mpandas\u001b[39;00m\u001b[38;5;250m \u001b[39m\u001b[38;5;28;01mas\u001b[39;00m\u001b[38;5;250m \u001b[39m\u001b[38;5;21;01mpd\u001b[39;00m\n\u001b[0;32m      4\u001b[0m \u001b[38;5;66;03m# y_test_pred = your model predictions on test set\u001b[39;00m\n\u001b[0;32m      5\u001b[0m \u001b[38;5;66;03m# Replace NaN/inf with a safe fallback (like mean price)\u001b[39;00m\n\u001b[1;32m----> 6\u001b[0m y_test_pred \u001b[38;5;241m=\u001b[39m np\u001b[38;5;241m.\u001b[39mnan_to_num(\u001b[43my_test_pred\u001b[49m, nan\u001b[38;5;241m=\u001b[39mnp\u001b[38;5;241m.\u001b[39mnanmean(y_train), posinf\u001b[38;5;241m=\u001b[39mnp\u001b[38;5;241m.\u001b[39mmax(y_train), neginf\u001b[38;5;241m=\u001b[39mnp\u001b[38;5;241m.\u001b[39mmin(y_train))\n\u001b[0;32m      8\u001b[0m \u001b[38;5;66;03m# Build submission DataFrame\u001b[39;00m\n\u001b[0;32m      9\u001b[0m submission \u001b[38;5;241m=\u001b[39m pd\u001b[38;5;241m.\u001b[39mDataFrame({\n\u001b[0;32m     10\u001b[0m     \u001b[38;5;124m\"\u001b[39m\u001b[38;5;124mId\u001b[39m\u001b[38;5;124m\"\u001b[39m: test_df[\u001b[38;5;124m\"\u001b[39m\u001b[38;5;124mId\u001b[39m\u001b[38;5;124m\"\u001b[39m],\n\u001b[0;32m     11\u001b[0m     \u001b[38;5;124m\"\u001b[39m\u001b[38;5;124mSalePrice\u001b[39m\u001b[38;5;124m\"\u001b[39m: y_test_pred\n\u001b[0;32m     12\u001b[0m })\n",
      "\u001b[1;31mNameError\u001b[0m: name 'y_test_pred' is not defined"
     ]
    }
   ],
   "source": [
    "import numpy as np\n",
    "import pandas as pd\n",
    "\n",
    "# y_test_pred = your model predictions on test set\n",
    "# Replace NaN/inf with a safe fallback (like mean price)\n",
    "y_test_pred = np.nan_to_num(y_test_pred, nan=np.nanmean(y_train), posinf=np.max(y_train), neginf=np.min(y_train))\n",
    "\n",
    "# Build submission DataFrame\n",
    "submission = pd.DataFrame({\n",
    "    \"Id\": test_df[\"Id\"],\n",
    "    \"SalePrice\": y_test_pred\n",
    "})\n",
    "\n",
    "# Save\n",
    "submission.to_csv(\"submission.csv\", index=False)\n",
    "print(\"✅ submission.csv saved with shape:\", submission.shape)\n"
   ]
  },
  {
   "cell_type": "code",
   "execution_count": null,
   "id": "79242ab9-af98-41c4-b9af-6c8be5f1841b",
   "metadata": {},
   "outputs": [],
   "source": []
  }
 ],
 "metadata": {
  "kernelspec": {
   "display_name": "Python [conda env:Anaconda3-mobipi]",
   "language": "python",
   "name": "conda-env-Anaconda3-mobipi-py"
  },
  "language_info": {
   "codemirror_mode": {
    "name": "ipython",
    "version": 3
   },
   "file_extension": ".py",
   "mimetype": "text/x-python",
   "name": "python",
   "nbconvert_exporter": "python",
   "pygments_lexer": "ipython3",
   "version": "3.10.18"
  }
 },
 "nbformat": 4,
 "nbformat_minor": 5
}
