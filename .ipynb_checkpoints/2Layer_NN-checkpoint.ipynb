{
 "cells": [
  {
   "cell_type": "markdown",
   "id": "91cd5f72-3455-4015-a294-62e07aee0a74",
   "metadata": {},
   "source": [
    "Import"
   ]
  },
  {
   "cell_type": "code",
   "execution_count": 1,
   "id": "cdf49700-777e-4359-9537-672f50de6350",
   "metadata": {},
   "outputs": [],
   "source": [
    "import matplotlib.pyplot as plt\n",
    "import numpy as np\n",
    "from sklearn.datasets import fetch_openml\n",
    "from sklearn.model_selection import train_test_split\n",
    "from sklearn.preprocessing import OneHotEncoder"
   ]
  },
  {
   "cell_type": "markdown",
   "id": "2823f77a-77c9-49e6-9b6f-cda75279f3a6",
   "metadata": {},
   "source": [
    "Load & Preprocess MNIST"
   ]
  },
  {
   "cell_type": "code",
   "execution_count": 2,
   "id": "1538ce3f-d349-41af-af68-5edd59b7a1b5",
   "metadata": {},
   "outputs": [
    {
     "name": "stdout",
     "output_type": "stream",
     "text": [
      "Train: (8000, 784) (8000, 10)\n",
      "Val: (2000, 784) (2000, 10)\n"
     ]
    }
   ],
   "source": [
    "# Load MNIST (70k images, 28x28)\n",
    "mnist = fetch_openml(\"mnist_784\", version=1, as_frame=False)\n",
    "X, y = mnist[\"data\"], mnist[\"target\"].astype(int)\n",
    "\n",
    "# Normalize to [0,1]\n",
    "X = X / 255.0\n",
    "\n",
    "# Take a subset for speed (e.g., 10000 samples)\n",
    "X, _, y, _ = train_test_split(X, y, train_size=10000, stratify=y, random_state=42)\n",
    "\n",
    "# Train/validation split\n",
    "X_train, X_val, y_train, y_val = train_test_split(X, y, test_size=0.2, random_state=42)\n",
    "\n",
    "# One-hot encode labels\n",
    "encoder = OneHotEncoder(sparse_output=False, categories=\"auto\")\n",
    "y_train_oh = encoder.fit_transform(y_train.reshape(-1,1))\n",
    "y_val_oh   = encoder.transform(y_val.reshape(-1,1))\n",
    "\n",
    "print(\"Train:\", X_train.shape, y_train_oh.shape)\n",
    "print(\"Val:\", X_val.shape, y_val_oh.shape)\n"
   ]
  },
  {
   "cell_type": "markdown",
   "id": "0349c010-3069-469f-9326-1ff186377086",
   "metadata": {},
   "source": [
    "Define Neural Network (2 layers)"
   ]
  },
  {
   "cell_type": "code",
   "execution_count": 4,
   "id": "f65f0cc2-ad12-4248-986d-2ed91628270f",
   "metadata": {},
   "outputs": [],
   "source": [
    "class TwoLayerNN:\n",
    "    def __init__(self, input_dim, hidden_dim, output_dim, lr=0.01):\n",
    "        # Xavier init\n",
    "        self.W1 = np.random.randn(input_dim, hidden_dim) / np.sqrt(input_dim)\n",
    "        self.b1 = np.zeros((1, hidden_dim))\n",
    "        self.W2 = np.random.randn(hidden_dim, output_dim) / np.sqrt(hidden_dim)\n",
    "        self.b2 = np.zeros((1, output_dim))\n",
    "        self.lr = lr\n",
    "        self.losses = []\n",
    "\n",
    "    # Activation\n",
    "    def relu(self, z):\n",
    "        return np.maximum(0, z)\n",
    "\n",
    "    def relu_deriv(self, z):\n",
    "        return (z > 0).astype(float)\n",
    "\n",
    "    def softmax(self, z):\n",
    "        exp = np.exp(z - np.max(z, axis=1, keepdims=True))\n",
    "        return exp / np.sum(exp, axis=1, keepdims=True)\n",
    "\n",
    "    # Forward\n",
    "    def forward(self, X):\n",
    "        self.z1 = X @ self.W1 + self.b1\n",
    "        self.a1 = self.relu(self.z1)\n",
    "        self.z2 = self.a1 @ self.W2 + self.b2\n",
    "        self.a2 = self.softmax(self.z2)\n",
    "        return self.a2\n",
    "\n",
    "    # Loss\n",
    "    def compute_loss(self, y_true, y_pred):\n",
    "        m = y_true.shape[0]\n",
    "        eps = 1e-8\n",
    "        #Cross entropy\n",
    "        return -np.sum(y_true * np.log(y_pred + eps)) / m\n",
    "\n",
    "    # Backward\n",
    "    def backward(self, X, y_true, y_pred):\n",
    "        m = X.shape[0]\n",
    "\n",
    "        dz2 = y_pred - y_true\n",
    "        dW2 = (self.a1.T @ dz2) / m\n",
    "        db2 = np.sum(dz2, axis=0, keepdims=True) / m\n",
    "\n",
    "        dz1 = (dz2 @ self.W2.T) * self.relu_deriv(self.z1)\n",
    "        dW1 = (X.T @ dz1) / m\n",
    "        db1 = np.sum(dz1, axis=0, keepdims=True) / m\n",
    "\n",
    "        # Gradient descent update\n",
    "        self.W1 -= self.lr * dW1\n",
    "        self.b1 -= self.lr * db1\n",
    "        self.W2 -= self.lr * dW2\n",
    "        self.b2 -= self.lr * db2\n",
    "\n",
    "    # Training step\n",
    "    def train(self, X, y, X_val, y_val, epochs=50, batch_size=64):\n",
    "        m = X.shape[0]\n",
    "        for epoch in range(epochs):\n",
    "            # Shuffle\n",
    "            idx = np.random.permutation(m)\n",
    "            X, y = X[idx], y[idx]\n",
    "\n",
    "            for i in range(0, m, batch_size):\n",
    "                X_batch = X[i:i+batch_size]\n",
    "                y_batch = y[i:i+batch_size]\n",
    "\n",
    "                y_pred = self.forward(X_batch)\n",
    "                loss = self.compute_loss(y_batch, y_pred)\n",
    "                self.backward(X_batch, y_batch, y_pred)\n",
    "\n",
    "            # Track val loss\n",
    "            y_val_pred = self.forward(X_val)\n",
    "            val_loss = self.compute_loss(y_val, y_val_pred)\n",
    "            self.losses.append(val_loss)\n",
    "\n",
    "            if epoch % 5 == 0:\n",
    "                acc = self.accuracy(y_val, y_val_pred)\n",
    "                print(f\"Epoch {epoch}: val_loss={val_loss:.4f}, val_acc={acc:.4f}\")\n",
    "\n",
    "    # Prediction\n",
    "    def predict(self, X):\n",
    "        probs = self.forward(X)\n",
    "        return np.argmax(probs, axis=1)\n",
    "\n",
    "    def accuracy(self, y_true, y_pred_probs):\n",
    "        y_true_labels = np.argmax(y_true, axis=1)\n",
    "        y_pred_labels = np.argmax(y_pred_probs, axis=1)\n",
    "        return np.mean(y_true_labels == y_pred_labels)\n"
   ]
  },
  {
   "cell_type": "markdown",
   "id": "66770823-90da-4285-81a7-2e4cff11b448",
   "metadata": {},
   "source": [
    "Traain on MNIST"
   ]
  },
  {
   "cell_type": "code",
   "execution_count": 5,
   "id": "044c74bc-8ebc-489f-b596-97b5a94d634d",
   "metadata": {},
   "outputs": [
    {
     "name": "stdout",
     "output_type": "stream",
     "text": [
      "Epoch 0: val_loss=0.6474, val_acc=0.8605\n",
      "Epoch 5: val_loss=0.3517, val_acc=0.8970\n",
      "Epoch 10: val_loss=0.3000, val_acc=0.9110\n",
      "Epoch 15: val_loss=0.2720, val_acc=0.9175\n",
      "Epoch 20: val_loss=0.2578, val_acc=0.9220\n",
      "Epoch 25: val_loss=0.2414, val_acc=0.9245\n",
      "Epoch 30: val_loss=0.2347, val_acc=0.9290\n",
      "Epoch 35: val_loss=0.2252, val_acc=0.9320\n",
      "Epoch 40: val_loss=0.2206, val_acc=0.9315\n",
      "Epoch 45: val_loss=0.2205, val_acc=0.9365\n"
     ]
    }
   ],
   "source": [
    "model = TwoLayerNN(input_dim=784, hidden_dim=128, output_dim=10, lr=0.1)\n",
    "model.train(X_train, y_train_oh, X_val, y_val_oh, epochs=50, batch_size=128)\n"
   ]
  },
  {
   "cell_type": "code",
   "execution_count": 6,
   "id": "84e728f2-c1a9-4758-811a-1d2c4a373733",
   "metadata": {},
   "outputs": [
    {
     "name": "stdout",
     "output_type": "stream",
     "text": [
      "✅ Final Validation Accuracy: 0.937\n"
     ]
    },
    {
     "data": {
      "image/png": "[encoded data removed]",
      "text/plain": [
       "<Figure size 640x480 with 1 Axes>"
      ]
     },
     "metadata": {},
     "output_type": "display_data"
    }
   ],
   "source": [
    "y_val_pred = model.predict(X_val)\n",
    "val_acc = np.mean(y_val_pred == y_val)\n",
    "print(\"✅ Final Validation Accuracy:\", val_acc)\n",
    "\n",
    "# Plot loss curve\n",
    "plt.plot(model.losses)\n",
    "plt.xlabel(\"Epoch\")\n",
    "plt.ylabel(\"Validation Loss\")\n",
    "plt.title(\"Training Curve\")\n",
    "plt.show()\n"
   ]
  },
  {
   "cell_type": "code",
   "execution_count": null,
   "id": "a8a14e91-362c-443a-b43d-e4ce34c5f1e8",
   "metadata": {},
   "outputs": [],
   "source": []
  }
 ],
 "metadata": {
  "kernelspec": {
   "display_name": "Python [conda env:Anaconda3-mobipi]",
   "language": "python",
   "name": "conda-env-Anaconda3-mobipi-py"
  },
  "language_info": {
   "codemirror_mode": {
    "name": "ipython",
    "version": 3
   },
   "file_extension": ".py",
   "mimetype": "text/x-python",
   "name": "python",
   "nbconvert_exporter": "python",
   "pygments_lexer": "ipython3",
   "version": "3.10.18"
  }
 },
 "nbformat": 4,
 "nbformat_minor": 5
}
