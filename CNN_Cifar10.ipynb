{
 "cells": [
  {
   "cell_type": "code",
   "execution_count": 2,
   "id": "66e0b29b-abff-418d-bd83-fe1096dad559",
   "metadata": {},
   "outputs": [],
   "source": [
    "import torch\n",
    "import torch.nn as nn\n",
    "import torch.nn.functional as F\n",
    "import torch.optim as optim\n",
    "import torchvision\n",
    "import torchvision.transforms as transforms"
   ]
  },
  {
   "cell_type": "markdown",
   "id": "edeee205-5e2c-46c6-b3e5-d116f6321df8",
   "metadata": {},
   "source": [
    "Data preparation\n"
   ]
  },
  {
   "cell_type": "code",
   "execution_count": 3,
   "id": "a7b938da-9fbb-4afa-a696-2953fa8ee16b",
   "metadata": {},
   "outputs": [
    {
     "name": "stdout",
     "output_type": "stream",
     "text": [
      "Downloading https://www.cs.toronto.edu/~kriz/cifar-10-python.tar.gz to ./data\\cifar-10-python.tar.gz\n"
     ]
    },
    {
     "name": "stderr",
     "output_type": "stream",
     "text": [
      "100%|██████████| 170498071/170498071 [00:32<00:00, 5169011.26it/s] \n"
     ]
    },
    {
     "name": "stdout",
     "output_type": "stream",
     "text": [
      "Extracting ./data\\cifar-10-python.tar.gz to ./data\n",
      "Files already downloaded and verified\n"
     ]
    }
   ],
   "source": [
    "\n",
    "transform = transforms.Compose([\n",
    "    transforms.ToTensor(),\n",
    "    transforms.Normalize((0.5, 0.5, 0.5), (0.5, 0.5, 0.5))  # normalize RGB channels\n",
    "])\n",
    "\n",
    "# CIFAR-10 train dataset (auto-download if not present in ./data)\n",
    "trainset = torchvision.datasets.CIFAR10(\n",
    "    root='./data', train=True, download=True, transform=transform\n",
    ")\n",
    "trainloader = torch.utils.data.DataLoader(trainset, batch_size=64, shuffle=True)\n",
    "\n",
    "# CIFAR-10 test dataset\n",
    "testset = torchvision.datasets.CIFAR10(\n",
    "    root='./data', train=False, download=True, transform=transform\n",
    ")\n",
    "testloader = torch.utils.data.DataLoader(testset, batch_size=64, shuffle=False)\n",
    "\n",
    "classes = ('plane','car','bird','cat','deer',\n",
    "           'dog','frog','horse','ship','truck')"
   ]
  },
  {
   "cell_type": "markdown",
   "id": "cef45ee4-e041-4a17-9aeb-0377e86d3683",
   "metadata": {},
   "source": [
    "Define CNN"
   ]
  },
  {
   "cell_type": "code",
   "execution_count": 4,
   "id": "acd8b1e7-319f-43c8-a99e-fa5b3e80fe64",
   "metadata": {},
   "outputs": [],
   "source": [
    "\n",
    "class SimpleCNN(nn.Module):\n",
    "    def __init__(self):\n",
    "        super(SimpleCNN, self).__init__()\n",
    "        self.conv1 = nn.Conv2d(3, 32, kernel_size=3, padding=1)\n",
    "        self.pool = nn.MaxPool2d(2, 2)\n",
    "        self.conv2 = nn.Conv2d(32, 64, kernel_size=3, padding=1)\n",
    "        self.fc1 = nn.Linear(64 * 8 * 8, 128)\n",
    "        self.fc2 = nn.Linear(128, 10)\n",
    "\n",
    "    def forward(self, x):\n",
    "        x = self.pool(F.relu(self.conv1(x)))  # 32x32 -> 16x16\n",
    "        x = self.pool(F.relu(self.conv2(x)))  # 16x16 -> 8x8\n",
    "        x = x.view(-1, 64 * 8 * 8)            # flatten\n",
    "        x = F.relu(self.fc1(x))\n",
    "        x = self.fc2(x)\n",
    "        return x"
   ]
  },
  {
   "cell_type": "markdown",
   "id": "11613db8-5fc7-4166-9e8f-a1b6f3543a3c",
   "metadata": {},
   "source": [
    "Training setup"
   ]
  },
  {
   "cell_type": "code",
   "execution_count": 5,
   "id": "de098943-8744-4e15-92ba-1bcab19cd562",
   "metadata": {},
   "outputs": [],
   "source": [
    "device = torch.device(\"cuda\" if torch.cuda.is_available() else \"cpu\")\n",
    "net = SimpleCNN().to(device)\n",
    "\n",
    "criterion = nn.CrossEntropyLoss()\n",
    "optimizer = optim.Adam(net.parameters(), lr=0.001)"
   ]
  },
  {
   "cell_type": "markdown",
   "id": "950ff209-598a-4fd8-9a30-d1a3395239e8",
   "metadata": {},
   "source": [
    "# -----------------------------\n",
    "# 4. Training loop"
   ]
  },
  {
   "cell_type": "code",
   "execution_count": 6,
   "id": "bcfd09f7-5c5b-4313-8792-14f2bbf968fc",
   "metadata": {},
   "outputs": [
    {
     "name": "stdout",
     "output_type": "stream",
     "text": [
      "[Epoch 1, Batch 100] loss: 1.842\n",
      "[Epoch 1, Batch 200] loss: 1.483\n",
      "[Epoch 1, Batch 300] loss: 1.384\n",
      "[Epoch 1, Batch 400] loss: 1.308\n",
      "[Epoch 1, Batch 500] loss: 1.253\n",
      "[Epoch 1, Batch 600] loss: 1.181\n",
      "[Epoch 1, Batch 700] loss: 1.144\n",
      "[Epoch 2, Batch 100] loss: 1.010\n",
      "[Epoch 2, Batch 200] loss: 1.002\n",
      "[Epoch 2, Batch 300] loss: 0.996\n",
      "[Epoch 2, Batch 400] loss: 0.956\n",
      "[Epoch 2, Batch 500] loss: 0.961\n",
      "[Epoch 2, Batch 600] loss: 0.927\n",
      "[Epoch 2, Batch 700] loss: 0.921\n",
      "[Epoch 3, Batch 100] loss: 0.843\n",
      "[Epoch 3, Batch 200] loss: 0.809\n",
      "[Epoch 3, Batch 300] loss: 0.800\n",
      "[Epoch 3, Batch 400] loss: 0.798\n",
      "[Epoch 3, Batch 500] loss: 0.784\n",
      "[Epoch 3, Batch 600] loss: 0.813\n",
      "[Epoch 3, Batch 700] loss: 0.787\n",
      "[Epoch 4, Batch 100] loss: 0.648\n",
      "[Epoch 4, Batch 200] loss: 0.701\n",
      "[Epoch 4, Batch 300] loss: 0.678\n",
      "[Epoch 4, Batch 400] loss: 0.692\n",
      "[Epoch 4, Batch 500] loss: 0.704\n",
      "[Epoch 4, Batch 600] loss: 0.695\n",
      "[Epoch 4, Batch 700] loss: 0.691\n",
      "[Epoch 5, Batch 100] loss: 0.534\n",
      "[Epoch 5, Batch 200] loss: 0.569\n",
      "[Epoch 5, Batch 300] loss: 0.587\n",
      "[Epoch 5, Batch 400] loss: 0.587\n",
      "[Epoch 5, Batch 500] loss: 0.604\n",
      "[Epoch 5, Batch 600] loss: 0.601\n",
      "[Epoch 5, Batch 700] loss: 0.588\n",
      "✅ Training finished\n"
     ]
    }
   ],
   "source": [
    "\n",
    "for epoch in range(5):  # train for 5 epochs\n",
    "    running_loss = 0.0\n",
    "    for i, (inputs, labels) in enumerate(trainloader):\n",
    "        inputs, labels = inputs.to(device), labels.to(device)\n",
    "\n",
    "        optimizer.zero_grad()\n",
    "        outputs = net(inputs)\n",
    "        loss = criterion(outputs, labels)\n",
    "        loss.backward()\n",
    "        optimizer.step()\n",
    "\n",
    "        running_loss += loss.item()\n",
    "        if i % 100 == 99:\n",
    "            print(f\"[Epoch {epoch+1}, Batch {i+1}] loss: {running_loss/100:.3f}\")\n",
    "            running_loss = 0.0\n",
    "\n",
    "print(\"✅ Training finished\")"
   ]
  },
  {
   "cell_type": "markdown",
   "id": "c598bfcc-8f1a-4c77-a26f-10a65b4c27a8",
   "metadata": {},
   "source": [
    " Evaluation"
   ]
  },
  {
   "cell_type": "code",
   "execution_count": 7,
   "id": "7dee67fc-686c-4e0e-a2f7-3dce389aabb3",
   "metadata": {},
   "outputs": [
    {
     "name": "stdout",
     "output_type": "stream",
     "text": [
      "Test Accuracy: 72.14%\n"
     ]
    }
   ],
   "source": [
    "\n",
    "correct = 0\n",
    "total = 0\n",
    "net.eval()\n",
    "\n",
    "with torch.no_grad():\n",
    "    for images, labels in testloader:\n",
    "        images, labels = images.to(device), labels.to(device)\n",
    "        outputs = net(images)\n",
    "        _, predicted = torch.max(outputs, 1)\n",
    "        total += labels.size(0)\n",
    "        correct += (predicted == labels).sum().item()\n",
    "\n",
    "print(f\"Test Accuracy: {100 * correct / total:.2f}%\")\n"
   ]
  }
 ],
 "metadata": {
  "kernelspec": {
   "display_name": "Python [conda env:Anaconda3-mobipi]",
   "language": "python",
   "name": "conda-env-Anaconda3-mobipi-py"
  },
  "language_info": {
   "codemirror_mode": {
    "name": "ipython",
    "version": 3
   },
   "file_extension": ".py",
   "mimetype": "text/x-python",
   "name": "python",
   "nbconvert_exporter": "python",
   "pygments_lexer": "ipython3",
   "version": "3.10.18"
  }
 },
 "nbformat": 4,
 "nbformat_minor": 5
}
